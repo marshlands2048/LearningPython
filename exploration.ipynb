{
 "cells": [
  {
   "cell_type": "markdown",
   "id": "c64a5510",
   "metadata": {
    "tags": []
   },
   "source": [
    "# About This Notebook\n",
    "This is `exploration`, the Jupyter Notebook where we try out new pieces of code from _Python for Kids_. We do not copy down **any** notes, except for our own observations and thoughts on where this can be applied.\n",
    "# Creating a New Game: Bounce!\n",
    "## Part 1: The ball\n",
    "First, we create a Game Canvas!"
   ]
  },
  {
   "cell_type": "code",
   "execution_count": 1,
   "id": "070d00cf",
   "metadata": {},
   "outputs": [],
   "source": [
    "from tkinter import *\n",
    "import random\n",
    "import time\n",
    "tk = Tk()\n",
    "tk.title('Game')\n",
    "tk.resizable(0, 0)\n",
    "tk.wm_attributes(\"-topmost\", 1)\n",
    "canvas = Canvas(tk, width=500, height=400, bd=0, highlightthickness=0)\n",
    "canvas.pack()\n",
    "tk.update()"
   ]
  },
  {
   "cell_type": "markdown",
   "id": "41828e63",
   "metadata": {
    "tags": []
   },
   "source": [
    "What's going on here?!\n",
    "\n",
    "We titled the `tkinter` window 'Game'.\n",
    "\n",
    "Then, we used `resizable` to make the window a fixed size. The parameters `0, 0` say “the size of the window cannot be changed either horizontally or vertically.” \n",
    "\n",
    "Next, we call `wm_attributes` to tell `tkinter` to place \n",
    "the window containing our canvas in front of all other windows \n",
    "(`\"-topmost\"`). \n",
    "\n",
    "Both `bd=0` and `highlightthickness=0` make sure that there’s no border around the outside of the canvas. _FYI, `canvas.pack` tells the canvas to size itself according to the width and height parameters given in the preceding (previous) line._ \n",
    "\n",
    "_BTW, `tk.update` makes `tkinter` initialise itself for animations._\n",
    "\n",
    "## Creating the Ball Class"
   ]
  },
  {
   "cell_type": "code",
   "execution_count": 2,
   "id": "81f14051",
   "metadata": {},
   "outputs": [],
   "source": [
    "class Ball:\n",
    "    def __init__(self, canvas, color):\n",
    "        self.canvas = canvas\n",
    "        self.id = canvas.create_oval(10, 10, 25, 25, fill=color)\n",
    "        self.canvas.move(self.id, 245, 100)\n",
    "    def draw(self):\n",
    "        pass"
   ]
  },
  {
   "cell_type": "markdown",
   "id": "05e1c0fd",
   "metadata": {},
   "source": [
    "This has to be added after importing the three modules. \n",
    "\n",
    "We create an oval (or ball) at line 4. We store the identifierof the oval in `id`. \n",
    "\n",
    "The ball moves to the centre.\n",
    "\n",
    "Then, we define `draw(self)` and pass it."
   ]
  },
  {
   "cell_type": "code",
   "execution_count": null,
   "id": "46ec2bd6",
   "metadata": {},
   "outputs": [],
   "source": [
    "ball = Ball(canvas, 'red')"
   ]
  },
  {
   "cell_type": "code",
   "execution_count": null,
   "id": "7ab8fa02",
   "metadata": {},
   "outputs": [],
   "source": [
    "while 1:\n",
    "    tk.update_idletasks()\n",
    "    tk.update()\n",
    "    time.sleep(0.01)"
   ]
  },
  {
   "cell_type": "markdown",
   "id": "ec4650a4",
   "metadata": {},
   "source": [
    "This creates a ball. \n",
    "\n",
    "Boom! And this loop will run forever! Just as we learnt when creating animations, this enables animations. `tl.update_idletasks()` tell `tkinter` to quickly refresh the canvas, just like `update`. The differece is... idk.\n",
    "\n",
    "### Making the Ball Move"
   ]
  },
  {
   "cell_type": "code",
   "execution_count": 5,
   "id": "4be36e24",
   "metadata": {},
   "outputs": [],
   "source": [
    "class Ball:\n",
    "    def __init__(self, canvas, color):\n",
    "        self.canvas = canvas\n",
    "        self.id = canvas.create_oval(10, 10, 25, 25, fill=color)\n",
    "        self.canvas.move(self.id, 245, 100)\n",
    "    def draw(self):\n",
    "        self.canvas.move(self.id, 0, -1)"
   ]
  },
  {
   "cell_type": "code",
   "execution_count": null,
   "id": "06ea00c5",
   "metadata": {},
   "outputs": [],
   "source": [
    "while 1:\n",
    "    ball.draw()\n",
    "    tk.update_idletasks()\n",
    "    tk.update()\n",
    "    time.sleep(0.01)"
   ]
  },
  {
   "cell_type": "markdown",
   "id": "fda2e12b",
   "metadata": {},
   "source": [
    "Now, the ball will just float up to nowhere and vanish. This is the right flow of the code:"
   ]
  },
  {
   "cell_type": "code",
   "execution_count": null,
   "id": "fc1e71bd",
   "metadata": {},
   "outputs": [],
   "source": [
    "from tkinter import *\n",
    "import random\n",
    "import time"
   ]
  },
  {
   "cell_type": "code",
   "execution_count": 8,
   "id": "84bd49bd",
   "metadata": {},
   "outputs": [],
   "source": [
    "class Ball:\n",
    "    def __init__(self, canvas, color):\n",
    "        self.canvas = canvas\n",
    "        self.id = canvas.create_oval(10, 10, 25, 25, fill=color)\n",
    "        self.canvas.move(self.id, 245, 100)\n",
    "    def draw(self):\n",
    "        self.canvas.move(self.id, 0, -1)"
   ]
  },
  {
   "cell_type": "code",
   "execution_count": null,
   "id": "4d3c7c7d",
   "metadata": {},
   "outputs": [],
   "source": [
    "tk = Tk()\n",
    "tk.title('Game')\n",
    "tk.resizable(0, 0)\n",
    "tk.wm_attributes(\"-topmost\", 1)\n",
    "canvas = Canvas(tk, width=500, height=400, bd=0, highlightthickness=0)\n",
    "canvas.pack()\n",
    "tk.update()"
   ]
  },
  {
   "cell_type": "code",
   "execution_count": null,
   "id": "87113c0d",
   "metadata": {},
   "outputs": [],
   "source": [
    "ball = Ball(canvas, 'red')"
   ]
  },
  {
   "cell_type": "code",
   "execution_count": null,
   "id": "14481562",
   "metadata": {},
   "outputs": [],
   "source": [
    "while 1:\n",
    "    ball.draw()\n",
    "    tk.update_idletasks()\n",
    "    tk.update()\n",
    "    time.sleep(0.01)"
   ]
  },
  {
   "cell_type": "markdown",
   "id": "f189b08b",
   "metadata": {},
   "source": [
    "### Making the Ball Bounce"
   ]
  },
  {
   "cell_type": "code",
   "execution_count": null,
   "id": "1be3dd17",
   "metadata": {},
   "outputs": [],
   "source": [
    "class Ball:\n",
    "    def __init__(self, canvas, color):\n",
    "        self.canvas = canvas\n",
    "        self.id = canvas.create_oval(10, 10, 25, 25, fill=color)\n",
    "        self.canvas.move(self.id, 245, 100)\n",
    "        # We added these 3 lines!\n",
    "        self.x = 0\n",
    "        self.y = -1\n",
    "        self.canvas_height = self.canvas.winfo_height()\n",
    "    def draw(self):\n",
    "        self.canvas.move(self.id, self.x, self.y)\n",
    "        pos = self.canvas.coords(self.id)\n",
    "        if pos[1] <= 0:\n",
    "            self.y = 1 \n",
    "        if pos[3] >= self.canvas_height:\n",
    "            self.y = -1"
   ]
  },
  {
   "cell_type": "markdown",
   "id": "bb487d73",
   "metadata": {},
   "source": [
    "`winfo_height` returns the height of the canvas.\n",
    "`pos` gets the value of `self.canvas.coords(self.id)`, which is a function that returns the coordinates of an object on the screen as a list of 4 numbers, like this:\n",
    "\n",
    "`print(self.canvas.coords(self.id))\n",
    "[255.0, 29.0, 270.0, 44.0]`.\n",
    "\n",
    "The numbers are in this order: x1 (the left of the ball), y1 (top), x2 (right), y2 (bottom).\n",
    "\n",
    "Now, the ball should bounce up and down!"
   ]
  },
  {
   "cell_type": "code",
   "execution_count": null,
   "id": "5277b1b5",
   "metadata": {},
   "outputs": [],
   "source": [
    "class Ball:\n",
    "    def __init__(self, canvas, color):\n",
    "        self.canvas = canvas\n",
    "        self.id = canvas.create_oval(10, 10, 25, 25, fill=color)\n",
    "        self.canvas.move(self.id, 245, 100)\n",
    "        # We replace\n",
    "        # self.x = 0    and\n",
    "        # self.y = -1    with\n",
    "        starts = [-3, -2, -1, 1, 2, 3]\n",
    "        self.x = starts[random.randrange(5)]\n",
    "        self.y = -3\n",
    "        # The ball will now move in a random angle.\n",
    "        self.canvas_height = self.canvas.winfo_height()\n",
    "        self.canvas_width = self.canvas.winfo_width()\n",
    "    def draw(self):\n",
    "        self.canvas.move(self.id, self.x, self.y)\n",
    "        pos = self.canvas.coords(self.id)\n",
    "        if pos[1] <= 0:\n",
    "            self.y = 1 \n",
    "        if pos[3] >= self.canvas_height:\n",
    "            self.y = -1\n",
    "        if pos[0] <= 0:\n",
    "            self.x = 3\n",
    "        if pos[2] >= self.canvas_width:\n",
    "            self.x = -3"
   ]
  },
  {
   "cell_type": "markdown",
   "id": "e874c33f",
   "metadata": {},
   "source": [
    "Here it is:"
   ]
  },
  {
   "cell_type": "code",
   "execution_count": null,
   "id": "9bc87fe0",
   "metadata": {},
   "outputs": [],
   "source": [
    "from tkinter import *\n",
    "import random\n",
    "import time\n",
    "class Ball:\n",
    "    def __init__(self, canvas, color):\n",
    "        self.canvas = canvas\n",
    "        self.id = canvas.create_oval(10, 10, 25, 25, fill=color)\n",
    "        self.canvas.move(self.id, 245, 100)\n",
    "        starts = [-3, -2, -1, 1, 2, 3]\n",
    "        self.x = starts[random.randrange(5)]\n",
    "        self.y = -3\n",
    "        self.canvas_height = self.canvas.winfo_height()\n",
    "        self.canvas_width = self.canvas.winfo_width()\n",
    "    def draw(self):\n",
    "        self.canvas.move(self.id, self.x, self.y)\n",
    "        pos = self.canvas.coords(self.id)\n",
    "        if pos[1] <= 0:\n",
    "            self.y = 1 \n",
    "        if pos[3] >= self.canvas_height:\n",
    "            self.y = -1\n",
    "        if pos[0] <= 0:\n",
    "            self.x = 3\n",
    "        if pos[2] >= self.canvas_width:\n",
    "            self.x = -3\n",
    "tk = Tk()\n",
    "tk.title('Game')\n",
    "tk.resizable(0, 0)\n",
    "tk.wm_attributes(\"-topmost\", 1)\n",
    "canvas = Canvas(tk, width=500, height=400, bd=0, highlightthickness=0)\n",
    "canvas.pack()\n",
    "tk.update()\n",
    "ball = Ball(canvas, 'red')\n",
    "while 1:\n",
    "    ball.draw()\n",
    "    tk.update_idletasks()\n",
    "    tk.update()\n",
    "    time.sleep(0.01666666666)"
   ]
  },
  {
   "cell_type": "markdown",
   "id": "cbd70610",
   "metadata": {
    "tags": []
   },
   "source": [
    "And this is not exactly the game you expected. But it is a new milestone! And it's still not over!\n",
    "\n",
    "## Part 2: Finishing The Game!\n",
    "### Adding a Paddle Which The Users Can Move"
   ]
  },
  {
   "cell_type": "code",
   "execution_count": null,
   "id": "824b65da",
   "metadata": {},
   "outputs": [],
   "source": [
    "from tkinter import *\n",
    "import random\n",
    "import time\n",
    "class Ball:\n",
    "    def __init__(self, canvas, color):\n",
    "        self.canvas = canvas\n",
    "        self.id = canvas.create_oval(10, 10, 25, 25, fill=color)\n",
    "        self.canvas.move(self.id, 245, 100)\n",
    "        starts = [-3, -2, -1, 1, 2, 3]\n",
    "        self.x = starts[random.randrange(5)]\n",
    "        self.y = -3\n",
    "        self.canvas_height = self.canvas.winfo_height()\n",
    "        self.canvas_width = self.canvas.winfo_width()\n",
    "    def draw(self):\n",
    "        self.canvas.move(self.id, self.x, self.y)\n",
    "        pos = self.canvas.coords(self.id)\n",
    "        if pos[1] <= 0:\n",
    "            self.y = 1 \n",
    "        if pos[3] >= self.canvas_height:\n",
    "            self.y = -1\n",
    "        if pos[0] <= 0:\n",
    "            self.x = 3\n",
    "        if pos[2] >= self.canvas_width:\n",
    "            self.x = -3\n",
    "            \n",
    "            \n",
    "# We add this:\n",
    "\n",
    "class Paddle:\n",
    "    def __init__(self, canvas, color):\n",
    "        self.canvas = canvas\n",
    "        self.id = canvas.create_rectangle(0, 0, 100, 10, fill=color)\n",
    "        self.canvas.move(self.id, 200, 300)\n",
    "        self.x = 0\n",
    "        self.canvas_width = self.canvas.winfo_width()\n",
    "        self.canvas.bind_all('<KeyPress-Left>', self.turn_left)\n",
    "        self.canvas.bind_all('<KeyPress-Right>', self.turn_right)\n",
    "    def draw(self):\n",
    "        self.canvas.move(self.id, self.x, 0)\n",
    "        pos = self.canvas.coords(self.id)\n",
    "        if pos[0] <= 0:\n",
    "            self.x = 0\n",
    "        elif pos[2] >= self.canvas_width:\n",
    "            self.x = 0    \n",
    "    def turn_left(self, evt):\n",
    "            self.x = -2\n",
    "    def turn_right(self, evt):\n",
    "        self.x = 2\n",
    "    \n",
    "    \n",
    "tk = Tk()\n",
    "tk.title('Game')\n",
    "tk.resizable(0, 0)\n",
    "tk.wm_attributes(\"-topmost\", 1)\n",
    "canvas = Canvas(tk, width=500, height=400, bd=0, highlightthickness=0)\n",
    "canvas.pack()\n",
    "tk.update()\n",
    "\n",
    "# We add this line of code:\n",
    "paddle = Paddle(canvas, 'blue')\n",
    "\n",
    "ball = Ball(canvas, 'red')\n",
    "while 1:\n",
    "    ball.draw()\n",
    "    \n",
    "    # We add this line:\n",
    "    paddle.draw()   \n",
    "    \n",
    "    tk.update_idletasks()\n",
    "    tk.update()\n",
    "    time.sleep(0.01666666666)"
   ]
  },
  {
   "cell_type": "markdown",
   "id": "583b2ce3",
   "metadata": {},
   "source": [
    "### Allowing the ball to bounce off the paddle"
   ]
  },
  {
   "cell_type": "code",
   "execution_count": 2,
   "id": "7a68f8e7",
   "metadata": {},
   "outputs": [
    {
     "ename": "TclError",
     "evalue": "invalid command name \".!canvas\"",
     "output_type": "error",
     "traceback": [
      "\u001b[1;31m---------------------------------------------------------------------------\u001b[0m",
      "\u001b[1;31mTclError\u001b[0m                                  Traceback (most recent call last)",
      "\u001b[1;32m~\\AppData\\Local\\Temp/ipykernel_7344/112167834.py\u001b[0m in \u001b[0;36m<module>\u001b[1;34m\u001b[0m\n\u001b[0;32m     78\u001b[0m \u001b[1;33m\u001b[0m\u001b[0m\n\u001b[0;32m     79\u001b[0m \u001b[1;32mwhile\u001b[0m \u001b[1;36m1\u001b[0m\u001b[1;33m:\u001b[0m\u001b[1;33m\u001b[0m\u001b[1;33m\u001b[0m\u001b[0m\n\u001b[1;32m---> 80\u001b[1;33m     \u001b[0mball\u001b[0m\u001b[1;33m.\u001b[0m\u001b[0mdraw\u001b[0m\u001b[1;33m(\u001b[0m\u001b[1;33m)\u001b[0m\u001b[1;33m\u001b[0m\u001b[1;33m\u001b[0m\u001b[0m\n\u001b[0m\u001b[0;32m     81\u001b[0m     \u001b[0mpaddle\u001b[0m\u001b[1;33m.\u001b[0m\u001b[0mdraw\u001b[0m\u001b[1;33m(\u001b[0m\u001b[1;33m)\u001b[0m\u001b[1;33m\u001b[0m\u001b[1;33m\u001b[0m\u001b[0m\n\u001b[0;32m     82\u001b[0m     \u001b[0mtk\u001b[0m\u001b[1;33m.\u001b[0m\u001b[0mupdate_idletasks\u001b[0m\u001b[1;33m(\u001b[0m\u001b[1;33m)\u001b[0m\u001b[1;33m\u001b[0m\u001b[1;33m\u001b[0m\u001b[0m\n",
      "\u001b[1;32m~\\AppData\\Local\\Temp/ipykernel_7344/112167834.py\u001b[0m in \u001b[0;36mdraw\u001b[1;34m(self)\u001b[0m\n\u001b[0;32m     30\u001b[0m \u001b[1;33m\u001b[0m\u001b[0m\n\u001b[0;32m     31\u001b[0m     \u001b[1;32mdef\u001b[0m \u001b[0mdraw\u001b[0m\u001b[1;33m(\u001b[0m\u001b[0mself\u001b[0m\u001b[1;33m)\u001b[0m\u001b[1;33m:\u001b[0m\u001b[1;33m\u001b[0m\u001b[1;33m\u001b[0m\u001b[0m\n\u001b[1;32m---> 32\u001b[1;33m         \u001b[0mself\u001b[0m\u001b[1;33m.\u001b[0m\u001b[0mcanvas\u001b[0m\u001b[1;33m.\u001b[0m\u001b[0mmove\u001b[0m\u001b[1;33m(\u001b[0m\u001b[0mself\u001b[0m\u001b[1;33m.\u001b[0m\u001b[0mid\u001b[0m\u001b[1;33m,\u001b[0m \u001b[0mself\u001b[0m\u001b[1;33m.\u001b[0m\u001b[0mx\u001b[0m\u001b[1;33m,\u001b[0m \u001b[0mself\u001b[0m\u001b[1;33m.\u001b[0m\u001b[0my\u001b[0m\u001b[1;33m)\u001b[0m\u001b[1;33m\u001b[0m\u001b[1;33m\u001b[0m\u001b[0m\n\u001b[0m\u001b[0;32m     33\u001b[0m         \u001b[0mpos\u001b[0m \u001b[1;33m=\u001b[0m \u001b[0mself\u001b[0m\u001b[1;33m.\u001b[0m\u001b[0mcanvas\u001b[0m\u001b[1;33m.\u001b[0m\u001b[0mcoords\u001b[0m\u001b[1;33m(\u001b[0m\u001b[0mself\u001b[0m\u001b[1;33m.\u001b[0m\u001b[0mid\u001b[0m\u001b[1;33m)\u001b[0m\u001b[1;33m\u001b[0m\u001b[1;33m\u001b[0m\u001b[0m\n\u001b[0;32m     34\u001b[0m         \u001b[1;32mif\u001b[0m \u001b[0mpos\u001b[0m\u001b[1;33m[\u001b[0m\u001b[1;36m1\u001b[0m\u001b[1;33m]\u001b[0m \u001b[1;33m<=\u001b[0m \u001b[1;36m0\u001b[0m\u001b[1;33m:\u001b[0m\u001b[1;33m\u001b[0m\u001b[1;33m\u001b[0m\u001b[0m\n",
      "\u001b[1;32mC:\\Program Files\\WindowsApps\\PythonSoftwareFoundation.Python.3.10_3.10.240.0_x64__qbz5n2kfra8p0\\lib\\tkinter\\__init__.py\u001b[0m in \u001b[0;36mmove\u001b[1;34m(self, *args)\u001b[0m\n\u001b[0;32m   2947\u001b[0m     \u001b[1;32mdef\u001b[0m \u001b[0mmove\u001b[0m\u001b[1;33m(\u001b[0m\u001b[0mself\u001b[0m\u001b[1;33m,\u001b[0m \u001b[1;33m*\u001b[0m\u001b[0margs\u001b[0m\u001b[1;33m)\u001b[0m\u001b[1;33m:\u001b[0m\u001b[1;33m\u001b[0m\u001b[1;33m\u001b[0m\u001b[0m\n\u001b[0;32m   2948\u001b[0m         \u001b[1;34m\"\"\"Move an item TAGORID given in ARGS.\"\"\"\u001b[0m\u001b[1;33m\u001b[0m\u001b[1;33m\u001b[0m\u001b[0m\n\u001b[1;32m-> 2949\u001b[1;33m         \u001b[0mself\u001b[0m\u001b[1;33m.\u001b[0m\u001b[0mtk\u001b[0m\u001b[1;33m.\u001b[0m\u001b[0mcall\u001b[0m\u001b[1;33m(\u001b[0m\u001b[1;33m(\u001b[0m\u001b[0mself\u001b[0m\u001b[1;33m.\u001b[0m\u001b[0m_w\u001b[0m\u001b[1;33m,\u001b[0m \u001b[1;34m'move'\u001b[0m\u001b[1;33m)\u001b[0m \u001b[1;33m+\u001b[0m \u001b[0margs\u001b[0m\u001b[1;33m)\u001b[0m\u001b[1;33m\u001b[0m\u001b[1;33m\u001b[0m\u001b[0m\n\u001b[0m\u001b[0;32m   2950\u001b[0m \u001b[1;33m\u001b[0m\u001b[0m\n\u001b[0;32m   2951\u001b[0m     \u001b[1;32mdef\u001b[0m \u001b[0mmoveto\u001b[0m\u001b[1;33m(\u001b[0m\u001b[0mself\u001b[0m\u001b[1;33m,\u001b[0m \u001b[0mtagOrId\u001b[0m\u001b[1;33m,\u001b[0m \u001b[0mx\u001b[0m\u001b[1;33m=\u001b[0m\u001b[1;34m''\u001b[0m\u001b[1;33m,\u001b[0m \u001b[0my\u001b[0m\u001b[1;33m=\u001b[0m\u001b[1;34m''\u001b[0m\u001b[1;33m)\u001b[0m\u001b[1;33m:\u001b[0m\u001b[1;33m\u001b[0m\u001b[1;33m\u001b[0m\u001b[0m\n",
      "\u001b[1;31mTclError\u001b[0m: invalid command name \".!canvas\""
     ]
    }
   ],
   "source": [
    "from tkinter import *\n",
    "import random\n",
    "import time\n",
    "class Ball:\n",
    "    \n",
    "    # We modified this line of code:\n",
    "    def __init__(self, canvas, paddle, color):\n",
    "        \n",
    "        self.canvas = canvas\n",
    "        \n",
    "        # We added this line:\n",
    "        self.paddle = paddle\n",
    "        # We used this paddle object when adding the paddle\n",
    "        \n",
    "        self.id = canvas.create_oval(10, 10, 25, 25, fill=color)\n",
    "        self.canvas.move(self.id, 245, 100)\n",
    "        starts = [-3, -2, -1, 1, 2, 3]\n",
    "        self.x = starts[random.randrange(5)]\n",
    "        self.y = -2\n",
    "        self.canvas_height = self.canvas.winfo_height()\n",
    "        self.canvas_width = self.canvas.winfo_width()\n",
    "        \n",
    "        # We create the hit_paddle function to be used later here:\n",
    "    def hit_paddle(self, pos):\n",
    "        paddle_pos = self.canvas.coords(self.paddle.id)\n",
    "        if pos[2] >= paddle_pos[0] and pos[0] <= paddle_pos[2]:\n",
    "            if pos[3] >= paddle_pos[1] and pos[3] <= paddle_pos[3]:\n",
    "                return True\n",
    "        return False\n",
    "\n",
    "    def draw(self):\n",
    "        self.canvas.move(self.id, self.x, self.y)\n",
    "        pos = self.canvas.coords(self.id)\n",
    "        if pos[1] <= 0:\n",
    "            self.y = 2\n",
    "        if pos[3] >= self.canvas_height:\n",
    "            self.y = -2\n",
    "        \n",
    "        # We added this condition\n",
    "        if self.hit_paddle(pos) == True:\n",
    "            self.y = -2\n",
    "        \n",
    "        if pos[0] <= 0:\n",
    "            self.x = 2\n",
    "        if pos[2] >= self.canvas_width:\n",
    "            self.x = -2\n",
    "class Paddle:\n",
    "    def __init__(self, canvas, color):\n",
    "        self.canvas = canvas\n",
    "        self.id = canvas.create_rectangle(0, 0, 100, 10, fill=color)\n",
    "        self.canvas.move(self.id, 200, 300)\n",
    "        self.x = 0\n",
    "        self.canvas_width = self.canvas.winfo_width()\n",
    "        self.canvas.bind_all('<KeyPress-Left>', self.turn_left)\n",
    "        self.canvas.bind_all('<KeyPress-Right>', self.turn_right)\n",
    "    def draw(self):\n",
    "        self.canvas.move(self.id, self.x, 0)\n",
    "        pos = self.canvas.coords(self.id)\n",
    "        if pos[0] <= 0:\n",
    "            self.x = 0\n",
    "        elif pos[2] >= self.canvas_width:\n",
    "            self.x = 0    \n",
    "    def turn_left(self, evt):\n",
    "            self.x = -1\n",
    "    def turn_right(self, evt):\n",
    "        self.x = 1\n",
    "tk = Tk()\n",
    "tk.title('Game')\n",
    "tk.resizable(0, 0)\n",
    "tk.wm_attributes(\"-topmost\", 1)\n",
    "canvas = Canvas(tk, width=500, height=400, bd=0, highlightthickness=0)\n",
    "canvas.pack()\n",
    "tk.update()\n",
    "paddle = Paddle(canvas, 'blue')\n",
    "\n",
    "# Modified this line:\n",
    "ball = Ball(canvas, paddle, 'red')\n",
    "\n",
    "while 1:\n",
    "    ball.draw()\n",
    "    paddle.draw()   \n",
    "    tk.update_idletasks()\n",
    "    tk.update()\n",
    "    time.sleep(0.0083333333333333)"
   ]
  },
  {
   "cell_type": "markdown",
   "id": "c3077c2d",
   "metadata": {
    "tags": []
   },
   "source": [
    "It works like expected, duh! The frame rate is very disgusting but I don't care!"
   ]
  },
  {
   "cell_type": "code",
   "execution_count": null,
   "id": "7e03a930-4965-440f-8368-0b83d5b6e436",
   "metadata": {},
   "outputs": [],
   "source": [
    "from tkinter import *\n",
    "import random\n",
    "import time\n",
    "class Ball:\n",
    "    def __init__(self, canvas, paddle, color):\n",
    "        self.canvas = canvas\n",
    "        self.paddle = paddle\n",
    "        self.id = canvas.create_oval(10, 10, 25, 25, fill=color)\n",
    "        self.canvas.move(self.id, 245, 100)\n",
    "        starts = [-3, -2, -1, 1, 2, 3]\n",
    "        self.x = starts[random.randrange(5)]\n",
    "        self.y = -2\n",
    "        self.canvas_height = self.canvas.winfo_height()\n",
    "        self.canvas_width = self.canvas.winfo_width()\n",
    "        self.hit_bottom = False\n",
    "    def hit_paddle(self, pos):\n",
    "        paddle_pos = self.canvas.coords(self.paddle.id)\n",
    "        if pos[2] >= paddle_pos[0] and pos[0] <= paddle_pos[2]:\n",
    "            if pos[3] >= paddle_pos[1] and pos[3] <= paddle_pos[3]:\n",
    "                return True\n",
    "        return False\n",
    "    def draw(self):\n",
    "        self.canvas.move(self.id, self.x, self.y)\n",
    "        pos = self.canvas.coords(self.id)\n",
    "        if pos[1] <= 0:\n",
    "            self.y = 2\n",
    "        if pos[3] >= self.canvas_height:\n",
    "            self.y = -2\n",
    "        if pos[3] >= self.canvas_height:\n",
    "            self.hit_bottom = True\n",
    "        if self.hit_paddle(pos) == True:\n",
    "            self.y = -2\n",
    "        if pos[0] <= 0:\n",
    "            self.x = 2\n",
    "        if pos[2] >= self.canvas_width:\n",
    "            self.x = -2\n",
    "class Paddle:\n",
    "    def __init__(self, canvas, color):\n",
    "        self.canvas = canvas\n",
    "        self.id = canvas.create_rectangle(0, 0, 100, 10, fill=color)\n",
    "        self.canvas.move(self.id, 200, 300)\n",
    "        self.x = 0\n",
    "        self.canvas_width = self.canvas.winfo_width()\n",
    "        self.canvas.bind_all('<KeyPress-Left>', self.turn_left)\n",
    "        self.canvas.bind_all('<KeyPress-Right>', self.turn_right)\n",
    "    def draw(self):\n",
    "        self.canvas.move(self.id, self.x, 0)\n",
    "        pos = self.canvas.coords(self.id)\n",
    "        if pos[0] <= 0:\n",
    "            self.x = 0\n",
    "        elif pos[2] >= self.canvas_width:\n",
    "            self.x = 0    \n",
    "    def turn_left(self, evt):\n",
    "        self.x = -1\n",
    "    def turn_right(self, evt):\n",
    "        self.x = 1\n",
    "tk = Tk()\n",
    "tk.title('Game')\n",
    "tk.resizable(0, 0)\n",
    "tk.wm_attributes(\"-topmost\", 1)\n",
    "canvas = Canvas(tk, width=500, height=400, bd=0, highlightthickness=0)\n",
    "canvas.pack()\n",
    "tk.update()\n",
    "paddle = Paddle(canvas, 'blue')\n",
    "ball = Ball(canvas, paddle, 'red')\n",
    "while ball.hit_bottom == False:\n",
    "    ball.draw()\n",
    "    paddle.draw()\n",
    "    tk.update_idletasks()\n",
    "    tk.update()\n",
    "    time.sleep(0.0083333333333333)"
   ]
  },
  {
   "cell_type": "code",
   "execution_count": 1,
   "id": "bbdd43a8-28d0-431a-8e25-d4f9559f5928",
   "metadata": {},
   "outputs": [
    {
     "ename": "TclError",
     "evalue": "invalid command name \".!canvas\"",
     "output_type": "error",
     "traceback": [
      "\u001b[1;31m---------------------------------------------------------------------------\u001b[0m",
      "\u001b[1;31mTclError\u001b[0m                                  Traceback (most recent call last)",
      "\u001b[1;32m~\\AppData\\Local\\Temp/ipykernel_7728/1027440550.py\u001b[0m in \u001b[0;36m<module>\u001b[1;34m\u001b[0m\n\u001b[0;32m     65\u001b[0m \u001b[0mball\u001b[0m \u001b[1;33m=\u001b[0m \u001b[0mBall\u001b[0m\u001b[1;33m(\u001b[0m\u001b[0mcanvas\u001b[0m\u001b[1;33m,\u001b[0m \u001b[0mpaddle\u001b[0m\u001b[1;33m,\u001b[0m \u001b[1;34m'red'\u001b[0m\u001b[1;33m)\u001b[0m\u001b[1;33m\u001b[0m\u001b[1;33m\u001b[0m\u001b[0m\n\u001b[0;32m     66\u001b[0m \u001b[1;32mwhile\u001b[0m \u001b[0mball\u001b[0m\u001b[1;33m.\u001b[0m\u001b[0mhit_bottom\u001b[0m \u001b[1;33m==\u001b[0m \u001b[1;32mFalse\u001b[0m\u001b[1;33m:\u001b[0m\u001b[1;33m\u001b[0m\u001b[1;33m\u001b[0m\u001b[0m\n\u001b[1;32m---> 67\u001b[1;33m     \u001b[0mball\u001b[0m\u001b[1;33m.\u001b[0m\u001b[0mdraw\u001b[0m\u001b[1;33m(\u001b[0m\u001b[1;33m)\u001b[0m\u001b[1;33m\u001b[0m\u001b[1;33m\u001b[0m\u001b[0m\n\u001b[0m\u001b[0;32m     68\u001b[0m     \u001b[0mpaddle\u001b[0m\u001b[1;33m.\u001b[0m\u001b[0mdraw\u001b[0m\u001b[1;33m(\u001b[0m\u001b[1;33m)\u001b[0m\u001b[1;33m\u001b[0m\u001b[1;33m\u001b[0m\u001b[0m\n\u001b[0;32m     69\u001b[0m     \u001b[0mtk\u001b[0m\u001b[1;33m.\u001b[0m\u001b[0mupdate_idletasks\u001b[0m\u001b[1;33m(\u001b[0m\u001b[1;33m)\u001b[0m\u001b[1;33m\u001b[0m\u001b[1;33m\u001b[0m\u001b[0m\n",
      "\u001b[1;32m~\\AppData\\Local\\Temp/ipykernel_7728/1027440550.py\u001b[0m in \u001b[0;36mdraw\u001b[1;34m(self)\u001b[0m\n\u001b[0;32m     21\u001b[0m             \u001b[1;32mreturn\u001b[0m \u001b[1;32mFalse\u001b[0m\u001b[1;33m\u001b[0m\u001b[1;33m\u001b[0m\u001b[0m\n\u001b[0;32m     22\u001b[0m     \u001b[1;32mdef\u001b[0m \u001b[0mdraw\u001b[0m\u001b[1;33m(\u001b[0m\u001b[0mself\u001b[0m\u001b[1;33m)\u001b[0m\u001b[1;33m:\u001b[0m\u001b[1;33m\u001b[0m\u001b[1;33m\u001b[0m\u001b[0m\n\u001b[1;32m---> 23\u001b[1;33m         \u001b[0mself\u001b[0m\u001b[1;33m.\u001b[0m\u001b[0mcanvas\u001b[0m\u001b[1;33m.\u001b[0m\u001b[0mmove\u001b[0m\u001b[1;33m(\u001b[0m\u001b[0mself\u001b[0m\u001b[1;33m.\u001b[0m\u001b[0mid\u001b[0m\u001b[1;33m,\u001b[0m \u001b[0mself\u001b[0m\u001b[1;33m.\u001b[0m\u001b[0mx\u001b[0m\u001b[1;33m,\u001b[0m \u001b[0mself\u001b[0m\u001b[1;33m.\u001b[0m\u001b[0my\u001b[0m\u001b[1;33m)\u001b[0m\u001b[1;33m\u001b[0m\u001b[1;33m\u001b[0m\u001b[0m\n\u001b[0m\u001b[0;32m     24\u001b[0m         \u001b[0mpos\u001b[0m \u001b[1;33m=\u001b[0m \u001b[0mself\u001b[0m\u001b[1;33m.\u001b[0m\u001b[0mcanvas\u001b[0m\u001b[1;33m.\u001b[0m\u001b[0mcoords\u001b[0m\u001b[1;33m(\u001b[0m\u001b[0mself\u001b[0m\u001b[1;33m.\u001b[0m\u001b[0mid\u001b[0m\u001b[1;33m)\u001b[0m\u001b[1;33m\u001b[0m\u001b[1;33m\u001b[0m\u001b[0m\n\u001b[0;32m     25\u001b[0m         \u001b[1;32mif\u001b[0m \u001b[0mpos\u001b[0m\u001b[1;33m[\u001b[0m\u001b[1;36m1\u001b[0m\u001b[1;33m]\u001b[0m \u001b[1;33m<=\u001b[0m \u001b[1;36m0\u001b[0m\u001b[1;33m:\u001b[0m\u001b[1;33m\u001b[0m\u001b[1;33m\u001b[0m\u001b[0m\n",
      "\u001b[1;32mC:\\Program Files\\WindowsApps\\PythonSoftwareFoundation.Python.3.10_3.10.240.0_x64__qbz5n2kfra8p0\\lib\\tkinter\\__init__.py\u001b[0m in \u001b[0;36mmove\u001b[1;34m(self, *args)\u001b[0m\n\u001b[0;32m   2947\u001b[0m     \u001b[1;32mdef\u001b[0m \u001b[0mmove\u001b[0m\u001b[1;33m(\u001b[0m\u001b[0mself\u001b[0m\u001b[1;33m,\u001b[0m \u001b[1;33m*\u001b[0m\u001b[0margs\u001b[0m\u001b[1;33m)\u001b[0m\u001b[1;33m:\u001b[0m\u001b[1;33m\u001b[0m\u001b[1;33m\u001b[0m\u001b[0m\n\u001b[0;32m   2948\u001b[0m         \u001b[1;34m\"\"\"Move an item TAGORID given in ARGS.\"\"\"\u001b[0m\u001b[1;33m\u001b[0m\u001b[1;33m\u001b[0m\u001b[0m\n\u001b[1;32m-> 2949\u001b[1;33m         \u001b[0mself\u001b[0m\u001b[1;33m.\u001b[0m\u001b[0mtk\u001b[0m\u001b[1;33m.\u001b[0m\u001b[0mcall\u001b[0m\u001b[1;33m(\u001b[0m\u001b[1;33m(\u001b[0m\u001b[0mself\u001b[0m\u001b[1;33m.\u001b[0m\u001b[0m_w\u001b[0m\u001b[1;33m,\u001b[0m \u001b[1;34m'move'\u001b[0m\u001b[1;33m)\u001b[0m \u001b[1;33m+\u001b[0m \u001b[0margs\u001b[0m\u001b[1;33m)\u001b[0m\u001b[1;33m\u001b[0m\u001b[1;33m\u001b[0m\u001b[0m\n\u001b[0m\u001b[0;32m   2950\u001b[0m \u001b[1;33m\u001b[0m\u001b[0m\n\u001b[0;32m   2951\u001b[0m     \u001b[1;32mdef\u001b[0m \u001b[0mmoveto\u001b[0m\u001b[1;33m(\u001b[0m\u001b[0mself\u001b[0m\u001b[1;33m,\u001b[0m \u001b[0mtagOrId\u001b[0m\u001b[1;33m,\u001b[0m \u001b[0mx\u001b[0m\u001b[1;33m=\u001b[0m\u001b[1;34m''\u001b[0m\u001b[1;33m,\u001b[0m \u001b[0my\u001b[0m\u001b[1;33m=\u001b[0m\u001b[1;34m''\u001b[0m\u001b[1;33m)\u001b[0m\u001b[1;33m:\u001b[0m\u001b[1;33m\u001b[0m\u001b[1;33m\u001b[0m\u001b[0m\n",
      "\u001b[1;31mTclError\u001b[0m: invalid command name \".!canvas\""
     ]
    }
   ],
   "source": [
    "from tkinter import *\n",
    "import random\n",
    "import time\n",
    "class Ball:\n",
    "    def __init__(self, canvas, paddle, color):\n",
    "        self.canvas = canvas\n",
    "        self.paddle = paddle\n",
    "        self.id = canvas.create_oval(10, 10, 25, 25, fill=color)\n",
    "        self.canvas.move(self.id, 245, 100)\n",
    "        starts = [-3, -2, -1, 1, 2, 3]\n",
    "        self.x = starts[random.randrange(5)]\n",
    "        self.y = -2\n",
    "        self.canvas_height = self.canvas.winfo_height()\n",
    "        self.canvas_width = self.canvas.winfo_width()\n",
    "        self.hit_bottom = False\n",
    "    def hit_paddle(self, pos):\n",
    "        paddle_pos = self.canvas.coords(self.paddle.id)\n",
    "        if pos[2] >= paddle_pos[0] and pos[0] <= paddle_pos[2] and pos[3] >= paddle_pos[1] and pos[3] <= paddle_pos[3]:\n",
    "            return True\n",
    "        else:\n",
    "            return False\n",
    "    def draw(self):\n",
    "        self.canvas.move(self.id, self.x, self.y)\n",
    "        pos = self.canvas.coords(self.id)\n",
    "        if pos[1] <= 0:\n",
    "            self.y = 1\n",
    "        if pos[3] >= self.canvas_height:\n",
    "            self.y = -1\n",
    "        if pos[3] >= self.canvas_height:\n",
    "            self.hit_bottom = True\n",
    "        if self.hit_paddle(pos) == True:\n",
    "            self.y = -1\n",
    "        if pos[0] <= 0:\n",
    "            self.x = 1\n",
    "        if pos[2] >= self.canvas_width:\n",
    "            self.x = -1\n",
    "class Paddle:\n",
    "    def __init__(self, canvas, color):\n",
    "        self.canvas = canvas\n",
    "        self.id = canvas.create_rectangle(0, 0, 100, 10, fill=color)\n",
    "        self.canvas.move(self.id, 200, 300)\n",
    "        self.x = 0\n",
    "        self.canvas_width = self.canvas.winfo_width()\n",
    "        self.canvas.bind_all('<KeyPress-Left>', self.turn_left)\n",
    "        self.canvas.bind_all('<KeyPress-Right>', self.turn_right)\n",
    "    def draw(self):\n",
    "        self.canvas.move(self.id, self.x, 0)\n",
    "        pos = self.canvas.coords(self.id)\n",
    "        if pos[0] <= 0:\n",
    "            self.x = 0\n",
    "        elif pos[2] >= self.canvas_width:\n",
    "            self.x = 0    \n",
    "    def turn_left(self, evt):\n",
    "        self.x = -1\n",
    "    def turn_right(self, evt):\n",
    "        self.x = 1\n",
    "tk = Tk()\n",
    "tk.title('Game')\n",
    "tk.resizable(0, 0)\n",
    "tk.wm_attributes(\"-topmost\", 1)\n",
    "canvas = Canvas(tk, width=500, height=400, bd=0, highlightthickness=0)\n",
    "canvas.pack()\n",
    "tk.update()\n",
    "paddle = Paddle(canvas, 'blue')\n",
    "ball = Ball(canvas, paddle, 'red')\n",
    "while ball.hit_bottom == False:\n",
    "    ball.draw()\n",
    "    paddle.draw()\n",
    "    tk.update_idletasks()\n",
    "    tk.update()\n",
    "    time.sleep(0.0083333333333333)"
   ]
  },
  {
   "cell_type": "markdown",
   "id": "fe3ef611-e289-490d-8afc-29cdf36b0296",
   "metadata": {},
   "source": [
    "# A More Graphically Intensive Game\n",
    "Watch out for the release of this amazing, open-source game, courtesy of Jason R. Briggs. \n",
    "_This may be coded outside of JupyterLab due to some compatibility issues._\n",
    "\n",
    "# TiddlyWiki Markdown Wiki Link Generator\n",
    "TiddlyWiki is amazing. Markdown is amazing. But the two have not fully come to terms with each other. In the TiddlyWiki editor, you could link a wiki using `[[wiki]]`, while the Markdown editor plugin requires this: `[my wiki](#my%20wiki)`"
   ]
  },
  {
   "cell_type": "code",
   "execution_count": 1,
   "id": "c7115c34-e302-4f46-bd07-2bc5595639bb",
   "metadata": {},
   "outputs": [
    {
     "data": {
      "text/plain": [
       "'Hell%C3%B6%20W%C3%B6rld%40Python'"
      ]
     },
     "execution_count": 1,
     "metadata": {},
     "output_type": "execute_result"
    }
   ],
   "source": [
    "import urllib.parse"
   ]
  },
  {
   "cell_type": "code",
   "execution_count": 3,
   "id": "3726eb63-6a72-4964-a300-41b1797f30df",
   "metadata": {},
   "outputs": [
    {
     "name": "stdin",
     "output_type": "stream",
     "text": [
      "Enter the name of your wiki:  SST Inc. Application\n"
     ]
    }
   ],
   "source": [
    "wiki = input(\"Enter the name of your wiki: \")"
   ]
  },
  {
   "cell_type": "code",
   "execution_count": 4,
   "id": "16ab479b-60f9-494d-81b2-2165575b2e38",
   "metadata": {},
   "outputs": [
    {
     "data": {
      "text/plain": [
       "'SST%20Inc.%20Application'"
      ]
     },
     "execution_count": 4,
     "metadata": {},
     "output_type": "execute_result"
    }
   ],
   "source": [
    "urllib.parse.quote(wiki)"
   ]
  },
  {
   "cell_type": "code",
   "execution_count": 6,
   "id": "c87a1194-5366-45ad-9e88-1265e6d7f1b2",
   "metadata": {},
   "outputs": [
    {
     "name": "stdout",
     "output_type": "stream",
     "text": [
      "#SST%20Inc.%20Application\n"
     ]
    }
   ],
   "source": [
    "print('#' + urllib.parse.quote(wiki))"
   ]
  },
  {
   "cell_type": "markdown",
   "id": "62b34acf-d3cf-4260-880e-c8c4e7a20eb1",
   "metadata": {},
   "source": [
    "## The Code"
   ]
  },
  {
   "cell_type": "code",
   "execution_count": 12,
   "id": "4a4904a3-2ee2-4d1d-9a4f-6a9e001242f4",
   "metadata": {},
   "outputs": [
    {
     "name": "stdin",
     "output_type": "stream",
     "text": [
      "Enter the name of your wiki:  SST Inc. Application\n"
     ]
    },
    {
     "name": "stdout",
     "output_type": "stream",
     "text": [
      "[SST Inc. Application](#SST%20Inc.%20Application)\n"
     ]
    }
   ],
   "source": [
    "import urllib.parse\n",
    "wiki = input(\"Enter the name of your wiki: \")\n",
    "print('[' + wiki + \"](#\" + urllib.parse.quote(wiki) + ')')"
   ]
  },
  {
   "cell_type": "markdown",
   "id": "34424fd0-2e16-40d0-a133-0aba9f20efde",
   "metadata": {},
   "source": [
    "I used `sys.stdin.read()[0:-1]` in the final Python script so that I can directly give the input by piping and copy the output as a one-liner:\n",
    "\n",
    "```\n",
    "echo \"SST Inc. Application\" | python3 ~/LearningPython/wiki.py | pbcopy\n",
    "```\n",
    "\n",
    "I will create a shell script that will make entering the text simpler once I finish my course on `zsh`. Using it would look somewhat like this:\n",
    "\n",
    "```\n",
    "➜  ~ wikilink \"SST Inc. Application\"\n",
    "Copied the output, \"[SST Inc. Application](#SST%20Inc.%20Application)\", to clipboard.\n",
    "```\n",
    "\n",
    "# Loops"
   ]
  },
  {
   "cell_type": "code",
   "execution_count": 5,
   "id": "39d36355-cbe3-4da8-a1f4-d4aadf439363",
   "metadata": {},
   "outputs": [
    {
     "name": "stdout",
     "output_type": "stream",
     "text": [
      "Hello World\n",
      "Hello World\n",
      "Hello World\n",
      "Hello World\n",
      "Hi\n",
      "Hi\n",
      "Hi\n",
      "Hi\n"
     ]
    },
    {
     "ename": "KeyboardInterrupt",
     "evalue": "",
     "output_type": "error",
     "traceback": [
      "\u001b[0;31m---------------------------------------------------------------------------\u001b[0m",
      "\u001b[0;31mKeyboardInterrupt\u001b[0m                         Traceback (most recent call last)",
      "Input \u001b[0;32mIn [5]\u001b[0m, in \u001b[0;36m<cell line: 3>\u001b[0;34m()\u001b[0m\n\u001b[1;32m      4\u001b[0m \u001b[38;5;28;01mfor\u001b[39;00m x \u001b[38;5;129;01min\u001b[39;00m \u001b[38;5;28mrange\u001b[39m(\u001b[38;5;241m1\u001b[39m, \u001b[38;5;241m5\u001b[39m):\n\u001b[1;32m      5\u001b[0m     \u001b[38;5;28mprint\u001b[39m(i)\n\u001b[0;32m----> 6\u001b[0m     \u001b[43mtime\u001b[49m\u001b[38;5;241;43m.\u001b[39;49m\u001b[43msleep\u001b[49m\u001b[43m(\u001b[49m\u001b[38;5;241;43m2\u001b[39;49m\u001b[43m)\u001b[49m\n\u001b[1;32m      7\u001b[0m i \u001b[38;5;241m=\u001b[39m \u001b[38;5;124m\"\u001b[39m\u001b[38;5;124mHi\u001b[39m\u001b[38;5;124m\"\u001b[39m\n",
      "\u001b[0;31mKeyboardInterrupt\u001b[0m: "
     ]
    }
   ],
   "source": [
    "import time\n",
    "i = \"Hello World\"\n",
    "while True:\n",
    "    for x in range(1, 5):\n",
    "        print(i)\n",
    "        time.sleep(2)\n",
    "    i = \"Hi\""
   ]
  }
 ],
 "metadata": {
  "kernelspec": {
   "display_name": "Python 3 (ipykernel)",
   "language": "python",
   "name": "python3"
  },
  "language_info": {
   "codemirror_mode": {
    "name": "ipython",
    "version": 3
   },
   "file_extension": ".py",
   "mimetype": "text/x-python",
   "name": "python",
   "nbconvert_exporter": "python",
   "pygments_lexer": "ipython3",
   "version": "3.10.4"
  }
 },
 "nbformat": 4,
 "nbformat_minor": 5
}
