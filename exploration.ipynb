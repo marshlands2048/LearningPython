{
 "cells": [
  {
   "cell_type": "markdown",
   "id": "ff9bbcc6-044e-4c18-bcd0-cd5c6f5378fa",
   "metadata": {},
   "source": [
    "# About This Notebook\n",
    "This is `exploration`, the Jupyter Notebook where we try out new pieces of code from _Python for Kids_. We do not copy down **any** notes, except for our own observations and thoughts on where this can be applied.\n",
    "# Creating a New Game: Bounce!\n",
    "First, we create a Game Canvas!"
   ]
  },
  {
   "cell_type": "code",
   "execution_count": 1,
   "id": "8d80c847-882b-4dd6-bae4-a2f3a4a9245e",
   "metadata": {},
   "outputs": [],
   "source": [
    "from tkinter import *\n",
    "import random\n",
    "import time\n",
    "tk = Tk()\n",
    "tk.title('Game')\n",
    "tk.resizable(0, 0)\n",
    "tk.wm_attributes(\"-topmost\", 1)\n",
    "canvas = Canvas(tk, width=500, height=400, bd=0, highlightthickness=0)\n",
    "canvas.pack()\n",
    "tk.update()"
   ]
  },
  {
   "cell_type": "markdown",
   "id": "431a8438-19d9-4729-a0a1-82fdcbd39c89",
   "metadata": {
    "tags": []
   },
   "source": [
    "What's going on here?!\n",
    "\n",
    "We titled the `tkinter` window 'Game'.\n",
    "\n",
    "Then, we used `resizable` to make the window a fixed size. The parameters `0, 0` say “the size of the window cannot be changed either horizontally or vertically.” \n",
    "\n",
    "Next, we call `wm_attributes` to tell `tkinter` to place \n",
    "the window containing our canvas in front of all other windows \n",
    "(`\"-topmost\"`). \n",
    "\n",
    "Both `bd=0` and `highlightthickness=0` make sure that there’s no border around the outside of the canvas. _FYI, `canvas.pack` tells the canvas to size itself according to the width and height parameters given in the preceding (previous) line._ \n",
    "\n",
    "_BTW, `tk.update` makes `tkinter` initialise itself for animations._\n",
    "\n",
    "## Creating the Ball Class"
   ]
  },
  {
   "cell_type": "code",
   "execution_count": 2,
   "id": "54a7eb66-ecb6-4639-9e0a-976ad51753fa",
   "metadata": {},
   "outputs": [],
   "source": [
    "class Ball:\n",
    "    def __init__(self, canvas, color):\n",
    "        self.canvas = canvas\n",
    "        self.id = canvas.create_oval(10, 10, 25, 25, fill=color)\n",
    "        self.canvas.move(self.id, 245, 100)\n",
    "    def draw(self):\n",
    "        pass"
   ]
  },
  {
   "cell_type": "markdown",
   "id": "daad5f77-60d8-4c55-bdf5-5017eb98d4d1",
   "metadata": {},
   "source": [
    "This has to be added after importing the three modules. \n",
    "\n",
    "We create an oval (or ball) at line 4. We store the identifierof the oval in `id`. \n",
    "\n",
    "The ball moves to the centre.\n",
    "\n",
    "Then, we define `draw(self)` and pass it."
   ]
  },
  {
   "cell_type": "code",
   "execution_count": 3,
   "id": "efca08e3-fd22-4911-a294-7698f45a2381",
   "metadata": {},
   "outputs": [
    {
     "ename": "NameError",
     "evalue": "name 'canvas' is not defined",
     "output_type": "error",
     "traceback": [
      "\u001b[1;31m---------------------------------------------------------------------------\u001b[0m",
      "\u001b[1;31mNameError\u001b[0m                                 Traceback (most recent call last)",
      "\u001b[1;32m~\\AppData\\Local\\Temp/ipykernel_19964/1794510930.py\u001b[0m in \u001b[0;36m<module>\u001b[1;34m\u001b[0m\n\u001b[1;32m----> 1\u001b[1;33m \u001b[0mball\u001b[0m \u001b[1;33m=\u001b[0m \u001b[0mBall\u001b[0m\u001b[1;33m(\u001b[0m\u001b[0mcanvas\u001b[0m\u001b[1;33m,\u001b[0m \u001b[1;34m'red'\u001b[0m\u001b[1;33m)\u001b[0m\u001b[1;33m\u001b[0m\u001b[1;33m\u001b[0m\u001b[0m\n\u001b[0m",
      "\u001b[1;31mNameError\u001b[0m: name 'canvas' is not defined"
     ]
    }
   ],
   "source": [
    "ball = Ball(canvas, 'red')"
   ]
  },
  {
   "cell_type": "markdown",
   "id": "528087bc-87d0-4603-8215-8c08fc2eb847",
   "metadata": {},
   "source": [
    "This creates a ball. Boom!"
   ]
  },
  {
   "cell_type": "code",
   "execution_count": null,
   "id": "69878154-ffb8-44ab-b79f-76a2320ca44b",
   "metadata": {},
   "outputs": [],
   "source": [
    "while 1:\n",
    "    tk.update_idletasks()\n",
    "    tk.update()\n",
    "    time.sleep(0.01)"
   ]
  },
  {
   "cell_type": "markdown",
   "id": "ffadbc52-b685-4747-b71a-3691261dd4ae",
   "metadata": {},
   "source": [
    "And this loop will run forever! Just as we learnt when creating animations, this enables animations. `tl.update_idletasks()` tell `tkinter` to quickly refresh the canvas, just like `update`. The differece is... idk.\n",
    "\n",
    "## Making the Ball Move"
   ]
  },
  {
   "cell_type": "code",
   "execution_count": 5,
   "id": "b3b4d0be-d453-4a1d-a825-bab5c4e9cd56",
   "metadata": {},
   "outputs": [],
   "source": [
    "class Ball:\n",
    "    def __init__(self, canvas, color):\n",
    "        self.canvas = canvas\n",
    "        self.id = canvas.create_oval(10, 10, 25, 25, fill=color)\n",
    "        self.canvas.move(self.id, 245, 100)\n",
    "    def draw(self):\n",
    "        self.canvas.move(self.id, 0, -1)"
   ]
  },
  {
   "cell_type": "code",
   "execution_count": 6,
   "id": "93d55583-31e0-4e30-a4b7-babf187a5618",
   "metadata": {},
   "outputs": [
    {
     "ename": "TypeError",
     "evalue": "ball.draw() missing 1 required positional argument: 'self'",
     "output_type": "error",
     "traceback": [
      "\u001b[1;31m---------------------------------------------------------------------------\u001b[0m",
      "\u001b[1;31mTypeError\u001b[0m                                 Traceback (most recent call last)",
      "\u001b[1;32m~\\AppData\\Local\\Temp/ipykernel_19964/2556335550.py\u001b[0m in \u001b[0;36m<module>\u001b[1;34m\u001b[0m\n\u001b[0;32m      1\u001b[0m \u001b[1;32mwhile\u001b[0m \u001b[1;36m1\u001b[0m\u001b[1;33m:\u001b[0m\u001b[1;33m\u001b[0m\u001b[1;33m\u001b[0m\u001b[0m\n\u001b[1;32m----> 2\u001b[1;33m     \u001b[0mball\u001b[0m\u001b[1;33m.\u001b[0m\u001b[0mdraw\u001b[0m\u001b[1;33m(\u001b[0m\u001b[1;33m)\u001b[0m\u001b[1;33m\u001b[0m\u001b[1;33m\u001b[0m\u001b[0m\n\u001b[0m\u001b[0;32m      3\u001b[0m     \u001b[0mtk\u001b[0m\u001b[1;33m.\u001b[0m\u001b[0mupdate_idletasks\u001b[0m\u001b[1;33m(\u001b[0m\u001b[1;33m)\u001b[0m\u001b[1;33m\u001b[0m\u001b[1;33m\u001b[0m\u001b[0m\n\u001b[0;32m      4\u001b[0m     \u001b[0mtk\u001b[0m\u001b[1;33m.\u001b[0m\u001b[0mupdate\u001b[0m\u001b[1;33m(\u001b[0m\u001b[1;33m)\u001b[0m\u001b[1;33m\u001b[0m\u001b[1;33m\u001b[0m\u001b[0m\n\u001b[0;32m      5\u001b[0m     \u001b[0mtime\u001b[0m\u001b[1;33m.\u001b[0m\u001b[0msleep\u001b[0m\u001b[1;33m(\u001b[0m\u001b[1;36m0.01\u001b[0m\u001b[1;33m)\u001b[0m\u001b[1;33m\u001b[0m\u001b[1;33m\u001b[0m\u001b[0m\n",
      "\u001b[1;31mTypeError\u001b[0m: ball.draw() missing 1 required positional argument: 'self'"
     ]
    }
   ],
   "source": [
    "while 1:\n",
    "    ball.draw()\n",
    "    tk.update_idletasks()\n",
    "    tk.update()\n",
    "    time.sleep(0.01)"
   ]
  },
  {
   "cell_type": "markdown",
   "id": "c1a82425-ce36-4b20-8368-de0da6dd9e49",
   "metadata": {},
   "source": [
    "Now, the ball will just float up to nowhere and vanish. This is the right flow of the code:"
   ]
  },
  {
   "cell_type": "code",
   "execution_count": null,
   "id": "2c1bf7d0-b06b-430c-b311-e577c5b82803",
   "metadata": {},
   "outputs": [],
   "source": [
    "from tkinter import *\n",
    "import random\n",
    "import time"
   ]
  },
  {
   "cell_type": "code",
   "execution_count": 8,
   "id": "719725cf-0d9b-4e83-9891-4963710531b1",
   "metadata": {},
   "outputs": [],
   "source": [
    "class Ball:\n",
    "    def __init__(self, canvas, color):\n",
    "        self.canvas = canvas\n",
    "        self.id = canvas.create_oval(10, 10, 25, 25, fill=color)\n",
    "        self.canvas.move(self.id, 245, 100)\n",
    "    def draw(self):\n",
    "        self.canvas.move(self.id, 0, -1)"
   ]
  },
  {
   "cell_type": "code",
   "execution_count": null,
   "id": "37ac5cd2-e4d3-4a7c-8a59-710bcb41ef58",
   "metadata": {},
   "outputs": [],
   "source": [
    "tk = Tk()\n",
    "tk.title('Game')\n",
    "tk.resizable(0, 0)\n",
    "tk.wm_attributes(\"-topmost\", 1)\n",
    "canvas = Canvas(tk, width=500, height=400, bd=0, highlightthickness=0)\n",
    "canvas.pack()\n",
    "tk.update()"
   ]
  },
  {
   "cell_type": "code",
   "execution_count": null,
   "id": "250cfe11-9c03-4e09-bce0-7c4b81ac6f48",
   "metadata": {},
   "outputs": [],
   "source": [
    "ball = Ball(canvas, 'red')"
   ]
  },
  {
   "cell_type": "code",
   "execution_count": null,
   "id": "f833eb67-8b70-45c0-b26e-87be14fcb8a4",
   "metadata": {},
   "outputs": [],
   "source": [
    "while 1:\n",
    "    ball.draw()\n",
    "    tk.update_idletasks()\n",
    "    tk.update()\n",
    "    time.sleep(0.01)"
   ]
  },
  {
   "cell_type": "markdown",
   "id": "c3a78723-486b-4417-a58b-bb01590a7026",
   "metadata": {},
   "source": [
    "## Bounce"
   ]
  },
  {
   "cell_type": "code",
   "execution_count": null,
   "id": "25ff7d1d-1911-4adb-8128-874d0ee54d63",
   "metadata": {},
   "outputs": [],
   "source": [
    "class Ball:\n",
    "    def __init__(self, canvas, color):\n",
    "        self.canvas = canvas\n",
    "        self.id = canvas.create_oval(10, 10, 25, 25, fill=color)\n",
    "        self.canvas.move(self.id, 245, 100)\n",
    "        # We added these 3 lines!\n",
    "        self.x = 0\n",
    "        self.y = -1\n",
    "        self.canvas_height = self.canvas.winfo_height()\n",
    "    def draw(self):\n",
    "        self.canvas.move(self.id, self.x, self.y)\n",
    "        pos = self.canvas.coords(self.id)\n",
    "        if pos[1] <= 0:\n",
    "            self.y = 1 \n",
    "        if pos[3] >= self.canvas_height:\n",
    "            self.y = -1"
   ]
  },
  {
   "cell_type": "markdown",
   "id": "452c8d21-c13a-46a8-8865-19bd68baa163",
   "metadata": {},
   "source": [
    "`winfo_height` returns the height of the canvas.\n",
    "`pos` gets the value of `self.canvas.coords(self.id)`, which is a function that returns the coordinates of an object on the screen as a list of 4 numbers, like this:\n",
    "\n",
    "`print(self.canvas.coords(self.id))\n",
    "[255.0, 29.0, 270.0, 44.0]`.\n",
    "\n",
    "The numbers are in this order: x1 (the left of the ball), y1 (top), x2 (right), y2 (bottom).\n",
    "\n",
    "Now, the ball should bounce up and down!"
   ]
  },
  {
   "cell_type": "code",
   "execution_count": null,
   "id": "5c95f14c-2ba4-4c55-8206-16ab394727b0",
   "metadata": {},
   "outputs": [],
   "source": [
    "class Ball:\n",
    "    def __init__(self, canvas, color):\n",
    "        self.canvas = canvas\n",
    "        self.id = canvas.create_oval(10, 10, 25, 25, fill=color)\n",
    "        self.canvas.move(self.id, 245, 100)\n",
    "        # We replace\n",
    "        # self.x = 0    and\n",
    "        # self.y = -1    with\n",
    "        starts = [-3, -2, -1, 1, 2, 3]\n",
    "        self.x = starts[random.randrange(5)]\n",
    "        self.y = -3\n",
    "        # The ball will now move in a random angle.\n",
    "        self.canvas_height = self.canvas.winfo_height()\n",
    "    def draw(self):\n",
    "        self.canvas.move(self.id, self.x, self.y)\n",
    "        pos = self.canvas.coords(self.id)\n",
    "        if pos[1] <= 0:\n",
    "            self.y = 1 \n",
    "        if pos[3] >= self.canvas_height:\n",
    "            self.y = -1\n",
    "        if pos[0] <= 0:\n",
    "            self.x = 3\n",
    "        if pos[2] >= self.canvas_width:\n",
    "            self.x = -3"
   ]
  },
  {
   "cell_type": "markdown",
   "id": "729ad086-9399-4b87-9076-7b2ebcc1e9f3",
   "metadata": {},
   "source": [
    "Here it is:"
   ]
  },
  {
   "cell_type": "code",
   "execution_count": 1,
   "id": "eb7f3729-d9dd-4bb1-9ebc-ae25a4162370",
   "metadata": {},
   "outputs": [
    {
     "ename": "AttributeError",
     "evalue": "'Ball' object has no attribute 'canvas_width'",
     "output_type": "error",
     "traceback": [
      "\u001b[1;31m---------------------------------------------------------------------------\u001b[0m",
      "\u001b[1;31mAttributeError\u001b[0m                            Traceback (most recent call last)",
      "\u001b[1;32m~\\AppData\\Local\\Temp/ipykernel_20776/1820358919.py\u001b[0m in \u001b[0;36m<module>\u001b[1;34m\u001b[0m\n\u001b[0;32m     35\u001b[0m \u001b[0mball\u001b[0m \u001b[1;33m=\u001b[0m \u001b[0mBall\u001b[0m\u001b[1;33m(\u001b[0m\u001b[0mcanvas\u001b[0m\u001b[1;33m,\u001b[0m \u001b[1;34m'red'\u001b[0m\u001b[1;33m)\u001b[0m\u001b[1;33m\u001b[0m\u001b[1;33m\u001b[0m\u001b[0m\n\u001b[0;32m     36\u001b[0m \u001b[1;32mwhile\u001b[0m \u001b[1;36m1\u001b[0m\u001b[1;33m:\u001b[0m\u001b[1;33m\u001b[0m\u001b[1;33m\u001b[0m\u001b[0m\n\u001b[1;32m---> 37\u001b[1;33m     \u001b[0mball\u001b[0m\u001b[1;33m.\u001b[0m\u001b[0mdraw\u001b[0m\u001b[1;33m(\u001b[0m\u001b[1;33m)\u001b[0m\u001b[1;33m\u001b[0m\u001b[1;33m\u001b[0m\u001b[0m\n\u001b[0m\u001b[0;32m     38\u001b[0m     \u001b[0mtk\u001b[0m\u001b[1;33m.\u001b[0m\u001b[0mupdate_idletasks\u001b[0m\u001b[1;33m(\u001b[0m\u001b[1;33m)\u001b[0m\u001b[1;33m\u001b[0m\u001b[1;33m\u001b[0m\u001b[0m\n\u001b[0;32m     39\u001b[0m     \u001b[0mtk\u001b[0m\u001b[1;33m.\u001b[0m\u001b[0mupdate\u001b[0m\u001b[1;33m(\u001b[0m\u001b[1;33m)\u001b[0m\u001b[1;33m\u001b[0m\u001b[1;33m\u001b[0m\u001b[0m\n",
      "\u001b[1;32m~\\AppData\\Local\\Temp/ipykernel_20776/1820358919.py\u001b[0m in \u001b[0;36mdraw\u001b[1;34m(self)\u001b[0m\n\u001b[0;32m     24\u001b[0m         \u001b[1;32mif\u001b[0m \u001b[0mpos\u001b[0m\u001b[1;33m[\u001b[0m\u001b[1;36m0\u001b[0m\u001b[1;33m]\u001b[0m \u001b[1;33m<=\u001b[0m \u001b[1;36m0\u001b[0m\u001b[1;33m:\u001b[0m\u001b[1;33m\u001b[0m\u001b[1;33m\u001b[0m\u001b[0m\n\u001b[0;32m     25\u001b[0m             \u001b[0mself\u001b[0m\u001b[1;33m.\u001b[0m\u001b[0mx\u001b[0m \u001b[1;33m=\u001b[0m \u001b[1;36m3\u001b[0m\u001b[1;33m\u001b[0m\u001b[1;33m\u001b[0m\u001b[0m\n\u001b[1;32m---> 26\u001b[1;33m         \u001b[1;32mif\u001b[0m \u001b[0mpos\u001b[0m\u001b[1;33m[\u001b[0m\u001b[1;36m2\u001b[0m\u001b[1;33m]\u001b[0m \u001b[1;33m>=\u001b[0m \u001b[0mself\u001b[0m\u001b[1;33m.\u001b[0m\u001b[0mcanvas_width\u001b[0m\u001b[1;33m:\u001b[0m\u001b[1;33m\u001b[0m\u001b[1;33m\u001b[0m\u001b[0m\n\u001b[0m\u001b[0;32m     27\u001b[0m             \u001b[0mself\u001b[0m\u001b[1;33m.\u001b[0m\u001b[0mx\u001b[0m \u001b[1;33m=\u001b[0m \u001b[1;33m-\u001b[0m\u001b[1;36m3\u001b[0m\u001b[1;33m\u001b[0m\u001b[1;33m\u001b[0m\u001b[0m\n\u001b[0;32m     28\u001b[0m \u001b[0mtk\u001b[0m \u001b[1;33m=\u001b[0m \u001b[0mTk\u001b[0m\u001b[1;33m(\u001b[0m\u001b[1;33m)\u001b[0m\u001b[1;33m\u001b[0m\u001b[1;33m\u001b[0m\u001b[0m\n",
      "\u001b[1;31mAttributeError\u001b[0m: 'Ball' object has no attribute 'canvas_width'"
     ]
    }
   ],
   "source": [
    "from tkinter import *\n",
    "import random\n",
    "import time\n",
    "class Ball:\n",
    "    def __init__(self, canvas, color):\n",
    "        self.canvas = canvas\n",
    "        self.id = canvas.create_oval(10, 10, 25, 25, fill=color)\n",
    "        self.canvas.move(self.id, 245, 100)\n",
    "        # We replace\n",
    "        # self.x = 0    and\n",
    "        # self.y = -1    with\n",
    "        starts = [-3, -2, -1, 1, 2, 3]\n",
    "        self.x = starts[random.randrange(5)]\n",
    "        self.y = -3\n",
    "        # The ball will now move in a random angle.\n",
    "        self.canvas_height = self.canvas.winfo_height()\n",
    "    def draw(self):\n",
    "        self.canvas.move(self.id, self.x, self.y)\n",
    "        pos = self.canvas.coords(self.id)\n",
    "        if pos[1] <= 0:\n",
    "            self.y = 1 \n",
    "        if pos[3] >= self.canvas_height:\n",
    "            self.y = -1\n",
    "        if pos[0] <= 0:\n",
    "            self.x = 3\n",
    "        if pos[2] >= self.canvas_width:\n",
    "            self.x = -3\n",
    "tk = Tk()\n",
    "tk.title('Game')\n",
    "tk.resizable(0, 0)\n",
    "tk.wm_attributes(\"-topmost\", 1)\n",
    "canvas = Canvas(tk, width=500, height=400, bd=0, highlightthickness=0)\n",
    "canvas.pack()\n",
    "tk.update()\n",
    "ball = Ball(canvas, 'red')\n",
    "while 1:\n",
    "    ball.draw()\n",
    "    tk.update_idletasks()\n",
    "    tk.update()\n",
    "    time.sleep(0.01666666666)"
   ]
  },
  {
   "cell_type": "markdown",
   "id": "51d2eac8-c995-49a4-8bdb-6612ad31c6fa",
   "metadata": {},
   "source": [
    "And this is not exactly the game you expected. But it is a new milestone!"
   ]
  }
 ],
 "metadata": {
  "kernelspec": {
   "display_name": "Python 3 (ipykernel)",
   "language": "python",
   "name": "python3"
  },
  "language_info": {
   "codemirror_mode": {
    "name": "ipython",
    "version": 3
   },
   "file_extension": ".py",
   "mimetype": "text/x-python",
   "name": "python",
   "nbconvert_exporter": "python",
   "pygments_lexer": "ipython3",
   "version": "3.10.0"
  }
 },
 "nbformat": 4,
 "nbformat_minor": 5
}
