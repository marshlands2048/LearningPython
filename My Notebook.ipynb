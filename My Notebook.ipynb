{
 "cells": [
  {
   "cell_type": "code",
   "execution_count": 1,
   "id": "4d1eb812-1b4e-49ef-b62a-8d7aadc5b0cb",
   "metadata": {},
   "outputs": [],
   "source": [
    "def outOfRut():\n",
    "    age = int(input('How old are you? '))                      \n",
    "    if age >= 13 and age <= 19:                             \n",
    "        print('So, you\\'re a teen, huh? You\\'re already %s!' % age)\n",
    "    else:\n",
    "        print('Huh?')"
   ]
  },
  {
   "cell_type": "code",
   "execution_count": 2,
   "id": "e3e7ab1a-22aa-45b2-9ab7-354f7b14099c",
   "metadata": {},
   "outputs": [
    {
     "name": "stdout",
     "output_type": "stream",
     "text": [
      "How old are you? 18\n",
      "So, you're a teen, huh? You're already 18!\n"
     ]
    }
   ],
   "source": [
    "outOfRut()"
   ]
  },
  {
   "cell_type": "markdown",
   "id": "e1b87f8d",
   "metadata": {},
   "source": [
    "# Classes and Objects\n",
    "## Classes\n",
    "We have learnt about Classifications in P3. Did you know that they can also be applied in the Python world?"
   ]
  },
  {
   "cell_type": "code",
   "execution_count": 3,
   "id": "964f1009",
   "metadata": {},
   "outputs": [],
   "source": [
    "class Things:\n",
    "    pass"
   ]
  },
  {
   "cell_type": "markdown",
   "id": "4868110d",
   "metadata": {},
   "source": [
    "We created the class Things first as it is the broadest. pass is used to tell Python that that is all the information we will provide. pass is used when we want to provide a class or function but don’t want to fill in the details at the moment.\n",
    "### Families\n",
    "If a class is part of another class, it is a child of the other class."
   ]
  },
  {
   "cell_type": "code",
   "execution_count": 4,
   "id": "feefb588",
   "metadata": {},
   "outputs": [],
   "source": [
    "class Inanimate(Things):\n",
    "    pass\n",
    "class Animate(Things):\n",
    "    pass\n",
    "class Animals(Animate):\n",
    "    pass\n",
    "class Plants(Animate):\n",
    "    pass\n",
    "class Bacteria(Animate):\n",
    "    pass\n",
    "class Fungi(Animate):\n",
    "    pass\n",
    "class OnceAlive(Inanimate):\n",
    "    pass\n",
    "class NeverAlive(Animate):\n",
    "    pass\n",
    "class Mammals(Animals):\n",
    "    pass\n",
    "class Humans(Mammals):\n",
    "    pass"
   ]
  },
  {
   "cell_type": "markdown",
   "id": "37c7dbd2",
   "metadata": {},
   "source": [
    "Here, Inanimate and Animate are children of Things. The parent is Things, which is wrapped up in round brackets.\n",
    "## Objects\n",
    "Here is how to make an object:"
   ]
  },
  {
   "cell_type": "code",
   "execution_count": 5,
   "id": "73de6ddb",
   "metadata": {},
   "outputs": [],
   "source": [
    "mashrafi = Humans()"
   ]
  },
  {
   "cell_type": "markdown",
   "id": "f1e9dcd7",
   "metadata": {},
   "source": [
    "Here, mashrafi becomes a variable. \n",
    "### Using Functions"
   ]
  },
  {
   "cell_type": "code",
   "execution_count": 6,
   "id": "b9b1d91a",
   "metadata": {},
   "outputs": [],
   "source": [
    "class Animals(Animate):\n",
    "    def breathe(self):\n",
    "        print('Breathing...')\n",
    "    def move(self):\n",
    "        print('Moving...')\n",
    "    def eat(self):\n",
    "        print('Eating...')"
   ]
  },
  {
   "cell_type": "code",
   "execution_count": 8,
   "id": "0abf7d9b",
   "metadata": {
    "scrolled": true
   },
   "outputs": [
    {
     "ename": "AttributeError",
     "evalue": "'Humans' object has no attribute 'eat'",
     "output_type": "error",
     "traceback": [
      "\u001b[0;31m---------------------------------------------------------------------------\u001b[0m",
      "\u001b[0;31mAttributeError\u001b[0m                            Traceback (most recent call last)",
      "\u001b[0;32m/var/folders/tf/0c8w0zdx03xg0xwmsj1rs6b00000gq/T/ipykernel_13954/2157882152.py\u001b[0m in \u001b[0;36m<module>\u001b[0;34m\u001b[0m\n\u001b[0;32m----> 1\u001b[0;31m \u001b[0mmashrafi\u001b[0m\u001b[0;34m.\u001b[0m\u001b[0meat\u001b[0m\u001b[0;34m(\u001b[0m\u001b[0;34m)\u001b[0m\u001b[0;34m\u001b[0m\u001b[0;34m\u001b[0m\u001b[0m\n\u001b[0m",
      "\u001b[0;31mAttributeError\u001b[0m: 'Humans' object has no attribute 'eat'"
     ]
    }
   ],
   "source": [
    "mashrafi.eat()"
   ]
  },
  {
   "cell_type": "markdown",
   "id": "97afcd21",
   "metadata": {},
   "source": [
    "As you can see here, mashrafi inherited functions from the Animal class. \n",
    "### A More Graphical Approach (to understanding the Pros of Classes and Objects"
   ]
  },
  {
   "cell_type": "code",
   "execution_count": null,
   "id": "e0953578",
   "metadata": {},
   "outputs": [],
   "source": [
    "import turtle\n",
    "ma = turtle.Pen()\n",
    "me = turtle.Pen()"
   ]
  },
  {
   "cell_type": "code",
   "execution_count": null,
   "id": "f7d58848",
   "metadata": {},
   "outputs": [],
   "source": [
    "ma.forward(50)\n",
    "ma.right(90)\n",
    "ma.forward(20)"
   ]
  },
  {
   "cell_type": "code",
   "execution_count": null,
   "id": "d789cfdb",
   "metadata": {},
   "outputs": [],
   "source": [
    "me.left(90)\n",
    "me.forward(100)"
   ]
  },
  {
   "cell_type": "markdown",
   "id": "71ed8075",
   "metadata": {},
   "source": [
    "Try this out for yourself and you'd be amazed that there are two pointers! That isn't really the point. Instead, this is really similar to Classes and Objects.\n",
    "### Functions Inside Functions"
   ]
  },
  {
   "cell_type": "code",
   "execution_count": 19,
   "id": "19f9d360",
   "metadata": {},
   "outputs": [
    {
     "name": "stdout",
     "output_type": "stream",
     "text": [
      "Moving...\n",
      "There's food here!\n",
      "Eating...\n"
     ]
    }
   ],
   "source": [
    "class Mammals:\n",
    "    pass\n",
    "class Humans(Mammals):\n",
    "    def move(self):\n",
    "        print('Moving...')\n",
    "    def eat(self):\n",
    "        print('Eating...')\n",
    "    def apocalypticShopping(self):\n",
    "        self.move()\n",
    "        print('There\\'s food here!')\n",
    "        self.eat()\n",
    "mashrafi = Humans()\n",
    "mashrafi.apocalypticShopping()"
   ]
  },
  {
   "cell_type": "markdown",
   "id": "609ce1c9",
   "metadata": {},
   "source": [
    "The self parameter is a way for one function in the class to call another function in the class (and in the parent class). So, you can get this:"
   ]
  },
  {
   "cell_type": "code",
   "execution_count": 29,
   "id": "d1c263ae",
   "metadata": {
    "scrolled": true
   },
   "outputs": [
    {
     "name": "stdout",
     "output_type": "stream",
     "text": [
      "Moving...\n",
      "There's food here!\n",
      "Eating...\n"
     ]
    }
   ],
   "source": [
    "class Mammals(Animals):\n",
    "    def move(self):\n",
    "        print('Moving...')\n",
    "    def eat(self):\n",
    "        print('Eating...')\n",
    "    def apocalypticShopping(self):\n",
    "        self.move()\n",
    "        print('There\\'s food here!')\n",
    "        self.eat()\n",
    "Mammals().apocalypticShopping()"
   ]
  },
  {
   "cell_type": "markdown",
   "id": "7da21c53",
   "metadata": {},
   "source": [
    "But not this: (because parents cannot inherit functions from children)"
   ]
  },
  {
   "cell_type": "code",
   "execution_count": 30,
   "id": "e55e79d1",
   "metadata": {
    "scrolled": true
   },
   "outputs": [
    {
     "ename": "AttributeError",
     "evalue": "'Animals' object has no attribute 'apocalypticShopping'",
     "output_type": "error",
     "traceback": [
      "\u001b[0;31m---------------------------------------------------------------------------\u001b[0m",
      "\u001b[0;31mAttributeError\u001b[0m                            Traceback (most recent call last)",
      "\u001b[0;32m/var/folders/tf/0c8w0zdx03xg0xwmsj1rs6b00000gq/T/ipykernel_13954/3320425750.py\u001b[0m in \u001b[0;36m<module>\u001b[0;34m\u001b[0m\n\u001b[1;32m     10\u001b[0m         \u001b[0mprint\u001b[0m\u001b[0;34m(\u001b[0m\u001b[0;34m'There\\'s food here!'\u001b[0m\u001b[0;34m)\u001b[0m\u001b[0;34m\u001b[0m\u001b[0;34m\u001b[0m\u001b[0m\n\u001b[1;32m     11\u001b[0m         \u001b[0mself\u001b[0m\u001b[0;34m.\u001b[0m\u001b[0meat\u001b[0m\u001b[0;34m(\u001b[0m\u001b[0;34m)\u001b[0m\u001b[0;34m\u001b[0m\u001b[0;34m\u001b[0m\u001b[0m\n\u001b[0;32m---> 12\u001b[0;31m \u001b[0mAnimals\u001b[0m\u001b[0;34m(\u001b[0m\u001b[0;34m)\u001b[0m\u001b[0;34m.\u001b[0m\u001b[0mapocalypticShopping\u001b[0m\u001b[0;34m(\u001b[0m\u001b[0;34m)\u001b[0m\u001b[0;34m\u001b[0m\u001b[0;34m\u001b[0m\u001b[0m\n\u001b[0m",
      "\u001b[0;31mAttributeError\u001b[0m: 'Animals' object has no attribute 'apocalypticShopping'"
     ]
    }
   ],
   "source": [
    "class Animals:\n",
    "    pass\n",
    "class Mammals(Animals):\n",
    "    def move(self):\n",
    "        print('Moving...')\n",
    "    def eat(self):\n",
    "        print('Eating...')\n",
    "    def apocalypticShopping(self):\n",
    "        self.move()\n",
    "        print('There\\'s food here!')\n",
    "        self.eat()\n",
    "Animals().apocalypticShopping()"
   ]
  },
  {
   "cell_type": "markdown",
   "id": "f40e72a7",
   "metadata": {},
   "source": [
    "## Initialising Objects\n",
    "to prepare them for the real world using the __init__ function"
   ]
  },
  {
   "cell_type": "code",
   "execution_count": null,
   "id": "4a311e39",
   "metadata": {},
   "outputs": [],
   "source": []
  }
 ],
 "metadata": {
  "kernelspec": {
   "display_name": "Python 3 (ipykernel)",
   "language": "python",
   "name": "python3"
  },
  "language_info": {
   "codemirror_mode": {
    "name": "ipython",
    "version": 3
   },
   "file_extension": ".py",
   "mimetype": "text/x-python",
   "name": "python",
   "nbconvert_exporter": "python",
   "pygments_lexer": "ipython3",
   "version": "3.9.7"
  }
 },
 "nbformat": 4,
 "nbformat_minor": 5
}
