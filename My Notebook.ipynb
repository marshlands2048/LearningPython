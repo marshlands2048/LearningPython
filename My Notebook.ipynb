{
 "cells": [
  {
   "cell_type": "code",
   "execution_count": 1,
   "id": "4d1eb812-1b4e-49ef-b62a-8d7aadc5b0cb",
   "metadata": {},
   "outputs": [],
   "source": [
    "def outOfRut():\n",
    "    age = int(input('How old are you? '))                      \n",
    "    if age >= 13 and age <= 19:                             \n",
    "        print('So, you\\'re a teen, huh? You\\'re already %s!' % age)\n",
    "    else:\n",
    "        print('Huh?')"
   ]
  },
  {
   "cell_type": "code",
   "execution_count": 2,
   "id": "e3e7ab1a-22aa-45b2-9ab7-354f7b14099c",
   "metadata": {},
   "outputs": [
    {
     "name": "stdout",
     "output_type": "stream",
     "text": [
      "How old are you? 18\n",
      "So, you're a teen, huh? You're already 18!\n"
     ]
    }
   ],
   "source": [
    "outOfRut()"
   ]
  },
  {
   "cell_type": "markdown",
   "id": "e1b87f8d",
   "metadata": {},
   "source": [
    "# Classes and Objects\n",
    "## Classes\n",
    "We have learnt about Classifications in P3. Did you know that they can also be applied in the Python world?"
   ]
  },
  {
   "cell_type": "code",
   "execution_count": 3,
   "id": "964f1009",
   "metadata": {},
   "outputs": [],
   "source": [
    "class Things:\n",
    "    pass"
   ]
  },
  {
   "cell_type": "markdown",
   "id": "4868110d",
   "metadata": {},
   "source": [
    "We created the class Things first as it is the broadest. pass is used to tell Python that that is all the information we will provide. pass is used when we want to provide a class or function but don’t want to fill in the details at the moment.\n",
    "### Families\n",
    "If a class is part of another class, it is a child of the other class."
   ]
  },
  {
   "cell_type": "code",
   "execution_count": 4,
   "id": "feefb588",
   "metadata": {},
   "outputs": [],
   "source": [
    "class Inanimate(Things):\n",
    "    pass\n",
    "class Animate(Things):\n",
    "    pass\n",
    "class Animals(Animate):\n",
    "    pass\n",
    "class Plants(Animate):\n",
    "    pass\n",
    "class Bacteria(Animate):\n",
    "    pass\n",
    "class Fungi(Animate):\n",
    "    pass\n",
    "class OnceAlive(Inanimate):\n",
    "    pass\n",
    "class NeverAlive(Animate):\n",
    "    pass\n",
    "class Mammals(Animals):\n",
    "    pass\n",
    "class Humans(Mammals):\n",
    "    pass"
   ]
  },
  {
   "cell_type": "markdown",
   "id": "37c7dbd2",
   "metadata": {},
   "source": [
    "Here, Inanimate and Animate are children of Things. The parent is Things, which is wrapped up in round brackets.\n",
    "## Objects\n",
    "Here is how to make an object:"
   ]
  },
  {
   "cell_type": "code",
   "execution_count": 5,
   "id": "73de6ddb",
   "metadata": {},
   "outputs": [],
   "source": [
    "mashrafi = Humans()"
   ]
  },
  {
   "cell_type": "markdown",
   "id": "f1e9dcd7",
   "metadata": {},
   "source": [
    "Here, mashrafi becomes a variable. \n",
    "### Using Functions"
   ]
  },
  {
   "cell_type": "code",
   "execution_count": 6,
   "id": "b9b1d91a",
   "metadata": {},
   "outputs": [],
   "source": [
    "class Animals(Animate):\n",
    "    def breathe(self):\n",
    "        print('Breathing...')\n",
    "    def move(self):\n",
    "        print('Moving...')\n",
    "    def eat(self):\n",
    "        print('Eating...')"
   ]
  },
  {
   "cell_type": "code",
   "execution_count": 8,
   "id": "0abf7d9b",
   "metadata": {
    "scrolled": true
   },
   "outputs": [
    {
     "ename": "AttributeError",
     "evalue": "'Humans' object has no attribute 'eat'",
     "output_type": "error",
     "traceback": [
      "\u001b[0;31m---------------------------------------------------------------------------\u001b[0m",
      "\u001b[0;31mAttributeError\u001b[0m                            Traceback (most recent call last)",
      "\u001b[0;32m/var/folders/tf/0c8w0zdx03xg0xwmsj1rs6b00000gq/T/ipykernel_13954/2157882152.py\u001b[0m in \u001b[0;36m<module>\u001b[0;34m\u001b[0m\n\u001b[0;32m----> 1\u001b[0;31m \u001b[0mmashrafi\u001b[0m\u001b[0;34m.\u001b[0m\u001b[0meat\u001b[0m\u001b[0;34m(\u001b[0m\u001b[0;34m)\u001b[0m\u001b[0;34m\u001b[0m\u001b[0;34m\u001b[0m\u001b[0m\n\u001b[0m",
      "\u001b[0;31mAttributeError\u001b[0m: 'Humans' object has no attribute 'eat'"
     ]
    }
   ],
   "source": [
    "mashrafi.eat()"
   ]
  },
  {
   "cell_type": "markdown",
   "id": "97afcd21",
   "metadata": {},
   "source": [
    "As you can see here, mashrafi inherited functions from the Animal class. \n",
    "### A More Graphical Approach (to understanding the Pros of Classes and Objects"
   ]
  },
  {
   "cell_type": "code",
   "execution_count": null,
   "id": "e0953578",
   "metadata": {},
   "outputs": [],
   "source": [
    "import turtle\n",
    "ma = turtle.Pen()\n",
    "me = turtle.Pen()"
   ]
  },
  {
   "cell_type": "code",
   "execution_count": null,
   "id": "f7d58848",
   "metadata": {},
   "outputs": [],
   "source": [
    "ma.forward(50)\n",
    "ma.right(90)\n",
    "ma.forward(20)"
   ]
  },
  {
   "cell_type": "code",
   "execution_count": null,
   "id": "d789cfdb",
   "metadata": {},
   "outputs": [],
   "source": [
    "me.left(90)\n",
    "me.forward(100)"
   ]
  },
  {
   "cell_type": "markdown",
   "id": "71ed8075",
   "metadata": {},
   "source": [
    "Try this out for yourself and you'd be amazed that there are two pointers! That isn't really the point. Instead, this is really similar to Classes and Objects.\n",
    "### Functions Inside Functions"
   ]
  },
  {
   "cell_type": "code",
   "execution_count": 19,
   "id": "19f9d360",
   "metadata": {},
   "outputs": [
    {
     "name": "stdout",
     "output_type": "stream",
     "text": [
      "Moving...\n",
      "There's food here!\n",
      "Eating...\n"
     ]
    }
   ],
   "source": [
    "class Mammals:\n",
    "    pass\n",
    "class Humans(Mammals):\n",
    "    def move(self):\n",
    "        print('Moving...')\n",
    "    def eat(self):\n",
    "        print('Eating...')\n",
    "    def apocalypticShopping(self):\n",
    "        self.move()\n",
    "        print('There\\'s food here!')\n",
    "        self.eat()\n",
    "mashrafi = Humans()\n",
    "mashrafi.apocalypticShopping()"
   ]
  },
  {
   "cell_type": "markdown",
   "id": "609ce1c9",
   "metadata": {},
   "source": [
    "The self parameter is a way for one function in the class to call another function in the class (and in the parent class). So, you can get this:"
   ]
  },
  {
   "cell_type": "code",
   "execution_count": 5,
   "id": "d1c263ae",
   "metadata": {
    "scrolled": true
   },
   "outputs": [
    {
     "name": "stdout",
     "output_type": "stream",
     "text": [
      "Moving...\n",
      "There's food here!\n",
      "Eating...\n"
     ]
    }
   ],
   "source": [
    "class Mammals:\n",
    "    def move(self):\n",
    "        print('Moving...')\n",
    "    def eat(self):\n",
    "        print('Eating...')\n",
    "    def apocalypticShopping(self):\n",
    "        self.move()\n",
    "        print('There\\'s food here!')\n",
    "        self.eat()\n",
    "Mammals().apocalypticShopping()"
   ]
  },
  {
   "cell_type": "markdown",
   "id": "7da21c53",
   "metadata": {},
   "source": [
    "But not this: (because parents cannot inherit functions from children)"
   ]
  },
  {
   "cell_type": "code",
   "execution_count": 1,
   "id": "e55e79d1",
   "metadata": {
    "scrolled": true
   },
   "outputs": [
    {
     "ename": "AttributeError",
     "evalue": "'Animals' object has no attribute 'apocalypticShopping'",
     "output_type": "error",
     "traceback": [
      "\u001b[0;31m---------------------------------------------------------------------------\u001b[0m",
      "\u001b[0;31mAttributeError\u001b[0m                            Traceback (most recent call last)",
      "\u001b[0;32m/var/folders/tf/0c8w0zdx03xg0xwmsj1rs6b00000gq/T/ipykernel_22981/3320425750.py\u001b[0m in \u001b[0;36m<module>\u001b[0;34m\u001b[0m\n\u001b[1;32m     10\u001b[0m         \u001b[0mprint\u001b[0m\u001b[0;34m(\u001b[0m\u001b[0;34m'There\\'s food here!'\u001b[0m\u001b[0;34m)\u001b[0m\u001b[0;34m\u001b[0m\u001b[0;34m\u001b[0m\u001b[0m\n\u001b[1;32m     11\u001b[0m         \u001b[0mself\u001b[0m\u001b[0;34m.\u001b[0m\u001b[0meat\u001b[0m\u001b[0;34m(\u001b[0m\u001b[0;34m)\u001b[0m\u001b[0;34m\u001b[0m\u001b[0;34m\u001b[0m\u001b[0m\n\u001b[0;32m---> 12\u001b[0;31m \u001b[0mAnimals\u001b[0m\u001b[0;34m(\u001b[0m\u001b[0;34m)\u001b[0m\u001b[0;34m.\u001b[0m\u001b[0mapocalypticShopping\u001b[0m\u001b[0;34m(\u001b[0m\u001b[0;34m)\u001b[0m\u001b[0;34m\u001b[0m\u001b[0;34m\u001b[0m\u001b[0m\n\u001b[0m",
      "\u001b[0;31mAttributeError\u001b[0m: 'Animals' object has no attribute 'apocalypticShopping'"
     ]
    }
   ],
   "source": [
    "class Animals:\n",
    "    pass\n",
    "class Mammals(Animals):\n",
    "    def move(self):\n",
    "        print('Moving...')\n",
    "    def eat(self):\n",
    "        print('Eating...')\n",
    "    def apocalypticShopping(self):\n",
    "        self.move()\n",
    "        print('There\\'s food here!')\n",
    "        self.eat()\n",
    "Animals().apocalypticShopping()"
   ]
  },
  {
   "cell_type": "markdown",
   "id": "0874cb23-c7de-4134-970c-d7940be82f3e",
   "metadata": {},
   "source": [
    "## Initialising Objects\n",
    "to prepare them for the real world using the __init__ function"
   ]
  },
  {
   "cell_type": "code",
   "execution_count": 31,
   "id": "95e518a1-af72-4f46-bb8b-10e18fab0aac",
   "metadata": {},
   "outputs": [],
   "source": [
    "class Humans:\n",
    "        def __init__(self, spots):\n",
    "            self.spots = spots"
   ]
  },
  {
   "cell_type": "code",
   "execution_count": 32,
   "id": "9f7e2bc9-982f-4f24-ba08-a2017f3f0dfa",
   "metadata": {},
   "outputs": [
    {
     "name": "stdout",
     "output_type": "stream",
     "text": [
      "20\n",
      "0\n"
     ]
    }
   ],
   "source": [
    "marsh = Humans(20)\n",
    "sharm = Humans(0)\n",
    "print(marsh.spots)\n",
    "print(sharm.spots)"
   ]
  },
  {
   "cell_type": "markdown",
   "id": "e9e0e368-b4e4-46af-851d-ae6cc9332255",
   "metadata": {},
   "source": [
    "Remember, when we create an object of a class, such as ozwald above, we can refer to its variables or functions using the dot opera- tor and the name of the variable or function we want to use.\n",
    "#### Challenge 2: Turtle Pitchfork"
   ]
  },
  {
   "cell_type": "code",
   "execution_count": 2,
   "id": "2a33f26a-11d8-4a88-879f-5b9047744920",
   "metadata": {},
   "outputs": [],
   "source": [
    "import turtle\n",
    "a = turtle.Pen()\n",
    "b = turtle.Pen()\n",
    "c = turtle.Pen()\n",
    "d = turtle.Pen()"
   ]
  },
  {
   "cell_type": "code",
   "execution_count": 3,
   "id": "a9100601-772a-4d96-8708-bb8755a57c7b",
   "metadata": {},
   "outputs": [],
   "source": [
    "a.forward(100)\n",
    "b.forward(100)\n",
    "c.forward(100)\n",
    "d.forward(100)"
   ]
  },
  {
   "cell_type": "code",
   "execution_count": 4,
   "id": "d6396e3f-be36-4c46-b65d-1c5e98614f35",
   "metadata": {},
   "outputs": [],
   "source": [
    "b.forward(10)\n",
    "c.forward(10)"
   ]
  },
  {
   "cell_type": "code",
   "execution_count": 5,
   "id": "124fe741-6127-41c7-a506-430405cca8a9",
   "metadata": {},
   "outputs": [],
   "source": [
    "a.left(90)\n",
    "d.right(90)\n",
    "a.forward(35)\n",
    "d.forward(35)\n",
    "a.right(90)\n",
    "d.left(90)"
   ]
  },
  {
   "cell_type": "code",
   "execution_count": 6,
   "id": "94e96428-d8ba-4810-aa99-6f13137fe0d6",
   "metadata": {},
   "outputs": [],
   "source": [
    "b.left(90)\n",
    "c.right(90)\n",
    "b.forward(17.5)\n",
    "c.forward(17.5)\n",
    "b.right(90)\n",
    "c.left(90)"
   ]
  },
  {
   "cell_type": "code",
   "execution_count": 7,
   "id": "f1341897-44ba-4b13-a37a-9ce1991255ba",
   "metadata": {},
   "outputs": [],
   "source": [
    "a.forward(35)\n",
    "d.forward(35)\n",
    "b.forward(17.5)\n",
    "c.forward(17.5)"
   ]
  },
  {
   "cell_type": "markdown",
   "id": "16c17a9c-3dd6-4d33-bb31-102595408dcb",
   "metadata": {},
   "source": [
    "# Built-in Functions\n",
    "## The `abs` Function\n",
    "The abs function returns the absolute value of a number, which is the value of a number without its sign."
   ]
  },
  {
   "cell_type": "code",
   "execution_count": 2,
   "id": "c06c0e5f-9839-41e0-80e2-d06cac046628",
   "metadata": {
    "scrolled": true
   },
   "outputs": [
    {
     "name": "stdout",
     "output_type": "stream",
     "text": [
      "69\n"
     ]
    }
   ],
   "source": [
    "print(abs(-69))"
   ]
  },
  {
   "cell_type": "code",
   "execution_count": 3,
   "id": "7ae4bdb1-9527-441c-824c-0ece42309435",
   "metadata": {
    "scrolled": true
   },
   "outputs": [
    {
     "name": "stdout",
     "output_type": "stream",
     "text": [
      "69\n"
     ]
    }
   ],
   "source": [
    "print(abs(69))"
   ]
  },
  {
   "cell_type": "markdown",
   "id": "e95ef30b-9b52-419e-a8fc-3886ac68c580",
   "metadata": {},
   "source": [
    "A cool way to apply this is when you want to calculate the amount of movement of a character in a game if you do not need to know the direction it is travelling. "
   ]
  },
  {
   "cell_type": "code",
   "execution_count": 4,
   "id": "4cce665c-d9e7-452f-9775-72fdfd6be8c9",
   "metadata": {},
   "outputs": [
    {
     "name": "stdout",
     "output_type": "stream",
     "text": [
      "Moving...\n"
     ]
    }
   ],
   "source": [
    "steps = -3\n",
    "if abs(steps) > 0:\n",
    "        print('Moving...')"
   ]
  },
  {
   "cell_type": "markdown",
   "id": "ebf9f009-2a0a-4527-872d-941d6539ee30",
   "metadata": {},
   "source": [
    "If we were not to use the `abs` function:"
   ]
  },
  {
   "cell_type": "code",
   "execution_count": 7,
   "id": "8df9eed9-7b43-4d43-8b72-b52c0c607bbe",
   "metadata": {},
   "outputs": [
    {
     "name": "stdout",
     "output_type": "stream",
     "text": [
      "Character is moving\n"
     ]
    }
   ],
   "source": [
    "steps = -3\n",
    "if steps < 0 or steps > 0:\n",
    "    print('Character is moving')"
   ]
  },
  {
   "cell_type": "markdown",
   "id": "061a3875-8c6b-48af-9e31-c1a017e4a6b4",
   "metadata": {},
   "source": [
    "## The `bool` Function\n",
    "`bool` is short for _Boolean_. When using `bool` for numbers, 0 returns a `False` while any other number returns a `True`."
   ]
  },
  {
   "cell_type": "code",
   "execution_count": 8,
   "id": "4c7b2ead-0def-4e94-8e95-0dbf281ca963",
   "metadata": {},
   "outputs": [
    {
     "name": "stdout",
     "output_type": "stream",
     "text": [
      "False\n"
     ]
    }
   ],
   "source": [
    "print(bool(0))"
   ]
  },
  {
   "cell_type": "code",
   "execution_count": 9,
   "id": "3d279bc3-92fe-4853-a91e-5c64473f77c1",
   "metadata": {},
   "outputs": [
    {
     "name": "stdout",
     "output_type": "stream",
     "text": [
      "True\n"
     ]
    }
   ],
   "source": [
    "print(bool(69))"
   ]
  },
  {
   "cell_type": "markdown",
   "id": "4d1d3c4b-949f-4329-81d6-6e244fac1ee6",
   "metadata": {},
   "source": [
    "When using `bool` for other values like strings, it returns `True` as long as there is a value for the string. It will only return `False` when the string is empty or has the keyword `None`. "
   ]
  },
  {
   "cell_type": "code",
   "execution_count": 10,
   "id": "1b07e8d0-f271-4342-906a-87ce0e99a26a",
   "metadata": {},
   "outputs": [
    {
     "name": "stdout",
     "output_type": "stream",
     "text": [
      "False\n"
     ]
    }
   ],
   "source": [
    "print(bool(None))"
   ]
  },
  {
   "cell_type": "code",
   "execution_count": 11,
   "id": "593b0f9c-58f8-487f-86f8-bf172d5e407b",
   "metadata": {},
   "outputs": [
    {
     "name": "stdout",
     "output_type": "stream",
     "text": [
      "True\n"
     ]
    }
   ],
   "source": [
    "print(bool('a'))"
   ]
  },
  {
   "cell_type": "code",
   "execution_count": 14,
   "id": "12640eb8-9331-4d33-95aa-b20761f3ec05",
   "metadata": {},
   "outputs": [
    {
     "name": "stdout",
     "output_type": "stream",
     "text": [
      "True\n"
     ]
    }
   ],
   "source": [
    "print(bool(' '))"
   ]
  },
  {
   "cell_type": "markdown",
   "id": "9c9996a0-2f77-49e7-a42f-0481b30ca30b",
   "metadata": {},
   "source": [
    "It will also return `False` for lists, tuples and maps without any values. "
   ]
  },
  {
   "cell_type": "code",
   "execution_count": 16,
   "id": "b0c84dcb-18ed-496d-bc19-aefc375e2edd",
   "metadata": {},
   "outputs": [
    {
     "name": "stdout",
     "output_type": "stream",
     "text": [
      "True\n"
     ]
    }
   ],
   "source": [
    "my_silly_list = ['s', 'i', 'l', 'l', 'y']\n",
    "print(bool(my_silly_list))"
   ]
  },
  {
   "cell_type": "markdown",
   "id": "712e7142-c935-4ff8-b7c6-22a5b4d63d3f",
   "metadata": {},
   "source": [
    "### A very good use case"
   ]
  },
  {
   "cell_type": "code",
   "execution_count": 18,
   "id": "8fb3dd09-51e7-48dd-ac51-5088386acfa3",
   "metadata": {},
   "outputs": [
    {
     "name": "stdout",
     "output_type": "stream",
     "text": [
      "Year of birth: \n"
     ]
    }
   ],
   "source": [
    "year = input('Year of birth: ')"
   ]
  },
  {
   "cell_type": "code",
   "execution_count": 19,
   "id": "a869c2a3-0975-4478-8790-1eeeb9d68e43",
   "metadata": {},
   "outputs": [
    {
     "name": "stdout",
     "output_type": "stream",
     "text": [
      "You need to enter a value for your year of birth\n"
     ]
    }
   ],
   "source": [
    "if not bool(year.rstrip()):\n",
    "    print('You need to enter a value for your year of birth')"
   ]
  },
  {
   "cell_type": "markdown",
   "id": "fe3a5804-39b4-411d-8f11-bad7f1d34605",
   "metadata": {},
   "source": [
    "The `rstrip` function removes any spaces and enter characters from the end of the string."
   ]
  },
  {
   "cell_type": "markdown",
   "id": "da039d52-26b4-4ea6-bec3-ddfac6ae4bc8",
   "metadata": {},
   "source": [
    "## The `dir` Function\n",
    "can be used to show what functions you can use for a value. "
   ]
  },
  {
   "cell_type": "code",
   "execution_count": 1,
   "id": "b5ea424c-52fd-42c5-bcf9-9a0ad90051be",
   "metadata": {},
   "outputs": [
    {
     "data": {
      "text/plain": [
       "['__add__',\n",
       " '__class__',\n",
       " '__class_getitem__',\n",
       " '__contains__',\n",
       " '__delattr__',\n",
       " '__delitem__',\n",
       " '__dir__',\n",
       " '__doc__',\n",
       " '__eq__',\n",
       " '__format__',\n",
       " '__ge__',\n",
       " '__getattribute__',\n",
       " '__getitem__',\n",
       " '__gt__',\n",
       " '__hash__',\n",
       " '__iadd__',\n",
       " '__imul__',\n",
       " '__init__',\n",
       " '__init_subclass__',\n",
       " '__iter__',\n",
       " '__le__',\n",
       " '__len__',\n",
       " '__lt__',\n",
       " '__mul__',\n",
       " '__ne__',\n",
       " '__new__',\n",
       " '__reduce__',\n",
       " '__reduce_ex__',\n",
       " '__repr__',\n",
       " '__reversed__',\n",
       " '__rmul__',\n",
       " '__setattr__',\n",
       " '__setitem__',\n",
       " '__sizeof__',\n",
       " '__str__',\n",
       " '__subclasshook__',\n",
       " 'append',\n",
       " 'clear',\n",
       " 'copy',\n",
       " 'count',\n",
       " 'extend',\n",
       " 'index',\n",
       " 'insert',\n",
       " 'pop',\n",
       " 'remove',\n",
       " 'reverse',\n",
       " 'sort']"
      ]
     },
     "execution_count": 1,
     "metadata": {},
     "output_type": "execute_result"
    }
   ],
   "source": [
    "dir(['This', 'is', 'a', 'list'])"
   ]
  },
  {
   "cell_type": "markdown",
   "id": "a7670326-a861-4a28-b98a-cf5cc3cdf2bf",
   "metadata": {},
   "source": [
    "Most of the functions it shows are probably useless for you as they are mainly used by Python itself. Nevertheless, the `dir` function is perfect for quickly finding out what you can do with a value. "
   ]
  },
  {
   "cell_type": "markdown",
   "id": "aeda8633-9962-417d-bd31-4fc3c42d7c8b",
   "metadata": {},
   "source": [
    "### The `help` Function\n",
    "can be used to get a short summary of any function in the list. "
   ]
  },
  {
   "cell_type": "code",
   "execution_count": 3,
   "id": "0e9e4dba-4ccd-413b-acd9-8b1c949dcdf1",
   "metadata": {},
   "outputs": [
    {
     "data": {
      "text/plain": [
       "['__add__',\n",
       " '__class__',\n",
       " '__contains__',\n",
       " '__delattr__',\n",
       " '__dir__',\n",
       " '__doc__',\n",
       " '__eq__',\n",
       " '__format__',\n",
       " '__ge__',\n",
       " '__getattribute__',\n",
       " '__getitem__',\n",
       " '__getnewargs__',\n",
       " '__gt__',\n",
       " '__hash__',\n",
       " '__init__',\n",
       " '__init_subclass__',\n",
       " '__iter__',\n",
       " '__le__',\n",
       " '__len__',\n",
       " '__lt__',\n",
       " '__mod__',\n",
       " '__mul__',\n",
       " '__ne__',\n",
       " '__new__',\n",
       " '__reduce__',\n",
       " '__reduce_ex__',\n",
       " '__repr__',\n",
       " '__rmod__',\n",
       " '__rmul__',\n",
       " '__setattr__',\n",
       " '__sizeof__',\n",
       " '__str__',\n",
       " '__subclasshook__',\n",
       " 'capitalize',\n",
       " 'casefold',\n",
       " 'center',\n",
       " 'count',\n",
       " 'encode',\n",
       " 'endswith',\n",
       " 'expandtabs',\n",
       " 'find',\n",
       " 'format',\n",
       " 'format_map',\n",
       " 'index',\n",
       " 'isalnum',\n",
       " 'isalpha',\n",
       " 'isascii',\n",
       " 'isdecimal',\n",
       " 'isdigit',\n",
       " 'isidentifier',\n",
       " 'islower',\n",
       " 'isnumeric',\n",
       " 'isprintable',\n",
       " 'isspace',\n",
       " 'istitle',\n",
       " 'isupper',\n",
       " 'join',\n",
       " 'ljust',\n",
       " 'lower',\n",
       " 'lstrip',\n",
       " 'maketrans',\n",
       " 'partition',\n",
       " 'removeprefix',\n",
       " 'removesuffix',\n",
       " 'replace',\n",
       " 'rfind',\n",
       " 'rindex',\n",
       " 'rjust',\n",
       " 'rpartition',\n",
       " 'rsplit',\n",
       " 'rstrip',\n",
       " 'split',\n",
       " 'splitlines',\n",
       " 'startswith',\n",
       " 'strip',\n",
       " 'swapcase',\n",
       " 'title',\n",
       " 'translate',\n",
       " 'upper',\n",
       " 'zfill']"
      ]
     },
     "execution_count": 3,
     "metadata": {},
     "output_type": "execute_result"
    }
   ],
   "source": [
    "music = 'I love Apple Music!'\n",
    "dir(music)"
   ]
  },
  {
   "cell_type": "code",
   "execution_count": 6,
   "id": "b41d3bbb-a3e4-45f7-9dbc-b623e0b358bc",
   "metadata": {},
   "outputs": [
    {
     "name": "stdout",
     "output_type": "stream",
     "text": [
      "Help on built-in function upper:\n",
      "\n",
      "upper() method of builtins.str instance\n",
      "    Return a copy of the string converted to uppercase.\n",
      "\n"
     ]
    }
   ],
   "source": [
    "help(music.upper)"
   ]
  },
  {
   "cell_type": "markdown",
   "id": "2facb5ab-0261-4777-9407-8901f59c9ac8",
   "metadata": {},
   "source": [
    "This says that `upper` is a built-in function of the string (builtins.str)."
   ]
  },
  {
   "cell_type": "code",
   "execution_count": 9,
   "id": "a7836236-d890-400c-bac5-878207394300",
   "metadata": {},
   "outputs": [
    {
     "name": "stdout",
     "output_type": "stream",
     "text": [
      "I LOVE APPLE MUSIC!\n"
     ]
    }
   ],
   "source": [
    "print(music.upper())"
   ]
  },
  {
   "cell_type": "markdown",
   "id": "2a1deaa7-0a9a-4243-93d9-6413266e392a",
   "metadata": {},
   "source": [
    "## The `eval` Function\n",
    "is not evil. It is short for _evaluate_ and uses a string as the input (parameter) and run it like a Python expression or statement. "
   ]
  },
  {
   "cell_type": "code",
   "execution_count": 11,
   "id": "1daa00ff-7391-4446-9769-4760468ff619",
   "metadata": {},
   "outputs": [
    {
     "name": "stdout",
     "output_type": "stream",
     "text": [
      "wow\n"
     ]
    }
   ],
   "source": [
    "eval(\"print('wow')\")"
   ]
  },
  {
   "cell_type": "markdown",
   "id": "c9f486b9-797f-4a86-919d-5fa16789cfdd",
   "metadata": {},
   "source": [
    "_Do note that you have to use single quotation marks for the parameter and double quotation marks for `'wow'` or the other way round._\n",
    "So basically, it runs a string as Python code. This can be useful when you want the user to input a Python code."
   ]
  },
  {
   "cell_type": "code",
   "execution_count": 13,
   "id": "0b96a37e-456e-48ae-9fef-23e2f67ece43",
   "metadata": {},
   "outputs": [
    {
     "name": "stdin",
     "output_type": "stream",
     "text": [
      "Show one Python code you have learnt today:  print('Hello World')\n"
     ]
    },
    {
     "name": "stdout",
     "output_type": "stream",
     "text": [
      "Hello World\n"
     ]
    }
   ],
   "source": [
    "code = input('Show one Python code you have learnt today: ')\n",
    "eval(code)"
   ]
  },
  {
   "cell_type": "markdown",
   "id": "d6665d0f-34af-44ab-94a4-9cadca0504a1",
   "metadata": {},
   "source": [
    "However, it only works with simple expressions."
   ]
  },
  {
   "cell_type": "code",
   "execution_count": 14,
   "id": "efb741e0-5b3b-49a9-b72a-131c070b7a8b",
   "metadata": {},
   "outputs": [
    {
     "name": "stdin",
     "output_type": "stream",
     "text": [
      "Show one Python code you have learnt today:  import turtle\n"
     ]
    },
    {
     "ename": "SyntaxError",
     "evalue": "invalid syntax (<string>, line 1)",
     "output_type": "error",
     "traceback": [
      "Traceback \u001b[0;36m(most recent call last)\u001b[0m:\n",
      "  File \u001b[1;32m\"/Users/Marsh/mambaforge/lib/python3.9/site-packages/IPython/core/interactiveshell.py\"\u001b[0m, line \u001b[1;32m3444\u001b[0m, in \u001b[1;35mrun_code\u001b[0m\n    exec(code_obj, self.user_global_ns, self.user_ns)\n",
      "\u001b[0;36m  File \u001b[0;32m\"/var/folders/tf/0c8w0zdx03xg0xwmsj1rs6b00000gq/T/ipykernel_24040/572721702.py\"\u001b[0;36m, line \u001b[0;32m2\u001b[0;36m, in \u001b[0;35m<module>\u001b[0;36m\u001b[0m\n\u001b[0;31m    eval(code)\u001b[0m\n",
      "\u001b[0;36m  File \u001b[0;32m\"<string>\"\u001b[0;36m, line \u001b[0;32m1\u001b[0m\n\u001b[0;31m    import turtle\u001b[0m\n\u001b[0m    ^\u001b[0m\n\u001b[0;31mSyntaxError\u001b[0m\u001b[0;31m:\u001b[0m invalid syntax\n"
     ]
    }
   ],
   "source": [
    "code = input('Show one Python code you have learnt today: ')\n",
    "eval(code)"
   ]
  },
  {
   "cell_type": "markdown",
   "id": "f9cdc1b7-a1d3-4ad9-b1d2-99d26932d470",
   "metadata": {},
   "source": [
    "Basically, multiple lines of code will not be evaluated. "
   ]
  },
  {
   "cell_type": "markdown",
   "id": "940b20b7-0f62-4598-9e85-b34ef9de97af",
   "metadata": {},
   "source": [
    "## The `exec` Function\n",
    "is similar to `eval`, but _can_ run complicated codes."
   ]
  },
  {
   "cell_type": "code",
   "execution_count": 15,
   "id": "d4a1113d-9bd2-48a3-8623-595fc119e30b",
   "metadata": {},
   "outputs": [
    {
     "name": "stdout",
     "output_type": "stream",
     "text": [
      "Me gusto bread!\n"
     ]
    }
   ],
   "source": [
    "code1 = '''bread = 'staple'\n",
    "if bread == 'staple':\n",
    "    print('Me gusto bread!')'''\n",
    "exec(code1)"
   ]
  },
  {
   "cell_type": "markdown",
   "id": "06f718b3-4a8a-41e6-b179-61877ec68aa3",
   "metadata": {},
   "source": [
    "## The `float` Function\n",
    "converts a string or a number to a _floating-point_ number, which is a number with a decimal place. An _integer_ is a whole number, like the number 69."
   ]
  },
  {
   "cell_type": "code",
   "execution_count": 17,
   "id": "bdb2cb77-10f0-4d34-82c2-413dc0963c81",
   "metadata": {},
   "outputs": [
    {
     "data": {
      "text/plain": [
       "12.69"
      ]
     },
     "execution_count": 17,
     "metadata": {},
     "output_type": "execute_result"
    }
   ],
   "source": [
    "float('12.69')"
   ]
  },
  {
   "cell_type": "code",
   "execution_count": 18,
   "id": "bd3cc079-2ce4-4fad-97da-8d0669d8844a",
   "metadata": {},
   "outputs": [
    {
     "data": {
      "text/plain": [
       "12.0"
      ]
     },
     "execution_count": 18,
     "metadata": {},
     "output_type": "execute_result"
    }
   ],
   "source": [
    "float('12')"
   ]
  },
  {
   "cell_type": "code",
   "execution_count": 20,
   "id": "ddc1c9ad-f0f0-44d6-8359-98e444207650",
   "metadata": {},
   "outputs": [
    {
     "name": "stdin",
     "output_type": "stream",
     "text": [
      "How old are you?  10\n"
     ]
    },
    {
     "name": "stdout",
     "output_type": "stream",
     "text": [
      "You are 3 year(s) too young for this joke!\n"
     ]
    }
   ],
   "source": [
    "age = float(input('How old are you? '))\n",
    "if age < 13:\n",
    "    print('You are %s year(s) too young for this joke!' % int(13 - age))"
   ]
  },
  {
   "cell_type": "markdown",
   "id": "82e7233a-c2fc-459d-a34f-81719761c02d",
   "metadata": {},
   "source": [
    "## The `int` Function\n",
    "Did you catch the `int` in the end of the code? It can be used to round down a floating-point number to its ones or convert a string to an integer. "
   ]
  },
  {
   "cell_type": "code",
   "execution_count": 21,
   "id": "22e84b41-158c-42f7-8def-a24ecafb898e",
   "metadata": {},
   "outputs": [
    {
     "data": {
      "text/plain": [
       "69"
      ]
     },
     "execution_count": 21,
     "metadata": {},
     "output_type": "execute_result"
    }
   ],
   "source": [
    "int(69.69)"
   ]
  },
  {
   "cell_type": "code",
   "execution_count": 22,
   "id": "5d9289b8-a552-48f0-89ee-db03acd36342",
   "metadata": {},
   "outputs": [
    {
     "data": {
      "text/plain": [
       "69"
      ]
     },
     "execution_count": 22,
     "metadata": {},
     "output_type": "execute_result"
    }
   ],
   "source": [
    "int('69')"
   ]
  },
  {
   "cell_type": "code",
   "execution_count": 24,
   "id": "6d7c5677-fb79-4af4-9d2b-d55b9958ba79",
   "metadata": {},
   "outputs": [
    {
     "ename": "ValueError",
     "evalue": "invalid literal for int() with base 10: '69.69'",
     "output_type": "error",
     "traceback": [
      "\u001b[0;31m---------------------------------------------------------------------------\u001b[0m",
      "\u001b[0;31mValueError\u001b[0m                                Traceback (most recent call last)",
      "\u001b[0;32m/var/folders/tf/0c8w0zdx03xg0xwmsj1rs6b00000gq/T/ipykernel_24040/2033457553.py\u001b[0m in \u001b[0;36m<module>\u001b[0;34m\u001b[0m\n\u001b[0;32m----> 1\u001b[0;31m \u001b[0mint\u001b[0m\u001b[0;34m(\u001b[0m\u001b[0;34m'69.69'\u001b[0m\u001b[0;34m)\u001b[0m\u001b[0;34m\u001b[0m\u001b[0;34m\u001b[0m\u001b[0m\n\u001b[0m",
      "\u001b[0;31mValueError\u001b[0m: invalid literal for int() with base 10: '69.69'"
     ]
    }
   ],
   "source": [
    "int('69.69')"
   ]
  },
  {
   "cell_type": "markdown",
   "id": "3c454be3-1392-48f5-976d-9918f37c297b",
   "metadata": {},
   "source": [
    "But you cannot convert a string with a floating-point number. For that, you have to use `float` and then `int`."
   ]
  },
  {
   "cell_type": "code",
   "execution_count": 25,
   "id": "57f59f74-5da3-411d-a08a-e015ab2e090a",
   "metadata": {},
   "outputs": [
    {
     "data": {
      "text/plain": [
       "69"
      ]
     },
     "execution_count": 25,
     "metadata": {},
     "output_type": "execute_result"
    }
   ],
   "source": [
    "a = float('69.69')\n",
    "int(a)"
   ]
  },
  {
   "cell_type": "markdown",
   "id": "0696376a-6008-475e-a5e3-a21bff3fd0be",
   "metadata": {},
   "source": [
    "## The `len` Function \n",
    "returns a length of an object or the number of characters in a string."
   ]
  },
  {
   "cell_type": "code",
   "execution_count": 26,
   "id": "7fac1b21-c509-407d-945e-d10585c5d368",
   "metadata": {},
   "outputs": [
    {
     "data": {
      "text/plain": [
       "17"
      ]
     },
     "execution_count": 26,
     "metadata": {},
     "output_type": "execute_result"
    }
   ],
   "source": [
    "len('It is what it is.')"
   ]
  },
  {
   "cell_type": "markdown",
   "id": "b46535a7-67cd-477f-b1eb-9d47ce0a5acd",
   "metadata": {},
   "source": [
    "`len` returns the number of items in a list or a tuple."
   ]
  },
  {
   "cell_type": "code",
   "execution_count": 30,
   "id": "d3c1af94-4c90-40fd-902e-2b2f262ae45d",
   "metadata": {},
   "outputs": [
    {
     "name": "stdout",
     "output_type": "stream",
     "text": [
      "3\n"
     ]
    }
   ],
   "source": [
    "blackbear = ['hot girl bummer', 'do re mi', 'idfc']\n",
    "print(len(blackbear))"
   ]
  },
  {
   "cell_type": "markdown",
   "id": "6345dc71-737c-4f5c-ab55-424d569f478e",
   "metadata": {},
   "source": [
    "In maps, `len` returns the number of items in a map."
   ]
  },
  {
   "cell_type": "code",
   "execution_count": 28,
   "id": "f01305c2-0e06-4af3-a53f-272384c85180",
   "metadata": {},
   "outputs": [
    {
     "name": "stdout",
     "output_type": "stream",
     "text": [
      "2\n"
     ]
    }
   ],
   "source": [
    "music = {'me' : 'blackbear', 'also me' : 'Hayd'}\n",
    "print(len(music))"
   ]
  },
  {
   "cell_type": "markdown",
   "id": "c64c9880-406b-464b-a3c2-2cfc13b75207",
   "metadata": {},
   "source": [
    "### A Very Good Application"
   ]
  },
  {
   "cell_type": "code",
   "execution_count": 44,
   "id": "fcf9220a-9109-442c-a54f-ae9769c85e69",
   "metadata": {},
   "outputs": [],
   "source": [
    "def chart(list):\n",
    "    length = len(list) + 1\n",
    "    for y in range(1, length):\n",
    "        print('%s. %s' % (y, list[y - 1]))"
   ]
  },
  {
   "cell_type": "code",
   "execution_count": 45,
   "id": "91c8a807-e411-49ab-9781-61cda9b3077d",
   "metadata": {},
   "outputs": [
    {
     "name": "stdout",
     "output_type": "stream",
     "text": [
      "1. hot girl bummer\n",
      "2. do re mi\n",
      "3. idfc\n"
     ]
    }
   ],
   "source": [
    "chart(blackbear)"
   ]
  },
  {
   "cell_type": "markdown",
   "id": "8bbdf77f-a84e-4dd7-8999-940422f42a27",
   "metadata": {},
   "source": [
    "## `max` and `min`\n",
    "The `max` function returns the largest item in a list, tuple or string."
   ]
  },
  {
   "cell_type": "code",
   "execution_count": 47,
   "id": "534cf655-0e28-415e-bb0b-4d6bc342f0a1",
   "metadata": {},
   "outputs": [
    {
     "name": "stdout",
     "output_type": "stream",
     "text": [
      "8\n"
     ]
    }
   ],
   "source": [
    "list1 = [8, 0, 3, 5, 1, 6]\n",
    "print(max(list1))"
   ]
  },
  {
   "cell_type": "markdown",
   "id": "bfbf8a3b-2a1b-4b4a-a94f-1bcec0b3866e",
   "metadata": {},
   "source": [
    "In strings, this is how to get the largest item:"
   ]
  },
  {
   "cell_type": "code",
   "execution_count": 54,
   "id": "acc5e1f0-9a3a-4f3d-8919-cc791cd5303b",
   "metadata": {},
   "outputs": [],
   "source": [
    "string1 = 'D,e,m,o,n,s'"
   ]
  },
  {
   "cell_type": "markdown",
   "id": "0d455637-9f35-4cd1-ba8d-861be8c0a5f7",
   "metadata": {
    "tags": []
   },
   "source": [
    "or"
   ]
  },
  {
   "cell_type": "code",
   "execution_count": 55,
   "id": "19a85cf7-696e-4a8e-9593-80c1a905e812",
   "metadata": {},
   "outputs": [],
   "source": [
    "string2 = 'D e m o n s'"
   ]
  },
  {
   "cell_type": "code",
   "execution_count": 56,
   "id": "07a1a0d2-de54-42d3-864f-7a76034ecfc4",
   "metadata": {},
   "outputs": [
    {
     "name": "stdout",
     "output_type": "stream",
     "text": [
      "s\n"
     ]
    }
   ],
   "source": [
    "print(max(string1))"
   ]
  },
  {
   "cell_type": "code",
   "execution_count": 57,
   "id": "a63ed53d-3191-4a83-a577-0ee7d6080dcb",
   "metadata": {},
   "outputs": [
    {
     "name": "stdout",
     "output_type": "stream",
     "text": [
      "s\n"
     ]
    }
   ],
   "source": [
    "print(max(string2))"
   ]
  },
  {
   "cell_type": "markdown",
   "id": "9d87cdc3-e5f7-402f-b491-d26f2c252222",
   "metadata": {},
   "source": [
    "Why 's'? Because, unlike numbers, letters are sorted alphabetically."
   ]
  },
  {
   "cell_type": "code",
   "execution_count": 58,
   "id": "e5b30137-f588-40b7-91de-2ad041543d7f",
   "metadata": {},
   "outputs": [
    {
     "name": "stdout",
     "output_type": "stream",
     "text": [
      "y\n"
     ]
    }
   ],
   "source": [
    "string3 = 'Y o u a r e y o u r s e l f'\n",
    "print(max(string3))"
   ]
  },
  {
   "cell_type": "markdown",
   "id": "7778a6a9-85b7-4155-a36e-21e9e97015c7",
   "metadata": {},
   "source": [
    "Why 'y' and not 'Y'? Because, lowercase letters come after uppercase letters.\n",
    "Like all functions, the parameter need not be a variable that already exists. "
   ]
  },
  {
   "cell_type": "code",
   "execution_count": 60,
   "id": "e4ea1242-b3fa-4854-9eba-a50132d59797",
   "metadata": {},
   "outputs": [
    {
     "name": "stdout",
     "output_type": "stream",
     "text": [
      "999\n"
     ]
    }
   ],
   "source": [
    "print(max(69, 999, 34, 35))"
   ]
  },
  {
   "cell_type": "markdown",
   "id": "5cec5e4d-76b8-4170-8439-50e5f661f320",
   "metadata": {},
   "source": [
    "You can also skip the 'print' command if you want. "
   ]
  },
  {
   "cell_type": "code",
   "execution_count": 61,
   "id": "aa51cb5c-681f-4a89-8ba5-dcc09c2048ad",
   "metadata": {},
   "outputs": [
    {
     "data": {
      "text/plain": [
       "169"
      ]
     },
     "execution_count": 61,
     "metadata": {},
     "output_type": "execute_result"
    }
   ],
   "source": [
    "max(69, 169)"
   ]
  },
  {
   "cell_type": "markdown",
   "id": "871b8d28-05eb-436e-ba44-029599779667",
   "metadata": {},
   "source": [
    "### A Very Good Application\n",
    "Imagine you are playing a game where there are four players who have to guess a number. If anyone guesses a number higher than the number, the game is over. If everyone's guess is lower than the number, the player who guessed the highest number wins. "
   ]
  },
  {
   "cell_type": "code",
   "execution_count": 77,
   "id": "a0a4643b-e031-43da-b110-d4d6737746f5",
   "metadata": {},
   "outputs": [],
   "source": [
    "def guess():\n",
    "    print('''Welcome to the Guessing Game!\n",
    "Make sure there are four players, please.''')\n",
    "    import random\n",
    "    num = random.randint(2,99)\n",
    "    print('''Enter your guesses respectively. \n",
    "Remember, the number is below 100.''')\n",
    "    p1 = float(input('Player 1: '))\n",
    "    p2 = float(input('Player 2: '))\n",
    "    p3 = float(input('Player 3: '))\n",
    "    p4 = float(input('Player 4: '))\n",
    "    guesses = [p1, p2, p3, p4]\n",
    "    if max(guesses) > num:\n",
    "        print('You lost! The number was %s!' % num)\n",
    "    else:\n",
    "        print('Congratulations! The number was %s!' % num)"
   ]
  },
  {
   "cell_type": "code",
   "execution_count": 78,
   "id": "f6b5d05c-0ea4-423b-b52f-2261eb53d8ed",
   "metadata": {},
   "outputs": [
    {
     "name": "stdout",
     "output_type": "stream",
     "text": [
      "Welcome to the Guessing Game!\n",
      "Make sure there are four players, please.\n",
      "Enter your guesses respectively. \n",
      "Remember, the number is below 100.\n"
     ]
    },
    {
     "name": "stdin",
     "output_type": "stream",
     "text": [
      "Player 1:  69\n",
      "Player 2:  34\n",
      "Player 3:  35\n",
      "Player 4:  17\n"
     ]
    },
    {
     "name": "stdout",
     "output_type": "stream",
     "text": [
      "You lost! The number was 23!\n"
     ]
    }
   ],
   "source": [
    "guess()"
   ]
  },
  {
   "cell_type": "markdown",
   "id": "3c757ed3-798b-48ba-893d-9d96f637c207",
   "metadata": {},
   "source": [
    "We used a special module called `random` to get a completely random number!"
   ]
  },
  {
   "cell_type": "markdown",
   "id": "58391b90-8adc-4dc0-b569-cb38cafff925",
   "metadata": {},
   "source": [
    "## The `range` Function\n",
    "returns a special object called an _iterator_ which repeats an action a specific number of times. It is usually used in `for` loops. "
   ]
  },
  {
   "cell_type": "code",
   "execution_count": 83,
   "id": "5b1bf3b4-8e08-4770-95d0-37b373720f82",
   "metadata": {},
   "outputs": [
    {
     "name": "stdout",
     "output_type": "stream",
     "text": [
      "0\n",
      "1\n",
      "2\n",
      "3\n",
      "4\n"
     ]
    }
   ],
   "source": [
    "for y in range(0, 5):\n",
    "    print(y)"
   ]
  },
  {
   "cell_type": "markdown",
   "id": "d3a3d1d9-b1b9-4b73-83fa-2fc9bef7025a",
   "metadata": {},
   "source": [
    "You can also convert the `iterator` into a list with the `list` function."
   ]
  },
  {
   "cell_type": "code",
   "execution_count": 82,
   "id": "bc3f4c4e-62e4-482a-a3e2-c63153140405",
   "metadata": {},
   "outputs": [
    {
     "name": "stdout",
     "output_type": "stream",
     "text": [
      "[0, 1, 2, 3, 4]\n"
     ]
    }
   ],
   "source": [
    "list4 = list(range(0, 5))\n",
    "print(list4)"
   ]
  },
  {
   "cell_type": "markdown",
   "id": "8e29f0d0-c038-497b-a891-422b99d2872c",
   "metadata": {},
   "source": [
    "A third parameter in `range`?! It is actually called `step`. When not given, the `step` value is 1."
   ]
  },
  {
   "cell_type": "code",
   "execution_count": 85,
   "id": "22937dd8-f84b-4224-95c6-0d6fcc17d8b6",
   "metadata": {},
   "outputs": [
    {
     "name": "stdout",
     "output_type": "stream",
     "text": [
      "[0, 2, 4, 6, 8, 10]\n"
     ]
    }
   ],
   "source": [
    "two_times = list(range(0, 12, 2))\n",
    "print(two_times)"
   ]
  },
  {
   "cell_type": "markdown",
   "id": "bd7f9364-e01a-4b1d-9c4b-c12da134a15d",
   "metadata": {},
   "source": [
    "You can even count down!"
   ]
  },
  {
   "cell_type": "code",
   "execution_count": 95,
   "id": "939cb294-3d70-4e79-8510-0e0831824386",
   "metadata": {},
   "outputs": [
    {
     "name": "stdout",
     "output_type": "stream",
     "text": [
      "[60, 59, 58, 57, 56, 55, 54, 53, 52, 51, 50, 49, 48, 47, 46, 45, 44, 43, 42, 41, 40, 39, 38, 37, 36, 35, 34, 33, 32, 31, 30, 29, 28, 27, 26, 25, 24, 23, 22, 21, 20, 19, 18, 17, 16, 15, 14, 13, 12, 11, 10, 9, 8, 7, 6, 5, 4, 3, 2, 1, 0]\n"
     ]
    }
   ],
   "source": [
    "countdown = list(range(60, -1, -1))\n",
    "print(countdown)"
   ]
  },
  {
   "cell_type": "markdown",
   "id": "c6976ae2-364d-40ca-9be3-4bfdf7d22da4",
   "metadata": {},
   "source": [
    "What if you removed the `step` value?"
   ]
  },
  {
   "cell_type": "code",
   "execution_count": 91,
   "id": "f076f5c2-005c-4c50-b67b-c48aaef9d5ae",
   "metadata": {},
   "outputs": [
    {
     "name": "stdout",
     "output_type": "stream",
     "text": [
      "[]\n"
     ]
    }
   ],
   "source": [
    "countdown1 = list(range(60, -1))\n",
    "print(countdown)"
   ]
  },
  {
   "cell_type": "code",
   "execution_count": 93,
   "id": "fafdf284-d755-447d-bb5f-3d15325937c0",
   "metadata": {},
   "outputs": [
    {
     "name": "stdout",
     "output_type": "stream",
     "text": [
      "[12, 10, 8, 6, 4, 2]\n"
     ]
    }
   ],
   "source": [
    "countdown2 = list(range(12, 0, -2))\n",
    "print(countdown2)"
   ]
  },
  {
   "cell_type": "markdown",
   "id": "dadf3902-f4d2-4f7a-bc7a-213501ca9ef1",
   "metadata": {},
   "source": [
    "## The `sum` Function\n",
    "adds up all the items in a list and returns the total. "
   ]
  },
  {
   "cell_type": "code",
   "execution_count": 96,
   "id": "2042a263-8d72-4f90-a581-a26c73af77ed",
   "metadata": {},
   "outputs": [
    {
     "data": {
      "text/plain": [
       "1830"
      ]
     },
     "execution_count": 96,
     "metadata": {},
     "output_type": "execute_result"
    }
   ],
   "source": [
    "sum(countdown)"
   ]
  },
  {
   "cell_type": "markdown",
   "id": "dd19ef8f-a1f0-46cf-9e72-7f3acff6244a",
   "metadata": {},
   "source": [
    "Cool, right?\n",
    "## Getting Hands-On With Files\n",
    "First, create a test text file.\n",
    "### Opening Files\n",
    "On Windows,"
   ]
  },
  {
   "cell_type": "code",
   "execution_count": null,
   "id": "8d755640-72b6-4de5-a571-4dba033105af",
   "metadata": {},
   "outputs": [],
   "source": [
    "test = open('c:\\\\test.txt')\n",
    "text = test.read()\n",
    "print(text)"
   ]
  },
  {
   "cell_type": "markdown",
   "id": "6f5df54e-b1df-4252-8cb8-3b9fa97d20d8",
   "metadata": {},
   "source": [
    "On Mac or Ubuntu,"
   ]
  },
  {
   "cell_type": "code",
   "execution_count": 100,
   "id": "3d33711e-05d6-44b1-b9d4-32478752eb99",
   "metadata": {},
   "outputs": [
    {
     "name": "stdout",
     "output_type": "stream",
     "text": [
      "Howdy!\n"
     ]
    }
   ],
   "source": [
    "test = open('/Users/Marsh/Desktop/test.txt')\n",
    "print(test.read())"
   ]
  },
  {
   "cell_type": "markdown",
   "id": "585cec5e-aad6-445e-93f9-177294f455b3",
   "metadata": {},
   "source": [
    "### Writing on Files"
   ]
  },
  {
   "cell_type": "code",
   "execution_count": 119,
   "id": "ba7942fd-ac47-47d6-9684-bd66fddebf41",
   "metadata": {},
   "outputs": [],
   "source": [
    "text = open('/Users/Marsh/Desktop/test.txt', 'w')"
   ]
  },
  {
   "cell_type": "markdown",
   "id": "f70a302a-122b-44da-96f5-ea61b9e10b65",
   "metadata": {},
   "source": [
    "The parameter `'w'` means that we are going to write on the file. "
   ]
  },
  {
   "cell_type": "code",
   "execution_count": 120,
   "id": "9cc8c568-1a32-4a06-9b8f-56d24d896edf",
   "metadata": {},
   "outputs": [
    {
     "data": {
      "text/plain": [
       "23"
      ]
     },
     "execution_count": 120,
     "metadata": {},
     "output_type": "execute_result"
    }
   ],
   "source": [
    "text.write('This is my kingdom come')"
   ]
  },
  {
   "cell_type": "markdown",
   "id": "a671b9f5-7cef-4207-9048-b4279ce75704",
   "metadata": {},
   "source": [
    "To close it, enter: (You have to close it first)"
   ]
  },
  {
   "cell_type": "code",
   "execution_count": 122,
   "id": "b1b0dfb6-2d61-4237-810e-8668d30b37ea",
   "metadata": {},
   "outputs": [],
   "source": [
    "text.close()"
   ]
  },
  {
   "cell_type": "code",
   "execution_count": 124,
   "id": "004c3561-8955-4bb5-9dd2-0f4746011998",
   "metadata": {},
   "outputs": [
    {
     "name": "stdout",
     "output_type": "stream",
     "text": [
      "This is my kingdom come\n"
     ]
    }
   ],
   "source": [
    "text = open('/Users/Marsh/Desktop/test.txt')\n",
    "print(text.read())"
   ]
  },
  {
   "cell_type": "markdown",
   "id": "b2e15a60-743f-495c-93f5-b8c7d1f907d0",
   "metadata": {},
   "source": [
    "## Extras\n",
    "### Create a Hidden Message Using a Funtion (which has not been taught yet)"
   ]
  },
  {
   "cell_type": "code",
   "execution_count": 140,
   "id": "9ecfbae1-4820-4ba2-a319-2fe16226a679",
   "metadata": {},
   "outputs": [
    {
     "data": {
      "text/plain": [
       "['__add__',\n",
       " '__class__',\n",
       " '__contains__',\n",
       " '__delattr__',\n",
       " '__dir__',\n",
       " '__doc__',\n",
       " '__eq__',\n",
       " '__format__',\n",
       " '__ge__',\n",
       " '__getattribute__',\n",
       " '__getitem__',\n",
       " '__getnewargs__',\n",
       " '__gt__',\n",
       " '__hash__',\n",
       " '__init__',\n",
       " '__init_subclass__',\n",
       " '__iter__',\n",
       " '__le__',\n",
       " '__len__',\n",
       " '__lt__',\n",
       " '__mod__',\n",
       " '__mul__',\n",
       " '__ne__',\n",
       " '__new__',\n",
       " '__reduce__',\n",
       " '__reduce_ex__',\n",
       " '__repr__',\n",
       " '__rmod__',\n",
       " '__rmul__',\n",
       " '__setattr__',\n",
       " '__sizeof__',\n",
       " '__str__',\n",
       " '__subclasshook__',\n",
       " 'capitalize',\n",
       " 'casefold',\n",
       " 'center',\n",
       " 'count',\n",
       " 'encode',\n",
       " 'endswith',\n",
       " 'expandtabs',\n",
       " 'find',\n",
       " 'format',\n",
       " 'format_map',\n",
       " 'index',\n",
       " 'isalnum',\n",
       " 'isalpha',\n",
       " 'isascii',\n",
       " 'isdecimal',\n",
       " 'isdigit',\n",
       " 'isidentifier',\n",
       " 'islower',\n",
       " 'isnumeric',\n",
       " 'isprintable',\n",
       " 'isspace',\n",
       " 'istitle',\n",
       " 'isupper',\n",
       " 'join',\n",
       " 'ljust',\n",
       " 'lower',\n",
       " 'lstrip',\n",
       " 'maketrans',\n",
       " 'partition',\n",
       " 'removeprefix',\n",
       " 'removesuffix',\n",
       " 'replace',\n",
       " 'rfind',\n",
       " 'rindex',\n",
       " 'rjust',\n",
       " 'rpartition',\n",
       " 'rsplit',\n",
       " 'rstrip',\n",
       " 'split',\n",
       " 'splitlines',\n",
       " 'startswith',\n",
       " 'strip',\n",
       " 'swapcase',\n",
       " 'title',\n",
       " 'translate',\n",
       " 'upper',\n",
       " 'zfill']"
      ]
     },
     "execution_count": 140,
     "metadata": {},
     "output_type": "execute_result"
    }
   ],
   "source": [
    "blackbear = 'Queen of Broken Hearts'\n",
    "dir(blackbear)"
   ]
  },
  {
   "cell_type": "code",
   "execution_count": null,
   "id": "53a88d4d-f8d9-4f96-97c0-04cdbb407d10",
   "metadata": {},
   "outputs": [],
   "source": []
  }
 ],
 "metadata": {
  "kernelspec": {
   "display_name": "Python 3 (ipykernel)",
   "language": "python",
   "name": "python3"
  },
  "language_info": {
   "codemirror_mode": {
    "name": "ipython",
    "version": 3
   },
   "file_extension": ".py",
   "mimetype": "text/x-python",
   "name": "python",
   "nbconvert_exporter": "python",
   "pygments_lexer": "ipython3",
   "version": "3.10.0"
  }
 },
 "nbformat": 4,
 "nbformat_minor": 5
}
