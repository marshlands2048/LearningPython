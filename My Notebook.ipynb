{
 "cells": [
  {
   "cell_type": "code",
   "execution_count": 1,
   "id": "4d1eb812-1b4e-49ef-b62a-8d7aadc5b0cb",
   "metadata": {},
   "outputs": [],
   "source": [
    "def outOfRut():\n",
    "    age = int(input('How old are you? '))                      \n",
    "    if age >= 13 and age <= 19:                             \n",
    "        print('So, you\\'re a teen, huh? You\\'re already %s!' % age)\n",
    "    else:\n",
    "        print('Huh?')"
   ]
  },
  {
   "cell_type": "code",
   "execution_count": 2,
   "id": "e3e7ab1a-22aa-45b2-9ab7-354f7b14099c",
   "metadata": {},
   "outputs": [
    {
     "name": "stdout",
     "output_type": "stream",
     "text": [
      "How old are you? 18\n",
      "So, you're a teen, huh? You're already 18!\n"
     ]
    }
   ],
   "source": [
    "outOfRut()"
   ]
  },
  {
   "cell_type": "markdown",
   "id": "e1b87f8d",
   "metadata": {},
   "source": [
    "# Classes and Objects\n",
    "## Classes\n",
    "We have learnt about Classifications in P3. Did you know that they can also be applied in the Python world?"
   ]
  },
  {
   "cell_type": "code",
   "execution_count": 3,
   "id": "964f1009",
   "metadata": {},
   "outputs": [],
   "source": [
    "class Things:\n",
    "    pass"
   ]
  },
  {
   "cell_type": "markdown",
   "id": "4868110d",
   "metadata": {},
   "source": [
    "We created the class Things first as it is the broadest. pass is used to tell Python that that is all the information we will provide. pass is used when we want to provide a class or function but don’t want to fill in the details at the moment.\n",
    "### Families\n",
    "If a class is part of another class, it is a child of the other class."
   ]
  },
  {
   "cell_type": "code",
   "execution_count": 4,
   "id": "feefb588",
   "metadata": {},
   "outputs": [],
   "source": [
    "class Inanimate(Things):\n",
    "    pass\n",
    "class Animate(Things):\n",
    "    pass\n",
    "class Animals(Animate):\n",
    "    pass\n",
    "class Plants(Animate):\n",
    "    pass\n",
    "class Bacteria(Animate):\n",
    "    pass\n",
    "class Fungi(Animate):\n",
    "    pass\n",
    "class OnceAlive(Inanimate):\n",
    "    pass\n",
    "class NeverAlive(Animate):\n",
    "    pass\n",
    "class Mammals(Animals):\n",
    "    pass\n",
    "class Humans(Mammals):\n",
    "    pass"
   ]
  },
  {
   "cell_type": "markdown",
   "id": "37c7dbd2",
   "metadata": {},
   "source": [
    "Here, Inanimate and Animate are children of Things. The parent is Things, which is wrapped up in round brackets.\n",
    "## Objects\n",
    "Here is how to make an object:"
   ]
  },
  {
   "cell_type": "code",
   "execution_count": 5,
   "id": "73de6ddb",
   "metadata": {},
   "outputs": [],
   "source": [
    "mashrafi = Humans()"
   ]
  },
  {
   "cell_type": "markdown",
   "id": "f1e9dcd7",
   "metadata": {},
   "source": [
    "Here, mashrafi becomes a variable. \n",
    "### Using Functions"
   ]
  },
  {
   "cell_type": "code",
   "execution_count": 6,
   "id": "b9b1d91a",
   "metadata": {},
   "outputs": [],
   "source": [
    "class Animals(Animate):\n",
    "    def breathe(self):\n",
    "        print('Breathing...')\n",
    "    def move(self):\n",
    "        print('Moving...')\n",
    "    def eat(self):\n",
    "        print('Eating...')"
   ]
  },
  {
   "cell_type": "code",
   "execution_count": 8,
   "id": "0abf7d9b",
   "metadata": {
    "scrolled": true
   },
   "outputs": [
    {
     "ename": "AttributeError",
     "evalue": "'Humans' object has no attribute 'eat'",
     "output_type": "error",
     "traceback": [
      "\u001b[0;31m---------------------------------------------------------------------------\u001b[0m",
      "\u001b[0;31mAttributeError\u001b[0m                            Traceback (most recent call last)",
      "\u001b[0;32m/var/folders/tf/0c8w0zdx03xg0xwmsj1rs6b00000gq/T/ipykernel_13954/2157882152.py\u001b[0m in \u001b[0;36m<module>\u001b[0;34m\u001b[0m\n\u001b[0;32m----> 1\u001b[0;31m \u001b[0mmashrafi\u001b[0m\u001b[0;34m.\u001b[0m\u001b[0meat\u001b[0m\u001b[0;34m(\u001b[0m\u001b[0;34m)\u001b[0m\u001b[0;34m\u001b[0m\u001b[0;34m\u001b[0m\u001b[0m\n\u001b[0m",
      "\u001b[0;31mAttributeError\u001b[0m: 'Humans' object has no attribute 'eat'"
     ]
    }
   ],
   "source": [
    "mashrafi.eat()"
   ]
  },
  {
   "cell_type": "markdown",
   "id": "97afcd21",
   "metadata": {},
   "source": [
    "As you can see here, mashrafi inherited functions from the Animal class. \n",
    "### A More Graphical Approach (to understanding the Pros of Classes and Objects"
   ]
  },
  {
   "cell_type": "code",
   "execution_count": null,
   "id": "e0953578",
   "metadata": {},
   "outputs": [],
   "source": [
    "import turtle\n",
    "ma = turtle.Pen()\n",
    "me = turtle.Pen()"
   ]
  },
  {
   "cell_type": "code",
   "execution_count": null,
   "id": "f7d58848",
   "metadata": {},
   "outputs": [],
   "source": [
    "ma.forward(50)\n",
    "ma.right(90)\n",
    "ma.forward(20)"
   ]
  },
  {
   "cell_type": "code",
   "execution_count": null,
   "id": "d789cfdb",
   "metadata": {},
   "outputs": [],
   "source": [
    "me.left(90)\n",
    "me.forward(100)"
   ]
  },
  {
   "cell_type": "markdown",
   "id": "71ed8075",
   "metadata": {},
   "source": [
    "Try this out for yourself and you'd be amazed that there are two pointers! That isn't really the point. Instead, this is really similar to Classes and Objects.\n",
    "### Functions Inside Functions"
   ]
  },
  {
   "cell_type": "code",
   "execution_count": 19,
   "id": "19f9d360",
   "metadata": {},
   "outputs": [
    {
     "name": "stdout",
     "output_type": "stream",
     "text": [
      "Moving...\n",
      "There's food here!\n",
      "Eating...\n"
     ]
    }
   ],
   "source": [
    "class Mammals:\n",
    "    pass\n",
    "class Humans(Mammals):\n",
    "    def move(self):\n",
    "        print('Moving...')\n",
    "    def eat(self):\n",
    "        print('Eating...')\n",
    "    def apocalypticShopping(self):\n",
    "        self.move()\n",
    "        print('There\\'s food here!')\n",
    "        self.eat()\n",
    "mashrafi = Humans()\n",
    "mashrafi.apocalypticShopping()"
   ]
  },
  {
   "cell_type": "markdown",
   "id": "609ce1c9",
   "metadata": {},
   "source": [
    "The self parameter is a way for one function in the class to call another function in the class (and in the parent class). So, you can get this:"
   ]
  },
  {
   "cell_type": "code",
   "execution_count": 29,
   "id": "d1c263ae",
   "metadata": {
    "scrolled": true
   },
   "outputs": [
    {
     "name": "stdout",
     "output_type": "stream",
     "text": [
      "Moving...\n",
      "There's food here!\n",
      "Eating...\n"
     ]
    }
   ],
   "source": [
    "class Mammals(Animals):\n",
    "    def move(self):\n",
    "        print('Moving...')\n",
    "    def eat(self):\n",
    "        print('Eating...')\n",
    "    def apocalypticShopping(self):\n",
    "        self.move()\n",
    "        print('There\\'s food here!')\n",
    "        self.eat()\n",
    "Mammals().apocalypticShopping()"
   ]
  },
  {
   "cell_type": "markdown",
   "id": "7da21c53",
   "metadata": {},
   "source": [
    "But not this: (because parents cannot inherit functions from children)"
   ]
  },
  {
   "cell_type": "code",
   "execution_count": 30,
   "id": "e55e79d1",
   "metadata": {
    "scrolled": true
   },
   "outputs": [
    {
     "ename": "AttributeError",
     "evalue": "'Animals' object has no attribute 'apocalypticShopping'",
     "output_type": "error",
     "traceback": [
      "\u001b[0;31m---------------------------------------------------------------------------\u001b[0m",
      "\u001b[0;31mAttributeError\u001b[0m                            Traceback (most recent call last)",
      "\u001b[0;32m/var/folders/tf/0c8w0zdx03xg0xwmsj1rs6b00000gq/T/ipykernel_13954/3320425750.py\u001b[0m in \u001b[0;36m<module>\u001b[0;34m\u001b[0m\n\u001b[1;32m     10\u001b[0m         \u001b[0mprint\u001b[0m\u001b[0;34m(\u001b[0m\u001b[0;34m'There\\'s food here!'\u001b[0m\u001b[0;34m)\u001b[0m\u001b[0;34m\u001b[0m\u001b[0;34m\u001b[0m\u001b[0m\n\u001b[1;32m     11\u001b[0m         \u001b[0mself\u001b[0m\u001b[0;34m.\u001b[0m\u001b[0meat\u001b[0m\u001b[0;34m(\u001b[0m\u001b[0;34m)\u001b[0m\u001b[0;34m\u001b[0m\u001b[0;34m\u001b[0m\u001b[0m\n\u001b[0;32m---> 12\u001b[0;31m \u001b[0mAnimals\u001b[0m\u001b[0;34m(\u001b[0m\u001b[0;34m)\u001b[0m\u001b[0;34m.\u001b[0m\u001b[0mapocalypticShopping\u001b[0m\u001b[0;34m(\u001b[0m\u001b[0;34m)\u001b[0m\u001b[0;34m\u001b[0m\u001b[0;34m\u001b[0m\u001b[0m\n\u001b[0m",
      "\u001b[0;31mAttributeError\u001b[0m: 'Animals' object has no attribute 'apocalypticShopping'"
     ]
    }
   ],
   "source": [
    "class Animals:\n",
    "    pass\n",
    "class Mammals(Animals):\n",
    "    def move(self):\n",
    "        print('Moving...')\n",
    "    def eat(self):\n",
    "        print('Eating...')\n",
    "    def apocalypticShopping(self):\n",
    "        self.move()\n",
    "        print('There\\'s food here!')\n",
    "        self.eat()\n",
    "Animals().apocalypticShopping()"
   ]
  },
  {
   "cell_type": "markdown",
   "id": "0874cb23-c7de-4134-970c-d7940be82f3e",
   "metadata": {},
   "source": [
    "## Initialising Objects\n",
    "to prepare them for the real world using the __init__ function"
   ]
  },
  {
   "cell_type": "code",
   "execution_count": 31,
   "id": "95e518a1-af72-4f46-bb8b-10e18fab0aac",
   "metadata": {},
   "outputs": [],
   "source": [
    "class Humans:\n",
    "        def __init__(self, spots):\n",
    "            self.spots = spots"
   ]
  },
  {
   "cell_type": "code",
   "execution_count": 32,
   "id": "9f7e2bc9-982f-4f24-ba08-a2017f3f0dfa",
   "metadata": {},
   "outputs": [
    {
     "name": "stdout",
     "output_type": "stream",
     "text": [
      "20\n",
      "0\n"
     ]
    }
   ],
   "source": [
    "marsh = Humans(20)\n",
    "sharm = Humans(0)\n",
    "print(marsh.spots)\n",
    "print(sharm.spots)"
   ]
  },
  {
   "cell_type": "markdown",
   "id": "e9e0e368-b4e4-46af-851d-ae6cc9332255",
   "metadata": {},
   "source": [
    "Remember, when we create an object of a class, such as ozwald above, we can refer to its variables or functions using the dot opera- tor and the name of the variable or function we want to use.\n",
    "#### Challenge 2: Turtle Pitchfork"
   ]
  },
  {
   "cell_type": "code",
   "execution_count": 2,
   "id": "2a33f26a-11d8-4a88-879f-5b9047744920",
   "metadata": {},
   "outputs": [],
   "source": [
    "import turtle\n",
    "a = turtle.Pen()\n",
    "b = turtle.Pen()\n",
    "c = turtle.Pen()\n",
    "d = turtle.Pen()"
   ]
  },
  {
   "cell_type": "code",
   "execution_count": 3,
   "id": "a9100601-772a-4d96-8708-bb8755a57c7b",
   "metadata": {},
   "outputs": [],
   "source": [
    "a.forward(100)\n",
    "b.forward(100)\n",
    "c.forward(100)\n",
    "d.forward(100)"
   ]
  },
  {
   "cell_type": "code",
   "execution_count": 4,
   "id": "d6396e3f-be36-4c46-b65d-1c5e98614f35",
   "metadata": {},
   "outputs": [],
   "source": [
    "b.forward(10)\n",
    "c.forward(10)"
   ]
  },
  {
   "cell_type": "code",
   "execution_count": 5,
   "id": "124fe741-6127-41c7-a506-430405cca8a9",
   "metadata": {},
   "outputs": [],
   "source": [
    "a.left(90)\n",
    "d.right(90)\n",
    "a.forward(35)\n",
    "d.forward(35)\n",
    "a.right(90)\n",
    "d.left(90)"
   ]
  },
  {
   "cell_type": "code",
   "execution_count": 6,
   "id": "94e96428-d8ba-4810-aa99-6f13137fe0d6",
   "metadata": {},
   "outputs": [],
   "source": [
    "b.left(90)\n",
    "c.right(90)\n",
    "b.forward(17.5)\n",
    "c.forward(17.5)\n",
    "b.right(90)\n",
    "c.left(90)"
   ]
  },
  {
   "cell_type": "code",
   "execution_count": 1,
   "id": "f1341897-44ba-4b13-a37a-9ce1991255ba",
   "metadata": {},
   "outputs": [
    {
     "ename": "NameError",
     "evalue": "name 'a' is not defined",
     "output_type": "error",
     "traceback": [
      "\u001b[0;31m---------------------------------------------------------------------------\u001b[0m",
      "\u001b[0;31mNameError\u001b[0m                                 Traceback (most recent call last)",
      "\u001b[0;32m/var/folders/tf/0c8w0zdx03xg0xwmsj1rs6b00000gq/T/ipykernel_16732/3845212362.py\u001b[0m in \u001b[0;36m<module>\u001b[0;34m\u001b[0m\n\u001b[0;32m----> 1\u001b[0;31m \u001b[0ma\u001b[0m\u001b[0;34m.\u001b[0m\u001b[0mforward\u001b[0m\u001b[0;34m(\u001b[0m\u001b[0;36m35\u001b[0m\u001b[0;34m)\u001b[0m\u001b[0;34m\u001b[0m\u001b[0;34m\u001b[0m\u001b[0m\n\u001b[0m\u001b[1;32m      2\u001b[0m \u001b[0md\u001b[0m\u001b[0;34m.\u001b[0m\u001b[0mforward\u001b[0m\u001b[0;34m(\u001b[0m\u001b[0;36m35\u001b[0m\u001b[0;34m)\u001b[0m\u001b[0;34m\u001b[0m\u001b[0;34m\u001b[0m\u001b[0m\n\u001b[1;32m      3\u001b[0m \u001b[0mb\u001b[0m\u001b[0;34m.\u001b[0m\u001b[0mforward\u001b[0m\u001b[0;34m(\u001b[0m\u001b[0;36m17.5\u001b[0m\u001b[0;34m)\u001b[0m\u001b[0;34m\u001b[0m\u001b[0;34m\u001b[0m\u001b[0m\n\u001b[1;32m      4\u001b[0m \u001b[0mc\u001b[0m\u001b[0;34m.\u001b[0m\u001b[0mforward\u001b[0m\u001b[0;34m(\u001b[0m\u001b[0;36m17.5\u001b[0m\u001b[0;34m)\u001b[0m\u001b[0;34m\u001b[0m\u001b[0;34m\u001b[0m\u001b[0m\n",
      "\u001b[0;31mNameError\u001b[0m: name 'a' is not defined"
     ]
    }
   ],
   "source": [
    "a.forward(35)\n",
    "d.forward(35)\n",
    "b.forward(17.5)\n",
    "c.forward(17.5)"
   ]
  },
  {
   "cell_type": "markdown",
   "id": "16c17a9c-3dd6-4d33-bb31-102595408dcb",
   "metadata": {},
   "source": [
    "# Built-in Functions\n",
    "## The `abs` Function\n",
    "The abs function returns the absolute value of a number, which is the value of a number without its sign."
   ]
  },
  {
   "cell_type": "code",
   "execution_count": 2,
   "id": "c06c0e5f-9839-41e0-80e2-d06cac046628",
   "metadata": {
    "scrolled": true
   },
   "outputs": [
    {
     "name": "stdout",
     "output_type": "stream",
     "text": [
      "69\n"
     ]
    }
   ],
   "source": [
    "print(abs(-69))"
   ]
  },
  {
   "cell_type": "code",
   "execution_count": 3,
   "id": "7ae4bdb1-9527-441c-824c-0ece42309435",
   "metadata": {
    "scrolled": true
   },
   "outputs": [
    {
     "name": "stdout",
     "output_type": "stream",
     "text": [
      "69\n"
     ]
    }
   ],
   "source": [
    "print(abs(69))"
   ]
  },
  {
   "cell_type": "markdown",
   "id": "e95ef30b-9b52-419e-a8fc-3886ac68c580",
   "metadata": {},
   "source": [
    "A cool way to apply this is when you want to calculate the amount of movement of a character in a game if you do not need to know the direction it is travelling. "
   ]
  },
  {
   "cell_type": "code",
   "execution_count": 4,
   "id": "4cce665c-d9e7-452f-9775-72fdfd6be8c9",
   "metadata": {},
   "outputs": [
    {
     "name": "stdout",
     "output_type": "stream",
     "text": [
      "Moving...\n"
     ]
    }
   ],
   "source": [
    "steps = -3\n",
    "if abs(steps) > 0:\n",
    "        print('Moving...')"
   ]
  },
  {
   "cell_type": "markdown",
   "id": "ebf9f009-2a0a-4527-872d-941d6539ee30",
   "metadata": {},
   "source": [
    "If we were not to use the `abs` function:"
   ]
  },
  {
   "cell_type": "code",
   "execution_count": 7,
   "id": "8df9eed9-7b43-4d43-8b72-b52c0c607bbe",
   "metadata": {},
   "outputs": [
    {
     "name": "stdout",
     "output_type": "stream",
     "text": [
      "Character is moving\n"
     ]
    }
   ],
   "source": [
    "steps = -3\n",
    "if steps < 0 or steps > 0:\n",
    "    print('Character is moving')"
   ]
  },
  {
   "cell_type": "markdown",
   "id": "061a3875-8c6b-48af-9e31-c1a017e4a6b4",
   "metadata": {},
   "source": [
    "## The `abs` Function\n",
    "`bool` is short for _Boolean_. When using `bool` for numbers, 0 returns a `False` while any other number returns a `True`."
   ]
  },
  {
   "cell_type": "code",
   "execution_count": 8,
   "id": "4c7b2ead-0def-4e94-8e95-0dbf281ca963",
   "metadata": {},
   "outputs": [
    {
     "name": "stdout",
     "output_type": "stream",
     "text": [
      "False\n"
     ]
    }
   ],
   "source": [
    "print(bool(0))"
   ]
  },
  {
   "cell_type": "code",
   "execution_count": 9,
   "id": "3d279bc3-92fe-4853-a91e-5c64473f77c1",
   "metadata": {},
   "outputs": [
    {
     "name": "stdout",
     "output_type": "stream",
     "text": [
      "True\n"
     ]
    }
   ],
   "source": [
    "print(bool(69))"
   ]
  },
  {
   "cell_type": "markdown",
   "id": "4d1d3c4b-949f-4329-81d6-6e244fac1ee6",
   "metadata": {},
   "source": [
    "When using `bool` for other values like strings, it returns `True` as long as there is a value for the string. It will only return `False` when the string is empty or has the keyword `None`. "
   ]
  },
  {
   "cell_type": "code",
   "execution_count": 10,
   "id": "1b07e8d0-f271-4342-906a-87ce0e99a26a",
   "metadata": {},
   "outputs": [
    {
     "name": "stdout",
     "output_type": "stream",
     "text": [
      "False\n"
     ]
    }
   ],
   "source": [
    "print(bool(None))"
   ]
  },
  {
   "cell_type": "code",
   "execution_count": 11,
   "id": "593b0f9c-58f8-487f-86f8-bf172d5e407b",
   "metadata": {},
   "outputs": [
    {
     "name": "stdout",
     "output_type": "stream",
     "text": [
      "True\n"
     ]
    }
   ],
   "source": [
    "print(bool('a'))"
   ]
  },
  {
   "cell_type": "code",
   "execution_count": 14,
   "id": "12640eb8-9331-4d33-95aa-b20761f3ec05",
   "metadata": {},
   "outputs": [
    {
     "name": "stdout",
     "output_type": "stream",
     "text": [
      "True\n"
     ]
    }
   ],
   "source": [
    "print(bool(' '))"
   ]
  },
  {
   "cell_type": "markdown",
   "id": "9c9996a0-2f77-49e7-a42f-0481b30ca30b",
   "metadata": {},
   "source": [
    "It will also return `False` for lists, tuples and maps without any values. "
   ]
  },
  {
   "cell_type": "code",
   "execution_count": 16,
   "id": "b0c84dcb-18ed-496d-bc19-aefc375e2edd",
   "metadata": {},
   "outputs": [
    {
     "name": "stdout",
     "output_type": "stream",
     "text": [
      "True\n"
     ]
    }
   ],
   "source": [
    "my_silly_list = ['s', 'i', 'l', 'l', 'y']\n",
    "print(bool(my_silly_list))"
   ]
  },
  {
   "cell_type": "markdown",
   "id": "712e7142-c935-4ff8-b7c6-22a5b4d63d3f",
   "metadata": {},
   "source": [
    "### A very good use case"
   ]
  },
  {
   "cell_type": "code",
   "execution_count": 18,
   "id": "8fb3dd09-51e7-48dd-ac51-5088386acfa3",
   "metadata": {},
   "outputs": [
    {
     "name": "stdout",
     "output_type": "stream",
     "text": [
      "Year of birth: \n"
     ]
    }
   ],
   "source": [
    "year = input('Year of birth: ')"
   ]
  },
  {
   "cell_type": "code",
   "execution_count": 19,
   "id": "a869c2a3-0975-4478-8790-1eeeb9d68e43",
   "metadata": {},
   "outputs": [
    {
     "name": "stdout",
     "output_type": "stream",
     "text": [
      "You need to enter a value for your year of birth\n"
     ]
    }
   ],
   "source": [
    "if not bool(year.rstrip()):\n",
    "    print('You need to enter a value for your year of birth')"
   ]
  },
  {
   "cell_type": "markdown",
   "id": "fe3a5804-39b4-411d-8f11-bad7f1d34605",
   "metadata": {},
   "source": [
    "The `rstrip` function removes any spaces and enter characters from the end of the string."
   ]
  },
  {
   "cell_type": "markdown",
   "id": "c5b54918-52c9-4b23-a37c-b560ef6db7c0",
   "metadata": {},
   "source": [
    "Update here again by learners again after private. \n"
   ]
  },
  {
   "cell_type": "code",
   "execution_count": null,
   "id": "7359da0b-1c58-4d6c-815b-ddb6f46ae3d8",
   "metadata": {},
   "outputs": [],
   "source": []
  }
 ],
 "metadata": {
  "kernelspec": {
   "display_name": "Python 3 (ipykernel)",
   "language": "python",
   "name": "python3"
  },
  "language_info": {
   "codemirror_mode": {
    "name": "ipython",
    "version": 3
   },
   "file_extension": ".py",
   "mimetype": "text/x-python",
   "name": "python",
   "nbconvert_exporter": "python",
   "pygments_lexer": "ipython3",
   "version": "3.9.7"
  }
 },
 "nbformat": 4,
 "nbformat_minor": 5
}
