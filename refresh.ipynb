{
 "cells": [
  {
   "cell_type": "markdown",
   "id": "43bdfcbb-91fa-4845-b8dc-ff873b0db269",
   "metadata": {},
   "source": [
    "# Introduction\n",
    "Coding is really fun. It can teach us valuable skills like problem-solving. In this notebook, you will relearn the fundementals of Python and work on fun projects!\n",
    "# Variables\n",
    "Variables are like labels. You can label strings, lists, tuples, maps and more! \n",
    "## Strings\n",
    "In strings, you can use placeholders like this:"
   ]
  },
  {
   "cell_type": "code",
   "execution_count": 2,
   "id": "07ed5608-64b5-43f6-ae5f-a7d86b65764e",
   "metadata": {},
   "outputs": [
    {
     "name": "stdout",
     "output_type": "stream",
     "text": [
      "Hey Dad, I got an F for Science.\n"
     ]
    }
   ],
   "source": [
    "grade = 'F'\n",
    "subject = 'Science'\n",
    "reveal = 'Hey Dad, I got an %s for %s.'\n",
    "print(reveal % (grade, subject))"
   ]
  },
  {
   "cell_type": "markdown",
   "id": "2b3a4786-0f82-433b-a077-2a05091f32a9",
   "metadata": {},
   "source": [
    "## Lists\n",
    "As we know, lists are amazing. Let's recap. "
   ]
  },
  {
   "cell_type": "code",
   "execution_count": 8,
   "id": "6b23c75f-8bbb-462b-8a29-57c7154bdf7d",
   "metadata": {},
   "outputs": [
    {
     "name": "stdout",
     "output_type": "stream",
     "text": [
      "amet\n"
     ]
    }
   ],
   "source": [
    "myList = ['lorem', 'ipsum', 'dolor', 'sit', 'amet']\n",
    "print(myList[4])"
   ]
  },
  {
   "cell_type": "markdown",
   "id": "dd00c125-797a-4927-b427-69367fa65a52",
   "metadata": {},
   "source": [
    "This is how you can append stuff into your list. "
   ]
  },
  {
   "cell_type": "code",
   "execution_count": 12,
   "id": "b6909327-b4dd-4494-bd25-5abdc4801c1b",
   "metadata": {},
   "outputs": [
    {
     "name": "stdout",
     "output_type": "stream",
     "text": [
      "['lorem', 'ipsum', 'dolor', 'sit', 'amet', 'consectetur', 'consectetur']\n"
     ]
    }
   ],
   "source": [
    "myList.append('consectetur')\n",
    "print(myList)"
   ]
  },
  {
   "cell_type": "markdown",
   "id": "ee3ce09d-ec47-4a04-83e0-c7a3ddbd93c1",
   "metadata": {},
   "source": [
    "You can even print from a range. "
   ]
  },
  {
   "cell_type": "code",
   "execution_count": 11,
   "id": "b4be05ab-498a-4589-af5a-7509ec9b2d11",
   "metadata": {},
   "outputs": [
    {
     "name": "stdout",
     "output_type": "stream",
     "text": [
      "['lorem', 'ipsum']\n"
     ]
    }
   ],
   "source": [
    "print(myList[0:2])"
   ]
  }
 ],
 "metadata": {
  "kernelspec": {
   "display_name": "Python 3 (ipykernel)",
   "language": "python",
   "name": "python3"
  },
  "language_info": {
   "codemirror_mode": {
    "name": "ipython",
    "version": 3
   },
   "file_extension": ".py",
   "mimetype": "text/x-python",
   "name": "python",
   "nbconvert_exporter": "python",
   "pygments_lexer": "ipython3",
   "version": "3.10.6"
  }
 },
 "nbformat": 4,
 "nbformat_minor": 5
}
