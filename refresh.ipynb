{
 "cells": [
  {
   "attachments": {},
   "cell_type": "markdown",
   "id": "b0c56962",
   "metadata": {},
   "source": [
    "# refresh\n",
    "\n",
    "Python is a pretty simple programming language. It's slow but safe, and writing in Python is easy."
   ]
  },
  {
   "cell_type": "code",
   "execution_count": 5,
   "id": "8c7788ff",
   "metadata": {},
   "outputs": [
    {
     "name": "stdout",
     "output_type": "stream",
     "text": [
      "hello world!\n"
     ]
    }
   ],
   "source": [
    "print(\"hello world!\")"
   ]
  },
  {
   "attachments": {},
   "cell_type": "markdown",
   "id": "3db0f202",
   "metadata": {},
   "source": [
    "### strings\n",
    "\n",
    "Wow… this is nothing like Rust!"
   ]
  },
  {
   "cell_type": "code",
   "execution_count": 1,
   "id": "47487a01",
   "metadata": {},
   "outputs": [
    {
     "name": "stdout",
     "output_type": "stream",
     "text": [
      "x is equal to 1500.\n"
     ]
    }
   ],
   "source": [
    "x = 1500\n",
    "message = \"x is equal to %s.\"\n",
    "print(message % x)"
   ]
  },
  {
   "cell_type": "code",
   "execution_count": 5,
   "id": "9092094b",
   "metadata": {},
   "outputs": [
    {
     "name": "stdout",
     "output_type": "stream",
     "text": [
      "what did 0 say to 8? nice belt! hahaha.\n"
     ]
    }
   ],
   "source": [
    "badjoke = \"what did %s say to %s? nice belt! hahaha.\"\n",
    "print(badjoke % (0, 8))"
   ]
  },
  {
   "cell_type": "code",
   "execution_count": 3,
   "id": "23851026",
   "metadata": {},
   "outputs": [
    {
     "name": "stdout",
     "output_type": "stream",
     "text": [
      "what did 0 say to 8? nice belt! hahaha.\n"
     ]
    }
   ],
   "source": [
    "print(\"what did %s say to %s? nice belt! hahaha.\" % (0, 8))"
   ]
  },
  {
   "cell_type": "code",
   "execution_count": 6,
   "id": "ec5ffc27",
   "metadata": {},
   "outputs": [
    {
     "data": {
      "text/plain": [
       "str"
      ]
     },
     "execution_count": 6,
     "metadata": {},
     "output_type": "execute_result"
    }
   ],
   "source": [
    "type(badjoke)"
   ]
  },
  {
   "attachments": {},
   "cell_type": "markdown",
   "id": "16927b3b",
   "metadata": {},
   "source": [
    "### lists\n",
    "\n",
    "Python is too easy for a Rust developer."
   ]
  },
  {
   "cell_type": "code",
   "execution_count": 24,
   "id": "abac500b",
   "metadata": {},
   "outputs": [
    {
     "name": "stdout",
     "output_type": "stream",
     "text": [
      "lewis, my one and only friend.\n"
     ]
    }
   ],
   "source": [
    "list = [\"aden\", \"lewis\", \"jayden\"]\n",
    "print(\"%s, my one and only friend.\" % list[1])"
   ]
  },
  {
   "cell_type": "code",
   "execution_count": 25,
   "id": "b7e92c79",
   "metadata": {},
   "outputs": [
    {
     "name": "stdout",
     "output_type": "stream",
     "text": [
      "hey, santino! nice to meet ya!\n"
     ]
    }
   ],
   "source": [
    "list[2] = \"santino\"\n",
    "print(\"hey, %s! nice to meet ya!\" % list[2])"
   ]
  },
  {
   "cell_type": "code",
   "execution_count": 26,
   "id": "b7a209b3",
   "metadata": {},
   "outputs": [
    {
     "name": "stdout",
     "output_type": "stream",
     "text": [
      "['aden', 'lewis']\n"
     ]
    }
   ],
   "source": [
    "print(list[0:2])"
   ]
  },
  {
   "cell_type": "code",
   "execution_count": 27,
   "id": "08f1c162",
   "metadata": {},
   "outputs": [
    {
     "name": "stdout",
     "output_type": "stream",
     "text": [
      "all my friends:  ['aden', 'lewis', 'santino', 'lumpy']\n"
     ]
    }
   ],
   "source": [
    "list.append(\"lumpy\")\n",
    "print(\"all my friends: \", list)"
   ]
  },
  {
   "cell_type": "code",
   "execution_count": 29,
   "id": "22a6c4e5",
   "metadata": {},
   "outputs": [
    {
     "name": "stdout",
     "output_type": "stream",
     "text": [
      "['aden', 'lewis', 'santino']\n"
     ]
    }
   ],
   "source": [
    "del list[3]\n",
    "print(list)"
   ]
  },
  {
   "attachments": {},
   "cell_type": "markdown",
   "id": "86c1112c",
   "metadata": {},
   "source": [
    "#### more list manipulation"
   ]
  },
  {
   "cell_type": "code",
   "execution_count": 31,
   "id": "2f626973",
   "metadata": {},
   "outputs": [
    {
     "name": "stdout",
     "output_type": "stream",
     "text": [
      "['aden', 'lewis', 'santino', 'i', \"can't\", 'wait', \"'til\", \"i'm\", 'covered', 'in', 'velvet']\n"
     ]
    }
   ],
   "source": [
    "jomie = [\"i\", \"can't\", \"wait\", \"'til\", \"i'm\", \"covered\", \"in\", \"velvet\"]\n",
    "listY = list + jomie\n",
    "print(listY)"
   ]
  },
  {
   "attachments": {},
   "cell_type": "markdown",
   "id": "1c55dc5c",
   "metadata": {},
   "source": [
    "### tuples\n",
    "But of course, Python is _too_ simple.\n",
    "\n",
    "Tuples are basically immutable lists:"
   ]
  },
  {
   "cell_type": "code",
   "execution_count": 1,
   "id": "346bdad2",
   "metadata": {},
   "outputs": [
    {
     "name": "stdout",
     "output_type": "stream",
     "text": [
      "2\n"
     ]
    }
   ],
   "source": [
    "tupleX = (5, 2, 9, 3, 3, 6)\n",
    "print(tupleX[1])"
   ]
  },
  {
   "attachments": {},
   "cell_type": "markdown",
   "id": "ceeff581",
   "metadata": {},
   "source": [
    "### maps\n",
    "Basically HashMaps but simpler."
   ]
  },
  {
   "cell_type": "code",
   "execution_count": 3,
   "id": "779bbd7e",
   "metadata": {},
   "outputs": [
    {
     "name": "stdout",
     "output_type": "stream",
     "text": [
      "Linux\n"
     ]
    }
   ],
   "source": [
    "os = {\"GNU\": \"Linux\",\n",
    "    \"BSD\": \"Darwin\",\n",
    "    \"Android\": \"Linux\"}\n",
    "print(os[\"GNU\"])"
   ]
  },
  {
   "cell_type": "code",
   "execution_count": 4,
   "id": "4cd5b12f",
   "metadata": {},
   "outputs": [
    {
     "name": "stdout",
     "output_type": "stream",
     "text": [
      "{'GNU': 'Linux', 'Android': 'Linux'}\n",
      "{'GNU': 'GUIX', 'Android': 'Linux'}\n"
     ]
    }
   ],
   "source": [
    "del(os[\"BSD\"])\n",
    "print(os)\n",
    "os[\"GNU\"] = \"GUIX\"\n",
    "print(os)"
   ]
  },
  {
   "attachments": {},
   "cell_type": "markdown",
   "id": "fd28c774",
   "metadata": {},
   "source": [
    "### conditions\n",
    "\n",
    "> Thou shalt not desire unconditional love, for there lay too many conditions. — depressed philosopher, Sham\n",
    "\n",
    "we're here. only. two more days till the competition and we're only here."
   ]
  },
  {
   "cell_type": "code",
   "execution_count": 7,
   "id": "7a026656",
   "metadata": {},
   "outputs": [
    {
     "name": "stdout",
     "output_type": "stream",
     "text": [
      "wayland is better.\n"
     ]
    }
   ],
   "source": [
    "x = 11\n",
    "if x == 11:\n",
    "    print(\"wayland is better.\")\n",
    "else:\n",
    "    print(\"you be the goat.\")"
   ]
  },
  {
   "cell_type": "code",
   "execution_count": 9,
   "id": "98f8b49d",
   "metadata": {},
   "outputs": [
    {
     "name": "stdout",
     "output_type": "stream",
     "text": [
      "oh, killian and carter jones.\n"
     ]
    }
   ],
   "source": [
    "y = \"yolo\"\n",
    "if y == \"goat\":\n",
    "    print(\"you must be aidan.\")\n",
    "elif y == \"yolo\":\n",
    "    print(\"oh, killian and carter jones.\")\n",
    "else:\n",
    "    print(\"you shall remain dazed and confused.\")"
   ]
  },
  {
   "cell_type": "code",
   "execution_count": 14,
   "id": "7bad41a9",
   "metadata": {},
   "outputs": [
    {
     "name": "stdout",
     "output_type": "stream",
     "text": [
      "but you finna get bored.\n"
     ]
    }
   ],
   "source": [
    "age = int(input(\"thou shalt enter their age.\"))\n",
    "if age >= 13 and age <= 19:\n",
    "    print(\"you kids are always influenced by emotion.\")\n",
    "else:\n",
    "    print(\"but you finna get bored.\")"
   ]
  },
  {
   "attachments": {},
   "cell_type": "markdown",
   "id": "ee8d8ae2",
   "metadata": {},
   "source": [
    "### loops\n",
    "\n",
    "> The fine threads of the looped noose were coated red. I wonder why. — that very same sad dude, Sham\n",
    "\n",
    "Save time, for the clock is ticking. Stop wasting your time reading this pitiful context."
   ]
  },
  {
   "cell_type": "code",
   "execution_count": 18,
   "id": "d2a64df7",
   "metadata": {},
   "outputs": [
    {
     "name": "stdout",
     "output_type": "stream",
     "text": [
      "0. hello\n",
      "1. hello\n",
      "2. hello\n",
      "3. hello\n",
      "4. hello\n"
     ]
    }
   ],
   "source": [
    "for x in range(0, 5):\n",
    "    print(\"%s. hello\" % x)    "
   ]
  },
  {
   "cell_type": "code",
   "execution_count": 22,
   "id": "caa5d0e0",
   "metadata": {},
   "outputs": [
    {
     "data": {
      "text/plain": [
       "[0, 1, 2, 3, 4]"
      ]
     },
     "execution_count": 22,
     "metadata": {},
     "output_type": "execute_result"
    }
   ],
   "source": [
    "list(range(0, 5))"
   ]
  },
  {
   "attachments": {},
   "cell_type": "markdown",
   "id": "466a11f9",
   "metadata": {},
   "source": [
    "Basically, `x` becomes the value in the range.\n",
    "\n",
    "In this example, `i` becomes the value of each index of the list."
   ]
  },
  {
   "cell_type": "code",
   "execution_count": 24,
   "id": "0d75d6a8",
   "metadata": {},
   "outputs": [
    {
     "name": "stdout",
     "output_type": "stream",
     "text": [
      "i\n",
      "can't\n",
      "wait\n",
      "'til\n",
      "i'm\n",
      "covered\n",
      "in\n",
      "velvet\n"
     ]
    }
   ],
   "source": [
    "jomie = [\"i\", \"can't\", \"wait\", \"'til\", \"i'm\", \"covered\", \"in\", \"velvet\"]\n",
    "for i in jomie:\n",
    "    print(i)"
   ]
  },
  {
   "attachments": {},
   "cell_type": "markdown",
   "id": "009b9911",
   "metadata": {},
   "source": [
    "#### while\n",
    "\n",
    "```\n",
    "while lewis:\n",
    "    die()\n",
    "``` "
   ]
  },
  {
   "cell_type": "code",
   "execution_count": 28,
   "id": "aa454302",
   "metadata": {},
   "outputs": [
    {
     "name": "stdout",
     "output_type": "stream",
     "text": [
      "45 80\n",
      "46 81\n",
      "47 82\n"
     ]
    }
   ],
   "source": [
    "x = 45\n",
    "y = 80\n",
    "while x < 50 and y < 100:\n",
    "    if x > 47:\n",
    "        break\n",
    "\n",
    "    print(x, y)\n",
    "\n",
    "    x += 1\n",
    "    y += 1"
   ]
  },
  {
   "attachments": {},
   "cell_type": "markdown",
   "id": "4b8c6491",
   "metadata": {},
   "source": [
    "### functions\n",
    "\n",
    "> Save me\n",
    ">\n",
    "> Nothing different when you're living in delusion\n",
    ">\n",
    "> — Jomie, Hitch"
   ]
  },
  {
   "cell_type": "code",
   "execution_count": 3,
   "id": "8e9e166f",
   "metadata": {},
   "outputs": [],
   "source": [
    "def greet(name):\n",
    "    print(\"hi, %s! how do you do?\" % name)"
   ]
  },
  {
   "cell_type": "code",
   "execution_count": 4,
   "id": "18a124a1",
   "metadata": {},
   "outputs": [
    {
     "name": "stdout",
     "output_type": "stream",
     "text": [
      "hi, lewis! how do you do?\n"
     ]
    }
   ],
   "source": [
    "greet(\"lewis\")"
   ]
  },
  {
   "cell_type": "code",
   "execution_count": 5,
   "id": "787104ca",
   "metadata": {},
   "outputs": [],
   "source": [
    "def add(one, two):\n",
    "    return one + two"
   ]
  },
  {
   "cell_type": "code",
   "execution_count": 6,
   "id": "f48e2763",
   "metadata": {},
   "outputs": [
    {
     "name": "stdout",
     "output_type": "stream",
     "text": [
      "9\n"
     ]
    }
   ],
   "source": [
    "x = add(3, 6)\n",
    "print(x)"
   ]
  },
  {
   "attachments": {},
   "cell_type": "markdown",
   "id": "eaa001df",
   "metadata": {},
   "source": [
    "### modules\n",
    "\n",
    "> you should go get it, like it's not implied — jomie, hitch"
   ]
  },
  {
   "cell_type": "code",
   "execution_count": 7,
   "id": "179090f1",
   "metadata": {},
   "outputs": [
    {
     "name": "stdout",
     "output_type": "stream",
     "text": [
      "Thu Jan 26 12:39:13 2023\n"
     ]
    }
   ],
   "source": [
    "import time\n",
    "print(time.asctime())"
   ]
  },
  {
   "cell_type": "code",
   "execution_count": 9,
   "id": "a58e1f87",
   "metadata": {},
   "outputs": [],
   "source": [
    "# import sys\n",
    "# print(sys.stdin.readline())"
   ]
  },
  {
   "cell_type": "code",
   "execution_count": 11,
   "id": "727e2202",
   "metadata": {},
   "outputs": [],
   "source": [
    "def message(age):\n",
    "    if age >= 13 and age <= 19:\n",
    "        print(\"you kids are always influenced by emotion.\")\n",
    "    else:\n",
    "        print(\"but you finna get bored.\")"
   ]
  },
  {
   "cell_type": "code",
   "execution_count": 13,
   "id": "c345ceeb",
   "metadata": {},
   "outputs": [
    {
     "name": "stdout",
     "output_type": "stream",
     "text": [
      "you kids are always influenced by emotion.\n",
      "but you finna get bored.\n"
     ]
    }
   ],
   "source": [
    "message(13)\n",
    "message(21)"
   ]
  },
  {
   "attachments": {},
   "cell_type": "markdown",
   "id": "02d04833",
   "metadata": {},
   "source": [
    "### classes\n",
    "\n",
    "> so now i stay up while you're sleeping, i know it's late but i'm fighting these demons. — jomie, everytime"
   ]
  },
  {
   "cell_type": "code",
   "execution_count": 27,
   "id": "f583a618",
   "metadata": {},
   "outputs": [
    {
     "name": "stdout",
     "output_type": "stream",
     "text": [
      "I am eating.\n"
     ]
    }
   ],
   "source": [
    "class things:\n",
    "    pass\n",
    "class living(things):\n",
    "    def eat(self, formality):\n",
    "        if formality <= 5:\n",
    "            print(\"me be eating.\")\n",
    "        else:\n",
    "            print(\"I am eating.\")\n",
    "class dead(things):\n",
    "    pass\n",
    "\n",
    "me = living()\n",
    "me.eat(9)"
   ]
  },
  {
   "cell_type": "code",
   "execution_count": 39,
   "id": "28589985",
   "metadata": {},
   "outputs": [
    {
     "name": "stdout",
     "output_type": "stream",
     "text": [
      "me be eating.\n",
      "an example of mammals would be \u001b[3mHomo sapiens\u001b[0m, like the outstanding lewis, who is warm-blooded, like you.\n",
      "i have warm blood in my veins.\n"
     ]
    }
   ],
   "source": [
    "class mammals(living):\n",
    "    def __init__(self, blood):\n",
    "        self.blood = blood\n",
    "    def example(self):\n",
    "        return(\"lewis\")\n",
    "    def neat_example(self):\n",
    "        if self.blood == \"warm\":\n",
    "            bloody = \"like\"\n",
    "        else:\n",
    "            bloody = \"unlike\"\n",
    "        print(\"an example of mammals would be \\033[3mHomo sapiens\\033[0m, like the outstanding %s, who is warm-blooded, %s you.\" % (self.example(), bloody))\n",
    "\n",
    "lewis = mammals(\"warm\")\n",
    "lewis.eat(5)\n",
    "lewis.neat_example()\n",
    "print(\"i have %s blood in my veins.\" % lewis.blood)"
   ]
  },
  {
   "attachments": {},
   "cell_type": "markdown",
   "id": "f7d8a11b",
   "metadata": {},
   "source": [
    "### built-ins\n",
    "\n",
    "finally! success brought to you by water."
   ]
  },
  {
   "cell_type": "code",
   "execution_count": 8,
   "id": "ff9df1c2",
   "metadata": {},
   "outputs": [
    {
     "name": "stdout",
     "output_type": "stream",
     "text": [
      "Help on built-in function index:\n",
      "\n",
      "index(value, start=0, stop=9223372036854775807, /) method of builtins.list instance\n",
      "    Return first index of value.\n",
      "    \n",
      "    Raises ValueError if the value is not present.\n",
      "\n",
      "2\n"
     ]
    }
   ],
   "source": [
    "music = [\"347aidan\", \"jomie\", \"powfu\", \"the mountain goats\", \"juice wrld\"]\n",
    "dir(music)\n",
    "help(music.index)\n",
    "print(music.index(\"powfu\"))"
   ]
  },
  {
   "cell_type": "code",
   "execution_count": 11,
   "id": "a2641193",
   "metadata": {},
   "outputs": [
    {
     "name": "stdout",
     "output_type": "stream",
     "text": [
      "service charge:\t\t\t$3.50\n",
      "gst:\t\t\t\t$2.80\n",
      "total cost:\t\t\t$41.30\n",
      "price each person needs to pay:\t$10.32\n"
     ]
    }
   ],
   "source": [
    "#!/usr/bin/env python3\n",
    "cost = int(input(\"enter meal cost: \"))\n",
    "people = int(input(\"enter number of people sharing the cost: \"))\n",
    "\n",
    "service_charge = cost / 10\n",
    "gst = cost * 8 / 100\n",
    "\n",
    "print(\"service charge:\\t\\t\\t${:0.2f}\".format(service_charge))\n",
    "print(\"gst:\\t\\t\\t\\t${:0.2f}\".format(gst))\n",
    "\n",
    "total_cost = cost + service_charge + gst\n",
    "print(\"total cost:\\t\\t\\t${:0.2f}\".format(total_cost))\n",
    "\n",
    "print(\"price each person needs to pay:\\t${:0.2f}\".format(total_cost / people))"
   ]
  },
  {
   "cell_type": "code",
   "execution_count": 3,
   "id": "b2967b11",
   "metadata": {},
   "outputs": [
    {
     "name": "stdout",
     "output_type": "stream",
     "text": [
      "body mass index calculator written in python3.\n",
      "your bmi is 25.44.\n",
      "Moderate risk of developing heart disease, high blood pressure, stroke, diabetes mellitus.\n"
     ]
    }
   ],
   "source": [
    "print(\"body mass index calculator written in python3.\")\n",
    "\n",
    "mass = float(input(\"enter mass in killograms: \"))\n",
    "height = float(input(\"enter height in metres: \"))\n",
    "\n",
    "bmi = mass / (height * height)\n",
    "print(\"your bmi is {:0.2f}.\".format(bmi))\n",
    "\n",
    "if bmi < 18.5:\n",
    "    print(\"Possible nutritional deficiency and osteoporosis.\")\n",
    "elif bmi < 23.0:\n",
    "    print(\"Low risk (healthy range).\")\n",
    "elif bmi < 27.5:\n",
    "    print(\"Moderate risk of developing heart disease, high blood pressure, stroke, diabetes mellitus.\")\n",
    "else:\n",
    "    print(\"High risk of developing heart disease, high blood pressure, stroke, diabetes mellitus. Metabolic Syndrome.\")"
   ]
  },
  {
   "cell_type": "code",
   "execution_count": 3,
   "id": "e97eda13",
   "metadata": {},
   "outputs": [
    {
     "name": "stdout",
     "output_type": "stream",
     "text": [
      "you are eligible for NYGH, RGS and MGS.\n"
     ]
    }
   ],
   "source": [
    "achievement_level = int(input(\"enter achievement level: \"))\n",
    "gender = input(\"enter gender (m/f/o): \")\n",
    "\n",
    "if achievement_level <= 6 and ( gender == 'f' or gender == 'F' ):\n",
    "    print(\"you are eligible for NYGH, RGS and MGS.\")"
   ]
  },
  {
   "cell_type": "code",
   "execution_count": 8,
   "id": "bb23c0d6",
   "metadata": {},
   "outputs": [
    {
     "name": "stdout",
     "output_type": "stream",
     "text": [
      "sadly, you have to pay up full price.\n"
     ]
    }
   ],
   "source": [
    "age = int(input(\"enter your age: \"))\n",
    "\n",
    "\n",
    "if age >= 60:\n",
    "    discount = True\n",
    "else:\n",
    "    student_pass = input(\"do you have a student pass (y/N)? \")\n",
    "    if student_pass == 'y' or student_pass == 'Y':\n",
    "        discount = True\n",
    "    else:\n",
    "        discount = False\n",
    "\n",
    "if discount == True:\n",
    "    print(\"you get a 50% discount! and you! and you!\")\n",
    "else:\n",
    "    print(\"sadly, you have to pay up full price.\")"
   ]
  },
  {
   "cell_type": "code",
   "execution_count": null,
   "id": "b870faae",
   "metadata": {},
   "outputs": [],
   "source": []
  }
 ],
 "metadata": {
  "kernelspec": {
   "display_name": "Python 3",
   "language": "python",
   "name": "python3"
  },
  "language_info": {
   "codemirror_mode": {
    "name": "ipython",
    "version": 3
   },
   "file_extension": ".py",
   "mimetype": "text/x-python",
   "name": "python",
   "nbconvert_exporter": "python",
   "pygments_lexer": "ipython3",
   "version": "3.11.2 (main, Feb 12 2023, 06:26:18) [Clang 14.0.0 (clang-1400.0.29.202)]"
  },
  "vscode": {
   "interpreter": {
    "hash": "5c7b89af1651d0b8571dde13640ecdccf7d5a6204171d6ab33e7c296e100e08a"
   }
  }
 },
 "nbformat": 4,
 "nbformat_minor": 5
}
