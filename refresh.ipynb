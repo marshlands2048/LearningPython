{
 "cells": [
  {
   "attachments": {},
   "cell_type": "markdown",
   "id": "b0c56962",
   "metadata": {},
   "source": [
    "# refresh\n",
    "\n",
    "Python is a pretty simple programming language. It's slow but safe, and writing in Python is easy."
   ]
  },
  {
   "cell_type": "code",
   "execution_count": 5,
   "id": "8c7788ff",
   "metadata": {},
   "outputs": [
    {
     "name": "stdout",
     "output_type": "stream",
     "text": [
      "hello world!\n"
     ]
    }
   ],
   "source": [
    "print(\"hello world!\")"
   ]
  },
  {
   "attachments": {},
   "cell_type": "markdown",
   "id": "3db0f202",
   "metadata": {},
   "source": [
    "### strings\n",
    "\n",
    "Wow… this is nothing like Rust!"
   ]
  },
  {
   "cell_type": "code",
   "execution_count": 1,
   "id": "47487a01",
   "metadata": {},
   "outputs": [
    {
     "name": "stdout",
     "output_type": "stream",
     "text": [
      "x is equal to 1500.\n"
     ]
    }
   ],
   "source": [
    "x = 1500\n",
    "message = \"x is equal to %s.\"\n",
    "print(message % x)"
   ]
  },
  {
   "cell_type": "code",
   "execution_count": 5,
   "id": "9092094b",
   "metadata": {},
   "outputs": [
    {
     "name": "stdout",
     "output_type": "stream",
     "text": [
      "what did 0 say to 8? nice belt! hahaha.\n"
     ]
    }
   ],
   "source": [
    "badjoke = \"what did %s say to %s? nice belt! hahaha.\"\n",
    "print(badjoke % (0, 8))"
   ]
  },
  {
   "cell_type": "code",
   "execution_count": 3,
   "id": "23851026",
   "metadata": {},
   "outputs": [
    {
     "name": "stdout",
     "output_type": "stream",
     "text": [
      "what did 0 say to 8? nice belt! hahaha.\n"
     ]
    }
   ],
   "source": [
    "print(\"what did %s say to %s? nice belt! hahaha.\" % (0, 8))"
   ]
  },
  {
   "cell_type": "code",
   "execution_count": 6,
   "id": "ec5ffc27",
   "metadata": {},
   "outputs": [
    {
     "data": {
      "text/plain": [
       "str"
      ]
     },
     "execution_count": 6,
     "metadata": {},
     "output_type": "execute_result"
    }
   ],
   "source": [
    "type(badjoke)"
   ]
  },
  {
   "attachments": {},
   "cell_type": "markdown",
   "id": "16927b3b",
   "metadata": {},
   "source": [
    "### lists\n",
    "\n",
    "Python is too easy for a Rust developer."
   ]
  },
  {
   "cell_type": "code",
   "execution_count": 24,
   "id": "abac500b",
   "metadata": {},
   "outputs": [
    {
     "name": "stdout",
     "output_type": "stream",
     "text": [
      "lewis, my one and only friend.\n"
     ]
    }
   ],
   "source": [
    "list = [\"aden\", \"lewis\", \"jayden\"]\n",
    "print(\"%s, my one and only friend.\" % list[1])"
   ]
  },
  {
   "cell_type": "code",
   "execution_count": 25,
   "id": "b7e92c79",
   "metadata": {},
   "outputs": [
    {
     "name": "stdout",
     "output_type": "stream",
     "text": [
      "hey, santino! nice to meet ya!\n"
     ]
    }
   ],
   "source": [
    "list[2] = \"santino\"\n",
    "print(\"hey, %s! nice to meet ya!\" % list[2])"
   ]
  },
  {
   "cell_type": "code",
   "execution_count": 26,
   "id": "b7a209b3",
   "metadata": {},
   "outputs": [
    {
     "name": "stdout",
     "output_type": "stream",
     "text": [
      "['aden', 'lewis']\n"
     ]
    }
   ],
   "source": [
    "print(list[0:2])"
   ]
  },
  {
   "cell_type": "code",
   "execution_count": 27,
   "id": "08f1c162",
   "metadata": {},
   "outputs": [
    {
     "name": "stdout",
     "output_type": "stream",
     "text": [
      "all my friends:  ['aden', 'lewis', 'santino', 'lumpy']\n"
     ]
    }
   ],
   "source": [
    "list.append(\"lumpy\")\n",
    "print(\"all my friends: \", list)"
   ]
  },
  {
   "cell_type": "code",
   "execution_count": 29,
   "id": "22a6c4e5",
   "metadata": {},
   "outputs": [
    {
     "name": "stdout",
     "output_type": "stream",
     "text": [
      "['aden', 'lewis', 'santino']\n"
     ]
    }
   ],
   "source": [
    "del list[3]\n",
    "print(list)"
   ]
  },
  {
   "attachments": {},
   "cell_type": "markdown",
   "id": "86c1112c",
   "metadata": {},
   "source": [
    "#### more list manipulation"
   ]
  },
  {
   "cell_type": "code",
   "execution_count": 31,
   "id": "2f626973",
   "metadata": {},
   "outputs": [
    {
     "name": "stdout",
     "output_type": "stream",
     "text": [
      "['aden', 'lewis', 'santino', 'i', \"can't\", 'wait', \"'til\", \"i'm\", 'covered', 'in', 'velvet']\n"
     ]
    }
   ],
   "source": [
    "jomie = [\"i\", \"can't\", \"wait\", \"'til\", \"i'm\", \"covered\", \"in\", \"velvet\"]\n",
    "listY = list + jomie\n",
    "print(listY)"
   ]
  },
  {
   "attachments": {},
   "cell_type": "markdown",
   "id": "1c55dc5c",
   "metadata": {},
   "source": [
    "### tuples\n",
    "But of course, Python is _too_ simple.\n",
    "\n",
    "Tuples are basically immutable lists:"
   ]
  },
  {
   "cell_type": "code",
   "execution_count": 1,
   "id": "346bdad2",
   "metadata": {},
   "outputs": [
    {
     "name": "stdout",
     "output_type": "stream",
     "text": [
      "2\n"
     ]
    }
   ],
   "source": [
    "tupleX = (5, 2, 9, 3, 3, 6)\n",
    "print(tupleX[1])"
   ]
  },
  {
   "attachments": {},
   "cell_type": "markdown",
   "id": "ceeff581",
   "metadata": {},
   "source": [
    "### maps\n",
    "Basically HashMaps but simpler."
   ]
  },
  {
   "cell_type": "code",
   "execution_count": 12,
   "id": "779bbd7e",
   "metadata": {},
   "outputs": [
    {
     "name": "stdout",
     "output_type": "stream",
     "text": [
      "Linux\n"
     ]
    }
   ],
   "source": [
    "os = {\"GNU\": \"Linux\",\n",
    "            \"BSD\": \"Darwin\",\n",
    "            \"Android\": \"Linux\"}\n",
    "print(os[\"GNU\"])"
   ]
  },
  {
   "cell_type": "code",
   "execution_count": 13,
   "id": "4cd5b12f",
   "metadata": {},
   "outputs": [
    {
     "name": "stdout",
     "output_type": "stream",
     "text": [
      "{'GNU': 'Linux', 'Android': 'Linux'}\n"
     ]
    }
   ],
   "source": [
    "del(os[\"BSD\"])\n",
    "print(os)\n",
    "os[\"GNU\"] = \"GUIX\""
   ]
  }
 ],
 "metadata": {
  "kernelspec": {
   "display_name": "Python 3",
   "language": "python",
   "name": "python3"
  },
  "language_info": {
   "codemirror_mode": {
    "name": "ipython",
    "version": 3
   },
   "file_extension": ".py",
   "mimetype": "text/x-python",
   "name": "python",
   "nbconvert_exporter": "python",
   "pygments_lexer": "ipython3",
   "version": "3.10.9"
  },
  "vscode": {
   "interpreter": {
    "hash": "e7370f93d1d0cde622a1f8e1c04877d8463912d04d973331ad4851f04de6915a"
   }
  }
 },
 "nbformat": 4,
 "nbformat_minor": 5
}
