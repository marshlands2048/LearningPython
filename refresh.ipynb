{
 "cells": [
  {
   "attachments": {},
   "cell_type": "markdown",
   "id": "b0c56962",
   "metadata": {},
   "source": [
    "# refresh\n",
    "\n",
    "Python is a pretty simple programming language. It's slow but safe, and writing in Python is easy."
   ]
  },
  {
   "cell_type": "code",
   "execution_count": 5,
   "id": "8c7788ff",
   "metadata": {},
   "outputs": [
    {
     "name": "stdout",
     "output_type": "stream",
     "text": [
      "hello world!\n"
     ]
    }
   ],
   "source": [
    "print(\"hello world!\")"
   ]
  },
  {
   "attachments": {},
   "cell_type": "markdown",
   "id": "3db0f202",
   "metadata": {},
   "source": [
    "### strings\n",
    "\n",
    "Wow… this is nothing like Rust!"
   ]
  },
  {
   "cell_type": "code",
   "execution_count": 1,
   "id": "47487a01",
   "metadata": {},
   "outputs": [
    {
     "name": "stdout",
     "output_type": "stream",
     "text": [
      "x is equal to 1500.\n"
     ]
    }
   ],
   "source": [
    "x = 1500\n",
    "message = \"x is equal to %s.\"\n",
    "print(message % x)"
   ]
  },
  {
   "cell_type": "code",
   "execution_count": 5,
   "id": "9092094b",
   "metadata": {},
   "outputs": [
    {
     "name": "stdout",
     "output_type": "stream",
     "text": [
      "what did 0 say to 8? nice belt! hahaha.\n"
     ]
    }
   ],
   "source": [
    "badjoke = \"what did %s say to %s? nice belt! hahaha.\"\n",
    "print(badjoke % (0, 8))"
   ]
  },
  {
   "cell_type": "code",
   "execution_count": 3,
   "id": "23851026",
   "metadata": {},
   "outputs": [
    {
     "name": "stdout",
     "output_type": "stream",
     "text": [
      "what did 0 say to 8? nice belt! hahaha.\n"
     ]
    }
   ],
   "source": [
    "print(\"what did %s say to %s? nice belt! hahaha.\" % (0, 8))"
   ]
  },
  {
   "cell_type": "code",
   "execution_count": 6,
   "id": "ec5ffc27",
   "metadata": {},
   "outputs": [
    {
     "data": {
      "text/plain": [
       "str"
      ]
     },
     "execution_count": 6,
     "metadata": {},
     "output_type": "execute_result"
    }
   ],
   "source": [
    "type(badjoke)"
   ]
  },
  {
   "attachments": {},
   "cell_type": "markdown",
   "id": "16927b3b",
   "metadata": {},
   "source": [
    "### lists\n",
    "\n",
    "Python is too easy for a Rust developer."
   ]
  },
  {
   "cell_type": "code",
   "execution_count": 24,
   "id": "abac500b",
   "metadata": {},
   "outputs": [
    {
     "name": "stdout",
     "output_type": "stream",
     "text": [
      "lewis, my one and only friend.\n"
     ]
    }
   ],
   "source": [
    "list = [\"aden\", \"lewis\", \"jayden\"]\n",
    "print(\"%s, my one and only friend.\" % list[1])"
   ]
  },
  {
   "cell_type": "code",
   "execution_count": 25,
   "id": "b7e92c79",
   "metadata": {},
   "outputs": [
    {
     "name": "stdout",
     "output_type": "stream",
     "text": [
      "hey, santino! nice to meet ya!\n"
     ]
    }
   ],
   "source": [
    "list[2] = \"santino\"\n",
    "print(\"hey, %s! nice to meet ya!\" % list[2])"
   ]
  },
  {
   "cell_type": "code",
   "execution_count": 26,
   "id": "b7a209b3",
   "metadata": {},
   "outputs": [
    {
     "name": "stdout",
     "output_type": "stream",
     "text": [
      "['aden', 'lewis']\n"
     ]
    }
   ],
   "source": [
    "print(list[0:2])"
   ]
  },
  {
   "cell_type": "code",
   "execution_count": 27,
   "id": "08f1c162",
   "metadata": {},
   "outputs": [
    {
     "name": "stdout",
     "output_type": "stream",
     "text": [
      "all my friends:  ['aden', 'lewis', 'santino', 'lumpy']\n"
     ]
    }
   ],
   "source": [
    "list.append(\"lumpy\")\n",
    "print(\"all my friends: \", list)"
   ]
  },
  {
   "cell_type": "code",
   "execution_count": 29,
   "id": "22a6c4e5",
   "metadata": {},
   "outputs": [
    {
     "name": "stdout",
     "output_type": "stream",
     "text": [
      "['aden', 'lewis', 'santino']\n"
     ]
    }
   ],
   "source": [
    "del list[3]\n",
    "print(list)"
   ]
  },
  {
   "attachments": {},
   "cell_type": "markdown",
   "id": "86c1112c",
   "metadata": {},
   "source": [
    "#### more list manipulation"
   ]
  },
  {
   "cell_type": "code",
   "execution_count": 31,
   "id": "2f626973",
   "metadata": {},
   "outputs": [
    {
     "name": "stdout",
     "output_type": "stream",
     "text": [
      "['aden', 'lewis', 'santino', 'i', \"can't\", 'wait', \"'til\", \"i'm\", 'covered', 'in', 'velvet']\n"
     ]
    }
   ],
   "source": [
    "jomie = [\"i\", \"can't\", \"wait\", \"'til\", \"i'm\", \"covered\", \"in\", \"velvet\"]\n",
    "listY = list + jomie\n",
    "print(listY)"
   ]
  },
  {
   "attachments": {},
   "cell_type": "markdown",
   "id": "1c55dc5c",
   "metadata": {},
   "source": [
    "### tuples\n",
    "But of course, Python is _too_ simple.\n",
    "\n",
    "Tuples are basically immutable lists:"
   ]
  },
  {
   "cell_type": "code",
   "execution_count": 1,
   "id": "346bdad2",
   "metadata": {},
   "outputs": [
    {
     "name": "stdout",
     "output_type": "stream",
     "text": [
      "2\n"
     ]
    }
   ],
   "source": [
    "tupleX = (5, 2, 9, 3, 3, 6)\n",
    "print(tupleX[1])"
   ]
  },
  {
   "attachments": {},
   "cell_type": "markdown",
   "id": "ceeff581",
   "metadata": {},
   "source": [
    "### maps\n",
    "Basically HashMaps but simpler."
   ]
  },
  {
   "cell_type": "code",
   "execution_count": 3,
   "id": "779bbd7e",
   "metadata": {},
   "outputs": [
    {
     "name": "stdout",
     "output_type": "stream",
     "text": [
      "Linux\n"
     ]
    }
   ],
   "source": [
    "os = {\"GNU\": \"Linux\",\n",
    "    \"BSD\": \"Darwin\",\n",
    "    \"Android\": \"Linux\"}\n",
    "print(os[\"GNU\"])"
   ]
  },
  {
   "cell_type": "code",
   "execution_count": 4,
   "id": "4cd5b12f",
   "metadata": {},
   "outputs": [
    {
     "name": "stdout",
     "output_type": "stream",
     "text": [
      "{'GNU': 'Linux', 'Android': 'Linux'}\n",
      "{'GNU': 'GUIX', 'Android': 'Linux'}\n"
     ]
    }
   ],
   "source": [
    "del(os[\"BSD\"])\n",
    "print(os)\n",
    "os[\"GNU\"] = \"GUIX\"\n",
    "print(os)"
   ]
  },
  {
   "attachments": {},
   "cell_type": "markdown",
   "id": "fd28c774",
   "metadata": {},
   "source": [
    "### conditions\n",
    "\n",
    "> Thou shalt not desire unconditional love, for there lay too many conditions. — depressed philosopher, Sham\n",
    "\n",
    "we're here. only. two more days till the competition and we're only here."
   ]
  },
  {
   "cell_type": "code",
   "execution_count": 7,
   "id": "7a026656",
   "metadata": {},
   "outputs": [
    {
     "name": "stdout",
     "output_type": "stream",
     "text": [
      "wayland is better.\n"
     ]
    }
   ],
   "source": [
    "x = 11\n",
    "if x == 11:\n",
    "    print(\"wayland is better.\")\n",
    "else:\n",
    "    print(\"you be the goat.\")"
   ]
  },
  {
   "cell_type": "code",
   "execution_count": 9,
   "id": "98f8b49d",
   "metadata": {},
   "outputs": [
    {
     "name": "stdout",
     "output_type": "stream",
     "text": [
      "oh, killian and carter jones.\n"
     ]
    }
   ],
   "source": [
    "y = \"yolo\"\n",
    "if y == \"goat\":\n",
    "    print(\"you must be aidan.\")\n",
    "elif y == \"yolo\":\n",
    "    print(\"oh, killian and carter jones.\")\n",
    "else:\n",
    "    print(\"you shall remain dazed and confused.\")"
   ]
  },
  {
   "cell_type": "code",
   "execution_count": 14,
   "id": "7bad41a9",
   "metadata": {},
   "outputs": [
    {
     "name": "stdout",
     "output_type": "stream",
     "text": [
      "but you finna get bored.\n"
     ]
    }
   ],
   "source": [
    "age = int(input(\"thou shalt enter their age.\"))\n",
    "if age >= 13 and age <= 19:\n",
    "    print(\"you kids are always influenced by emotion.\")\n",
    "else:\n",
    "    print(\"but you finna get bored.\")"
   ]
  },
  {
   "attachments": {},
   "cell_type": "markdown",
   "id": "ee8d8ae2",
   "metadata": {},
   "source": [
    "### loops\n",
    "\n",
    "> The fine threads of the looped noose were coated red. I wonder why. — that very same sad dude, Sham\n",
    "\n",
    "Save time, for the clock is ticking. Stop wasting your time reading this pitiful context."
   ]
  },
  {
   "cell_type": "code",
   "execution_count": 18,
   "id": "d2a64df7",
   "metadata": {},
   "outputs": [
    {
     "name": "stdout",
     "output_type": "stream",
     "text": [
      "0. hello\n",
      "1. hello\n",
      "2. hello\n",
      "3. hello\n",
      "4. hello\n"
     ]
    }
   ],
   "source": [
    "for x in range(0, 5):\n",
    "    print(\"%s. hello\" % x)    "
   ]
  },
  {
   "cell_type": "code",
   "execution_count": 22,
   "id": "caa5d0e0",
   "metadata": {},
   "outputs": [
    {
     "data": {
      "text/plain": [
       "[0, 1, 2, 3, 4]"
      ]
     },
     "execution_count": 22,
     "metadata": {},
     "output_type": "execute_result"
    }
   ],
   "source": [
    "list(range(0, 5))"
   ]
  },
  {
   "attachments": {},
   "cell_type": "markdown",
   "id": "466a11f9",
   "metadata": {},
   "source": [
    "Basically, `x` becomes the value in the range.\n",
    "\n",
    "In this example, `i` becomes the value of each index of the list."
   ]
  },
  {
   "cell_type": "code",
   "execution_count": 24,
   "id": "0d75d6a8",
   "metadata": {},
   "outputs": [
    {
     "name": "stdout",
     "output_type": "stream",
     "text": [
      "i\n",
      "can't\n",
      "wait\n",
      "'til\n",
      "i'm\n",
      "covered\n",
      "in\n",
      "velvet\n"
     ]
    }
   ],
   "source": [
    "jomie = [\"i\", \"can't\", \"wait\", \"'til\", \"i'm\", \"covered\", \"in\", \"velvet\"]\n",
    "for i in jomie:\n",
    "    print(i)"
   ]
  },
  {
   "attachments": {},
   "cell_type": "markdown",
   "id": "009b9911",
   "metadata": {},
   "source": [
    "#### while\n",
    "\n",
    "```\n",
    "while lewis:\n",
    "    die()\n",
    "``` "
   ]
  },
  {
   "cell_type": "code",
   "execution_count": 28,
   "id": "aa454302",
   "metadata": {},
   "outputs": [
    {
     "name": "stdout",
     "output_type": "stream",
     "text": [
      "45 80\n",
      "46 81\n",
      "47 82\n"
     ]
    }
   ],
   "source": [
    "x = 45\n",
    "y = 80\n",
    "while x < 50 and y < 100:\n",
    "    if x > 47:\n",
    "        break\n",
    "\n",
    "    print(x, y)\n",
    "\n",
    "    x += 1\n",
    "    y += 1"
   ]
  },
  {
   "attachments": {},
   "cell_type": "markdown",
   "id": "4b8c6491",
   "metadata": {},
   "source": [
    "### functions\n",
    "\n",
    "> Save me\n",
    ">\n",
    "> Nothing different when you're living in delusion\n",
    ">\n",
    "> — Jomie, Hitch"
   ]
  }
 ],
 "metadata": {
  "kernelspec": {
   "display_name": "Python 3",
   "language": "python",
   "name": "python3"
  },
  "language_info": {
   "codemirror_mode": {
    "name": "ipython",
    "version": 3
   },
   "file_extension": ".py",
   "mimetype": "text/x-python",
   "name": "python",
   "nbconvert_exporter": "python",
   "pygments_lexer": "ipython3",
   "version": "3.10.9"
  },
  "vscode": {
   "interpreter": {
    "hash": "e7370f93d1d0cde622a1f8e1c04877d8463912d04d973331ad4851f04de6915a"
   }
  }
 },
 "nbformat": 4,
 "nbformat_minor": 5
}
