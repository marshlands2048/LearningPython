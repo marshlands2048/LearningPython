{
 "cells": [
  {
   "cell_type": "markdown",
   "id": "cf84eba6-5a86-41af-8084-f03f64480cc3",
   "metadata": {
    "tags": []
   },
   "source": [
    "# Bus Arrival Time\n",
    "\n",
    "This Jupyter Notebook documents how I would utilised APIs in a real-life situation.\n",
    "\n",
    "## Getting the stuff\n",
    "\n",
    "### Using Python Requests"
   ]
  },
  {
   "cell_type": "code",
   "execution_count": 57,
   "id": "d842ce3c-cd4e-4639-a05d-642992d8950f",
   "metadata": {},
   "outputs": [],
   "source": [
    "import requests\n",
    "\n",
    "url = \"http://datamall2.mytransport.sg/ltaodataservice/BusArrivalv2?BusStopCode=43389\"\n",
    "\n",
    "payload={}\n",
    "headers = {\n",
    "  'AccountKey': 'YgpFVWKSQzatgONxbRGkyQ==',\n",
    "  'accept\\'': 'application/json'\n",
    "}\n",
    "\n",
    "response = requests.request(\"GET\", url, headers=headers, data=payload)"
   ]
  },
  {
   "cell_type": "code",
   "execution_count": 58,
   "id": "1d1f82d9-8f28-4026-9f6c-651dd2536f2d",
   "metadata": {},
   "outputs": [],
   "source": [
    "import json\n",
    "dataY = json.loads(response.text)"
   ]
  },
  {
   "cell_type": "code",
   "execution_count": 59,
   "id": "0b95238d-d466-4333-97de-52fc658d43d2",
   "metadata": {},
   "outputs": [
    {
     "name": "stdout",
     "output_type": "stream",
     "text": [
      "2022-05-29T14:29:44+08:00\n"
     ]
    }
   ],
   "source": [
    "timeX = dataY['Services'][2]['NextBus']['EstimatedArrival']\n",
    "print(timeX)"
   ]
  },
  {
   "cell_type": "markdown",
   "id": "a5ca80b0-097a-4c10-9ba1-566a4474ecc4",
   "metadata": {},
   "source": [
    "Hooray!\n",
    "\n",
    "### Processing the Data"
   ]
  },
  {
   "cell_type": "code",
   "execution_count": 60,
   "id": "28e390cd-1d02-4501-b1bc-7d67676dfee2",
   "metadata": {},
   "outputs": [
    {
     "name": "stdout",
     "output_type": "stream",
     "text": [
      "0:06:44.336428\n"
     ]
    }
   ],
   "source": [
    "from datetime import datetime\n",
    "#timeY = datetime.strptime(timeX, \"%d-%b-%Y-%H:%M:%S\")\n",
    "timeY = datetime.strptime(timeX, \"%Y-%m-%dT%H:%M:%S+08:00\")\n",
    "print(timeY - datetime.now())"
   ]
  },
  {
   "cell_type": "markdown",
   "id": "fe7b0bfd-f6ce-4e97-856e-8b557929cb83",
   "metadata": {},
   "source": [
    "## The Code"
   ]
  },
  {
   "cell_type": "code",
   "execution_count": 17,
   "id": "923e3997-db4c-4bd4-bb64-b61fe1254518",
   "metadata": {},
   "outputs": [
    {
     "data": {
      "text/plain": [
       "{'ServiceNo': '189',\n",
       " 'Operator': 'TTS',\n",
       " 'NextBus': {'OriginCode': '43009',\n",
       "  'DestinationCode': '43009',\n",
       "  'EstimatedArrival': '2022-05-29T21:53:44+08:00',\n",
       "  'Latitude': '0',\n",
       "  'Longitude': '0',\n",
       "  'VisitNumber': '1',\n",
       "  'Load': 'SEA',\n",
       "  'Feature': 'WAB',\n",
       "  'Type': 'SD'},\n",
       " 'NextBus2': {'OriginCode': '43009',\n",
       "  'DestinationCode': '43009',\n",
       "  'EstimatedArrival': '2022-05-29T22:14:44+08:00',\n",
       "  'Latitude': '0',\n",
       "  'Longitude': '0',\n",
       "  'VisitNumber': '1',\n",
       "  'Load': 'SEA',\n",
       "  'Feature': 'WAB',\n",
       "  'Type': 'SD'},\n",
       " 'NextBus3': {'OriginCode': '',\n",
       "  'DestinationCode': '',\n",
       "  'EstimatedArrival': '',\n",
       "  'Latitude': '',\n",
       "  'Longitude': '',\n",
       "  'VisitNumber': '',\n",
       "  'Load': '',\n",
       "  'Feature': '',\n",
       "  'Type': ''}}"
      ]
     },
     "execution_count": 17,
     "metadata": {},
     "output_type": "execute_result"
    }
   ],
   "source": []
  },
  {
   "cell_type": "code",
   "execution_count": 100,
   "id": "da4b71af-43c5-4f4b-a513-426084957ec1",
   "metadata": {
    "tags": []
   },
   "outputs": [
    {
     "name": "stdout",
     "output_type": "stream",
     "text": [
      "16:50\n",
      "37:50\n"
     ]
    }
   ],
   "source": [
    "import requests\n",
    "from datetime import datetime\n",
    "import json\n",
    "\n",
    "url = \"http://datamall2.mytransport.sg/ltaodataservice/BusArrivalv2?BusStopCode=43389\"\n",
    "payload={}\n",
    "headers = {\n",
    "  'AccountKey': 'YgpFVWKSQzatgONxbRGkyQ==',\n",
    "  'accept\\'': 'application/json'\n",
    "}\n",
    "response = requests.request(\"GET\", url, headers=headers, data=payload)\n",
    "dataX = json.loads(response.text)['Services'][2]\n",
    "\n",
    "timeX = datetime.strptime(dataX['NextBus']['EstimatedArrival'], \"%Y-%m-%dT%H:%M:%S+08:00\") - datetime.now()\n",
    "timeY = datetime.strptime(dataX['NextBus2']['EstimatedArrival'], \"%Y-%m-%dT%H:%M:%S+08:00\") - datetime.now()\n",
    "if len(str(dataX['NextBus3']['EstimatedArrival'])) == len(str(dataX['NextBus2']['EstimatedArrival'])):\n",
    "    timeZ = datetime.strptime(dataX['NextBus3']['EstimatedArrival'], \"%Y-%m-%dT%H:%M:%S+08:00\") - datetime.now()\n",
    "\n",
    "if len(str(timeX)) == len(str(timeY)):\n",
    "    print(str(timeX)[2:7])\n",
    "print(str(timeY)[2:7])\n",
    "if len(str(dataX['NextBus3']['EstimatedArrival'])) == len(str(dataX['NextBus2']['EstimatedArrival'])):\n",
    "    print(str(timeZ)[2:7])"
   ]
  }
 ],
 "metadata": {
  "kernelspec": {
   "display_name": "Python 3 (ipykernel)",
   "language": "python",
   "name": "python3"
  },
  "language_info": {
   "codemirror_mode": {
    "name": "ipython",
    "version": 3
   },
   "file_extension": ".py",
   "mimetype": "text/x-python",
   "name": "python",
   "nbconvert_exporter": "python",
   "pygments_lexer": "ipython3",
   "version": "3.10.4"
  }
 },
 "nbformat": 4,
 "nbformat_minor": 5
}
