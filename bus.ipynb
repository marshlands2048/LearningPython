{
 "cells": [
  {
   "cell_type": "markdown",
   "id": "cf84eba6-5a86-41af-8084-f03f64480cc3",
   "metadata": {
    "tags": []
   },
   "source": [
    "# Bus Arrival Time\n",
    "\n",
    "This Jupyter Notebook documents how I would utilised APIs in a real-life situation.\n",
    "\n",
    "## Getting the stuff\n",
    "\n",
    "### Using Python Requests"
   ]
  },
  {
   "cell_type": "code",
   "execution_count": 2,
   "id": "d842ce3c-cd4e-4639-a05d-642992d8950f",
   "metadata": {},
   "outputs": [],
   "source": [
    "import requests\n",
    "\n",
    "url = \"http://datamall2.mytransport.sg/ltaodataservice/BusArrivalv2?BusStopCode=43389\"\n",
    "\n",
    "payload={}\n",
    "headers = {\n",
    "  'AccountKey': 'YgpFVWKSQzatgONxbRGkyQ==',\n",
    "  'accept\\'': 'application/json'\n",
    "}\n",
    "\n",
    "response = requests.request(\"GET\", url, headers=headers, data=payload)"
   ]
  },
  {
   "cell_type": "code",
   "execution_count": 11,
   "id": "1d1f82d9-8f28-4026-9f6c-651dd2536f2d",
   "metadata": {},
   "outputs": [
    {
     "data": {
      "text/plain": [
       "{'odata.metadata': 'http://datamall2.mytransport.sg/ltaodataservice/$metadata#BusArrivalv2/@Element',\n",
       " 'BusStopCode': '43389',\n",
       " 'Services': [{'ServiceNo': '173',\n",
       "   'Operator': 'TTS',\n",
       "   'NextBus': {'OriginCode': '43009',\n",
       "    'DestinationCode': '43009',\n",
       "    'EstimatedArrival': '2022-05-30T21:15:54+08:00',\n",
       "    'Latitude': '0',\n",
       "    'Longitude': '0',\n",
       "    'VisitNumber': '1',\n",
       "    'Load': 'SEA',\n",
       "    'Feature': 'WAB',\n",
       "    'Type': 'SD'},\n",
       "   'NextBus2': {'OriginCode': '43009',\n",
       "    'DestinationCode': '43009',\n",
       "    'EstimatedArrival': '2022-05-30T21:30:54+08:00',\n",
       "    'Latitude': '0',\n",
       "    'Longitude': '0',\n",
       "    'VisitNumber': '1',\n",
       "    'Load': 'SEA',\n",
       "    'Feature': 'WAB',\n",
       "    'Type': 'SD'},\n",
       "   'NextBus3': {'OriginCode': '43009',\n",
       "    'DestinationCode': '43009',\n",
       "    'EstimatedArrival': '2022-05-30T21:45:54+08:00',\n",
       "    'Latitude': '0',\n",
       "    'Longitude': '0',\n",
       "    'VisitNumber': '1',\n",
       "    'Load': 'SEA',\n",
       "    'Feature': 'WAB',\n",
       "    'Type': 'SD'}},\n",
       "  {'ServiceNo': '187',\n",
       "   'Operator': 'SMRT',\n",
       "   'NextBus': {'OriginCode': '46009',\n",
       "    'DestinationCode': '22009',\n",
       "    'EstimatedArrival': '2022-05-30T21:20:54+08:00',\n",
       "    'Latitude': '1.3782268333333334',\n",
       "    'Longitude': '103.75814183333334',\n",
       "    'VisitNumber': '1',\n",
       "    'Load': 'SDA',\n",
       "    'Feature': 'WAB',\n",
       "    'Type': 'SD'},\n",
       "   'NextBus2': {'OriginCode': '46009',\n",
       "    'DestinationCode': '22009',\n",
       "    'EstimatedArrival': '2022-05-30T21:26:01+08:00',\n",
       "    'Latitude': '1.3772503333333335',\n",
       "    'Longitude': '103.77189983333334',\n",
       "    'VisitNumber': '1',\n",
       "    'Load': 'SEA',\n",
       "    'Feature': 'WAB',\n",
       "    'Type': 'DD'},\n",
       "   'NextBus3': {'OriginCode': '46009',\n",
       "    'DestinationCode': '22009',\n",
       "    'EstimatedArrival': '2022-05-30T21:38:01+08:00',\n",
       "    'Latitude': '1.4321051666666667',\n",
       "    'Longitude': '103.77463633333333',\n",
       "    'VisitNumber': '1',\n",
       "    'Load': 'SEA',\n",
       "    'Feature': 'WAB',\n",
       "    'Type': 'SD'}},\n",
       "  {'ServiceNo': '189',\n",
       "   'Operator': 'TTS',\n",
       "   'NextBus': {'OriginCode': '43009',\n",
       "    'DestinationCode': '43009',\n",
       "    'EstimatedArrival': '2022-05-30T21:08:42+08:00',\n",
       "    'Latitude': '0',\n",
       "    'Longitude': '0',\n",
       "    'VisitNumber': '1',\n",
       "    'Load': 'SEA',\n",
       "    'Feature': 'WAB',\n",
       "    'Type': 'SD'},\n",
       "   'NextBus2': {'OriginCode': '43009',\n",
       "    'DestinationCode': '43009',\n",
       "    'EstimatedArrival': '2022-05-30T21:22:42+08:00',\n",
       "    'Latitude': '0',\n",
       "    'Longitude': '0',\n",
       "    'VisitNumber': '1',\n",
       "    'Load': 'SEA',\n",
       "    'Feature': 'WAB',\n",
       "    'Type': 'DD'},\n",
       "   'NextBus3': {'OriginCode': '43009',\n",
       "    'DestinationCode': '43009',\n",
       "    'EstimatedArrival': '2022-05-30T21:45:42+08:00',\n",
       "    'Latitude': '0',\n",
       "    'Longitude': '0',\n",
       "    'VisitNumber': '1',\n",
       "    'Load': 'SEA',\n",
       "    'Feature': 'WAB',\n",
       "    'Type': 'DD'}},\n",
       "  {'ServiceNo': '941',\n",
       "   'Operator': 'TTS',\n",
       "   'NextBus': {'OriginCode': '43009',\n",
       "    'DestinationCode': '43009',\n",
       "    'EstimatedArrival': '2022-05-30T21:06:46+08:00',\n",
       "    'Latitude': '0',\n",
       "    'Longitude': '0',\n",
       "    'VisitNumber': '1',\n",
       "    'Load': 'SEA',\n",
       "    'Feature': 'WAB',\n",
       "    'Type': 'SD'},\n",
       "   'NextBus2': {'OriginCode': '43009',\n",
       "    'DestinationCode': '43009',\n",
       "    'EstimatedArrival': '2022-05-30T21:10:06+08:00',\n",
       "    'Latitude': '0',\n",
       "    'Longitude': '0',\n",
       "    'VisitNumber': '1',\n",
       "    'Load': 'SEA',\n",
       "    'Feature': 'WAB',\n",
       "    'Type': 'SD'},\n",
       "   'NextBus3': {'OriginCode': '43009',\n",
       "    'DestinationCode': '43009',\n",
       "    'EstimatedArrival': '2022-05-30T21:22:06+08:00',\n",
       "    'Latitude': '0',\n",
       "    'Longitude': '0',\n",
       "    'VisitNumber': '1',\n",
       "    'Load': 'SEA',\n",
       "    'Feature': 'WAB',\n",
       "    'Type': 'SD'}}]}"
      ]
     },
     "execution_count": 11,
     "metadata": {},
     "output_type": "execute_result"
    }
   ],
   "source": [
    "import json\n",
    "dataY = json.loads(response.text)\n",
    "json.loads(response.text)"
   ]
  },
  {
   "cell_type": "code",
   "execution_count": 4,
   "id": "0b95238d-d466-4333-97de-52fc658d43d2",
   "metadata": {},
   "outputs": [
    {
     "name": "stdout",
     "output_type": "stream",
     "text": [
      "2022-05-30T21:08:42+08:00\n"
     ]
    }
   ],
   "source": [
    "timeX = dataY['Services'][2]['NextBus']['EstimatedArrival']\n",
    "print(timeX)"
   ]
  },
  {
   "cell_type": "markdown",
   "id": "a5ca80b0-097a-4c10-9ba1-566a4474ecc4",
   "metadata": {},
   "source": [
    "Hooray!\n",
    "\n",
    "### Processing the Data"
   ]
  },
  {
   "cell_type": "code",
   "execution_count": 5,
   "id": "28e390cd-1d02-4501-b1bc-7d67676dfee2",
   "metadata": {},
   "outputs": [
    {
     "name": "stdout",
     "output_type": "stream",
     "text": [
      "0:05:41.216761\n"
     ]
    }
   ],
   "source": [
    "from datetime import datetime\n",
    "#timeY = datetime.strptime(timeX, \"%d-%b-%Y-%H:%M:%S\")\n",
    "timeY = datetime.strptime(timeX, \"%Y-%m-%dT%H:%M:%S+08:00\")\n",
    "print(timeY - datetime.now())"
   ]
  },
  {
   "cell_type": "markdown",
   "id": "fe7b0bfd-f6ce-4e97-856e-8b557929cb83",
   "metadata": {},
   "source": [
    "## The Code"
   ]
  },
  {
   "cell_type": "code",
   "execution_count": 13,
   "id": "da4b71af-43c5-4f4b-a513-426084957ec1",
   "metadata": {
    "tags": []
   },
   "outputs": [
    {
     "name": "stdout",
     "output_type": "stream",
     "text": [
      "03:47\n",
      "17:47\n",
      "40:47\n"
     ]
    }
   ],
   "source": [
    "import requests\n",
    "from datetime import datetime\n",
    "import json\n",
    "\n",
    "headers = {\n",
    "  'AccountKey': 'YgpFVWKSQzatgONxbRGkyQ==',\n",
    "  'accept\\'': 'application/json'\n",
    "}\n",
    "response = requests.request(\"GET\", \"http://datamall2.mytransport.sg/ltaodataservice/BusArrivalv2?BusStopCode=43389\", headers=headers, data={})\n",
    "dataX = json.loads(response.text)['Services'][2]\n",
    "\n",
    "if len(str(dataX['NextBus2']['EstimatedArrival'])) == 25:\n",
    "    timeX = datetime.strptime(dataX['NextBus']['EstimatedArrival'], \"%Y-%m-%dT%H:%M:%S+08:00\") - datetime.now()\n",
    "else:\n",
    "    timeX = None\n",
    "if len(str(dataX['NextBus2']['EstimatedArrival'])) == 25:\n",
    "    timeY = datetime.strptime(dataX['NextBus2']['EstimatedArrival'], \"%Y-%m-%dT%H:%M:%S+08:00\") - datetime.now()\n",
    "else:\n",
    "    timeY = None\n",
    "if len(str(dataX['NextBus3']['EstimatedArrival'])) == 25:\n",
    "    timeZ = datetime.strptime(dataX['NextBus3']['EstimatedArrival'], \"%Y-%m-%dT%H:%M:%S+08:00\") - datetime.now()\n",
    "else:\n",
    "    timeZ = None\n",
    "\n",
    "if len(str(timeX)) == 14:\n",
    "    print(str(timeX)[2:7])\n",
    "if len(str(timeY)) == 14:\n",
    "    print(str(timeY)[2:7])\n",
    "if len(str(timeZ)) == 14:\n",
    "    print(str(timeZ)[2:7])"
   ]
  },
  {
   "cell_type": "code",
   "execution_count": 10,
   "id": "276b51b6-a0e8-42bb-a51a-3dbfc107ef61",
   "metadata": {
    "tags": []
   },
   "outputs": [
    {
     "name": "stdin",
     "output_type": "stream",
     "text": [
      "Enter Bus Stop Number:  \n",
      "Enter Bus Number:  \n"
     ]
    },
    {
     "name": "stdout",
     "output_type": "stream",
     "text": [
      "189\n",
      "04:12\n",
      "18:12\n",
      "41:12\n"
     ]
    }
   ],
   "source": [
    "import requests\n",
    "from datetime import datetime\n",
    "import json\n",
    "\n",
    "busStop = input('Enter Bus Stop Number: ')\n",
    "busNumber = input('Enter Bus Number: ')\n",
    "busStop\n",
    "if busStop == '':\n",
    "    busStop = '43389'\n",
    "if busNumber == '':\n",
    "    busNumber = '189'\n",
    "\n",
    "headers = {\n",
    "  'AccountKey': 'YgpFVWKSQzatgONxbRGkyQ==',\n",
    "  'accept\\'': 'application/json'\n",
    "}\n",
    "response = requests.request(\"GET\", \"http://datamall2.mytransport.sg/ltaodataservice/BusArrivalv2?BusStopCode=%s\" % busStop, headers=headers, data={})\n",
    "\n",
    "i = 0\n",
    "for x in json.loads(response.text)['Services']:\n",
    "    if json.loads(response.text)['Services'][int(i)]['ServiceNo'] == busNumber:\n",
    "        dataX = json.loads(response.text)['Services'][int(i)]\n",
    "    else:\n",
    "        i += 1\n",
    "\n",
    "if dataX != None:\n",
    "    print(dataX['ServiceNo'])\n",
    "    \n",
    "    if len(str(dataX['NextBus2']['EstimatedArrival'])) == 25:\n",
    "        timeX = datetime.strptime(dataX['NextBus']['EstimatedArrival'], \"%Y-%m-%dT%H:%M:%S+08:00\") - datetime.now()\n",
    "    else:\n",
    "        timeX = None\n",
    "    if len(str(dataX['NextBus2']['EstimatedArrival'])) == 25:\n",
    "        timeY = datetime.strptime(dataX['NextBus2']['EstimatedArrival'], \"%Y-%m-%dT%H:%M:%S+08:00\") - datetime.now()\n",
    "    else:\n",
    "        timeY = None\n",
    "    if len(str(dataX['NextBus3']['EstimatedArrival'])) == 25:\n",
    "        timeZ = datetime.strptime(dataX['NextBus3']['EstimatedArrival'], \"%Y-%m-%dT%H:%M:%S+08:00\") - datetime.now()\n",
    "    else:\n",
    "        timeZ = None\n",
    "\n",
    "    if len(str(timeX)) == 14:\n",
    "        print(str(timeX)[2:7])\n",
    "    if len(str(timeY)) == 14:\n",
    "        print(str(timeY)[2:7])\n",
    "    if len(str(timeZ)) == 14:\n",
    "        print(str(timeZ)[2:7])"
   ]
  }
 ],
 "metadata": {
  "kernelspec": {
   "display_name": "Python 3 (ipykernel)",
   "language": "python",
   "name": "python3"
  },
  "language_info": {
   "codemirror_mode": {
    "name": "ipython",
    "version": 3
   },
   "file_extension": ".py",
   "mimetype": "text/x-python",
   "name": "python",
   "nbconvert_exporter": "python",
   "pygments_lexer": "ipython3",
   "version": "3.10.4"
  }
 },
 "nbformat": 4,
 "nbformat_minor": 5
}
