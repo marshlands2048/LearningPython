{
 "cells": [
  {
   "cell_type": "markdown",
   "id": "cf84eba6-5a86-41af-8084-f03f64480cc3",
   "metadata": {
    "tags": []
   },
   "source": [
    "# Bus Arrival Time\n",
    "\n",
    "This Jupyter Notebook documents how I would utilised APIs in a real-life situation.\n",
    "\n",
    "## Getting the stuff\n",
    "\n",
    "### Using Python Requests"
   ]
  },
  {
   "cell_type": "code",
   "execution_count": 57,
   "id": "d842ce3c-cd4e-4639-a05d-642992d8950f",
   "metadata": {},
   "outputs": [],
   "source": [
    "import requests\n",
    "\n",
    "url = \"http://datamall2.mytransport.sg/ltaodataservice/BusArrivalv2?BusStopCode=43389\"\n",
    "\n",
    "payload={}\n",
    "headers = {\n",
    "  'AccountKey': 'YgpFVWKSQzatgONxbRGkyQ==',\n",
    "  'accept\\'': 'application/json'\n",
    "}\n",
    "\n",
    "response = requests.request(\"GET\", url, headers=headers, data=payload)"
   ]
  },
  {
   "cell_type": "code",
   "execution_count": 58,
   "id": "1d1f82d9-8f28-4026-9f6c-651dd2536f2d",
   "metadata": {},
   "outputs": [],
   "source": [
    "import json\n",
    "dataY = json.loads(response.text)"
   ]
  },
  {
   "cell_type": "code",
   "execution_count": 59,
   "id": "0b95238d-d466-4333-97de-52fc658d43d2",
   "metadata": {},
   "outputs": [
    {
     "name": "stdout",
     "output_type": "stream",
     "text": [
      "2022-05-29T14:29:44+08:00\n"
     ]
    }
   ],
   "source": [
    "timeX = dataY['Services'][2]['NextBus']['EstimatedArrival']\n",
    "print(timeX)"
   ]
  },
  {
   "cell_type": "markdown",
   "id": "a5ca80b0-097a-4c10-9ba1-566a4474ecc4",
   "metadata": {},
   "source": [
    "Hooray!\n",
    "\n",
    "### Processing the Data"
   ]
  },
  {
   "cell_type": "code",
   "execution_count": 60,
   "id": "28e390cd-1d02-4501-b1bc-7d67676dfee2",
   "metadata": {},
   "outputs": [
    {
     "name": "stdout",
     "output_type": "stream",
     "text": [
      "0:06:44.336428\n"
     ]
    }
   ],
   "source": [
    "from datetime import datetime\n",
    "#timeY = datetime.strptime(timeX, \"%d-%b-%Y-%H:%M:%S\")\n",
    "timeY = datetime.strptime(timeX, \"%Y-%m-%dT%H:%M:%S+08:00\")\n",
    "print(timeY - datetime.now())"
   ]
  },
  {
   "cell_type": "markdown",
   "id": "fe7b0bfd-f6ce-4e97-856e-8b557929cb83",
   "metadata": {},
   "source": [
    "## The Code"
   ]
  },
  {
   "cell_type": "code",
   "execution_count": 17,
   "id": "923e3997-db4c-4bd4-bb64-b61fe1254518",
   "metadata": {},
   "outputs": [
    {
     "data": {
      "text/plain": [
       "{'ServiceNo': '189',\n",
       " 'Operator': 'TTS',\n",
       " 'NextBus': {'OriginCode': '43009',\n",
       "  'DestinationCode': '43009',\n",
       "  'EstimatedArrival': '2022-05-29T21:53:44+08:00',\n",
       "  'Latitude': '0',\n",
       "  'Longitude': '0',\n",
       "  'VisitNumber': '1',\n",
       "  'Load': 'SEA',\n",
       "  'Feature': 'WAB',\n",
       "  'Type': 'SD'},\n",
       " 'NextBus2': {'OriginCode': '43009',\n",
       "  'DestinationCode': '43009',\n",
       "  'EstimatedArrival': '2022-05-29T22:14:44+08:00',\n",
       "  'Latitude': '0',\n",
       "  'Longitude': '0',\n",
       "  'VisitNumber': '1',\n",
       "  'Load': 'SEA',\n",
       "  'Feature': 'WAB',\n",
       "  'Type': 'SD'},\n",
       " 'NextBus3': {'OriginCode': '',\n",
       "  'DestinationCode': '',\n",
       "  'EstimatedArrival': '',\n",
       "  'Latitude': '',\n",
       "  'Longitude': '',\n",
       "  'VisitNumber': '',\n",
       "  'Load': '',\n",
       "  'Feature': '',\n",
       "  'Type': ''}}"
      ]
     },
     "execution_count": 17,
     "metadata": {},
     "output_type": "execute_result"
    }
   ],
   "source": []
  },
  {
   "cell_type": "code",
   "execution_count": 41,
   "id": "da4b71af-43c5-4f4b-a513-426084957ec1",
   "metadata": {
    "tags": []
   },
   "outputs": [
    {
     "name": "stdout",
     "output_type": "stream",
     "text": [
      "02:20\n",
      "21:50\n",
      "42:50\n"
     ]
    }
   ],
   "source": [
    "import requests\n",
    "from datetime import datetime\n",
    "import json\n",
    "\n",
    "url = \"http://datamall2.mytransport.sg/ltaodataservice/BusArrivalv2?BusStopCode=43389\"\n",
    "payload={}\n",
    "headers = {\n",
    "  'AccountKey': 'YgpFVWKSQzatgONxbRGkyQ==',\n",
    "  'accept\\'': 'application/json'\n",
    "}\n",
    "response = requests.request(\"GET\", url, headers=headers, data=payload)\n",
    "dataX = json.loads(response.text)['Services'][2]\n",
    "\n",
    "timeX = datetime.strptime(dataX['NextBus']['EstimatedArrival'], \"%Y-%m-%dT%H:%M:%S+08:00\") - datetime.now()\n",
    "timeY = datetime.strptime(dataX['NextBus2']['EstimatedArrival'], \"%Y-%m-%dT%H:%M:%S+08:00\") - datetime.now()\n",
    "timeZ = datetime.strptime(dataX['NextBus3']['EstimatedArrival'], \"%Y-%m-%dT%H:%M:%S+08:00\") - datetime.now()\n",
    "\n",
    "if len(str(timeX)) == len(str(timeY)):\n",
    "    print(str(timeX)[2:7])\n",
    "print(str(timeY)[2:7])\n",
    "print(str(timeZ)[2:7])"
   ]
  },
  {
   "cell_type": "code",
   "execution_count": 4,
   "id": "fec64f84-1d36-42fa-b4b5-e05c1c7f521b",
   "metadata": {},
   "outputs": [
    {
     "name": "stdout",
     "output_type": "stream",
     "text": [
      "called\n"
     ]
    },
    {
     "ename": "ValueError",
     "evalue": "time data '' does not match format '%Y-%m-%dT%H:%M:%S+08:00'",
     "output_type": "error",
     "traceback": [
      "\u001b[0;31m---------------------------------------------------------------------------\u001b[0m",
      "\u001b[0;31mValueError\u001b[0m                                Traceback (most recent call last)",
      "Input \u001b[0;32mIn [4]\u001b[0m, in \u001b[0;36m<cell line: 22>\u001b[0;34m()\u001b[0m\n\u001b[1;32m     24\u001b[0m timeX \u001b[38;5;241m=\u001b[39m datetime\u001b[38;5;241m.\u001b[39mstrptime(dataX[\u001b[38;5;124m'\u001b[39m\u001b[38;5;124mServices\u001b[39m\u001b[38;5;124m'\u001b[39m][\u001b[38;5;241m2\u001b[39m][\u001b[38;5;124m'\u001b[39m\u001b[38;5;124mNextBus\u001b[39m\u001b[38;5;124m'\u001b[39m][\u001b[38;5;124m'\u001b[39m\u001b[38;5;124mEstimatedArrival\u001b[39m\u001b[38;5;124m'\u001b[39m], \u001b[38;5;124m\"\u001b[39m\u001b[38;5;124m%\u001b[39m\u001b[38;5;124mY-\u001b[39m\u001b[38;5;124m%\u001b[39m\u001b[38;5;124mm-\u001b[39m\u001b[38;5;132;01m%d\u001b[39;00m\u001b[38;5;124mT\u001b[39m\u001b[38;5;124m%\u001b[39m\u001b[38;5;124mH:\u001b[39m\u001b[38;5;124m%\u001b[39m\u001b[38;5;124mM:\u001b[39m\u001b[38;5;124m%\u001b[39m\u001b[38;5;124mS+08:00\u001b[39m\u001b[38;5;124m\"\u001b[39m) \u001b[38;5;241m-\u001b[39m datetime\u001b[38;5;241m.\u001b[39mnow()\n\u001b[1;32m     25\u001b[0m timeY \u001b[38;5;241m=\u001b[39m datetime\u001b[38;5;241m.\u001b[39mstrptime(dataX[\u001b[38;5;124m'\u001b[39m\u001b[38;5;124mServices\u001b[39m\u001b[38;5;124m'\u001b[39m][\u001b[38;5;241m2\u001b[39m][\u001b[38;5;124m'\u001b[39m\u001b[38;5;124mNextBus2\u001b[39m\u001b[38;5;124m'\u001b[39m][\u001b[38;5;124m'\u001b[39m\u001b[38;5;124mEstimatedArrival\u001b[39m\u001b[38;5;124m'\u001b[39m], \u001b[38;5;124m\"\u001b[39m\u001b[38;5;124m%\u001b[39m\u001b[38;5;124mY-\u001b[39m\u001b[38;5;124m%\u001b[39m\u001b[38;5;124mm-\u001b[39m\u001b[38;5;132;01m%d\u001b[39;00m\u001b[38;5;124mT\u001b[39m\u001b[38;5;124m%\u001b[39m\u001b[38;5;124mH:\u001b[39m\u001b[38;5;124m%\u001b[39m\u001b[38;5;124mM:\u001b[39m\u001b[38;5;124m%\u001b[39m\u001b[38;5;124mS+08:00\u001b[39m\u001b[38;5;124m\"\u001b[39m) \u001b[38;5;241m-\u001b[39m datetime\u001b[38;5;241m.\u001b[39mnow()\n\u001b[0;32m---> 26\u001b[0m timeZ \u001b[38;5;241m=\u001b[39m \u001b[43mdatetime\u001b[49m\u001b[38;5;241;43m.\u001b[39;49m\u001b[43mstrptime\u001b[49m\u001b[43m(\u001b[49m\u001b[43mdataX\u001b[49m\u001b[43m[\u001b[49m\u001b[38;5;124;43m'\u001b[39;49m\u001b[38;5;124;43mServices\u001b[39;49m\u001b[38;5;124;43m'\u001b[39;49m\u001b[43m]\u001b[49m\u001b[43m[\u001b[49m\u001b[38;5;241;43m2\u001b[39;49m\u001b[43m]\u001b[49m\u001b[43m[\u001b[49m\u001b[38;5;124;43m'\u001b[39;49m\u001b[38;5;124;43mNextBus3\u001b[39;49m\u001b[38;5;124;43m'\u001b[39;49m\u001b[43m]\u001b[49m\u001b[43m[\u001b[49m\u001b[38;5;124;43m'\u001b[39;49m\u001b[38;5;124;43mEstimatedArrival\u001b[39;49m\u001b[38;5;124;43m'\u001b[39;49m\u001b[43m]\u001b[49m\u001b[43m,\u001b[49m\u001b[43m \u001b[49m\u001b[38;5;124;43m\"\u001b[39;49m\u001b[38;5;124;43m%\u001b[39;49m\u001b[38;5;124;43mY-\u001b[39;49m\u001b[38;5;124;43m%\u001b[39;49m\u001b[38;5;124;43mm-\u001b[39;49m\u001b[38;5;132;43;01m%d\u001b[39;49;00m\u001b[38;5;124;43mT\u001b[39;49m\u001b[38;5;124;43m%\u001b[39;49m\u001b[38;5;124;43mH:\u001b[39;49m\u001b[38;5;124;43m%\u001b[39;49m\u001b[38;5;124;43mM:\u001b[39;49m\u001b[38;5;124;43m%\u001b[39;49m\u001b[38;5;124;43mS+08:00\u001b[39;49m\u001b[38;5;124;43m\"\u001b[39;49m\u001b[43m)\u001b[49m \u001b[38;5;241m-\u001b[39m datetime\u001b[38;5;241m.\u001b[39mnow()\n\u001b[1;32m     27\u001b[0m \u001b[38;5;28;01mif\u001b[39;00m \u001b[38;5;28mlen\u001b[39m(\u001b[38;5;28mstr\u001b[39m(timeX)) \u001b[38;5;241m==\u001b[39m \u001b[38;5;28mlen\u001b[39m(\u001b[38;5;28mstr\u001b[39m(timeY)):\n\u001b[1;32m     28\u001b[0m     \u001b[38;5;28mprint\u001b[39m(\u001b[38;5;28mstr\u001b[39m(timeX)[\u001b[38;5;241m2\u001b[39m:\u001b[38;5;241m7\u001b[39m])\n",
      "File \u001b[0;32m/Library/Frameworks/Python.framework/Versions/3.10/lib/python3.10/_strptime.py:568\u001b[0m, in \u001b[0;36m_strptime_datetime\u001b[0;34m(cls, data_string, format)\u001b[0m\n\u001b[1;32m    565\u001b[0m \u001b[38;5;28;01mdef\u001b[39;00m \u001b[38;5;21m_strptime_datetime\u001b[39m(\u001b[38;5;28mcls\u001b[39m, data_string, \u001b[38;5;28mformat\u001b[39m\u001b[38;5;241m=\u001b[39m\u001b[38;5;124m\"\u001b[39m\u001b[38;5;132;01m%a\u001b[39;00m\u001b[38;5;124m \u001b[39m\u001b[38;5;124m%\u001b[39m\u001b[38;5;124mb \u001b[39m\u001b[38;5;132;01m%d\u001b[39;00m\u001b[38;5;124m \u001b[39m\u001b[38;5;124m%\u001b[39m\u001b[38;5;124mH:\u001b[39m\u001b[38;5;124m%\u001b[39m\u001b[38;5;124mM:\u001b[39m\u001b[38;5;124m%\u001b[39m\u001b[38;5;124mS \u001b[39m\u001b[38;5;124m%\u001b[39m\u001b[38;5;124mY\u001b[39m\u001b[38;5;124m\"\u001b[39m):\n\u001b[1;32m    566\u001b[0m     \u001b[38;5;124;03m\"\"\"Return a class cls instance based on the input string and the\u001b[39;00m\n\u001b[1;32m    567\u001b[0m \u001b[38;5;124;03m    format string.\"\"\"\u001b[39;00m\n\u001b[0;32m--> 568\u001b[0m     tt, fraction, gmtoff_fraction \u001b[38;5;241m=\u001b[39m \u001b[43m_strptime\u001b[49m\u001b[43m(\u001b[49m\u001b[43mdata_string\u001b[49m\u001b[43m,\u001b[49m\u001b[43m \u001b[49m\u001b[38;5;28;43mformat\u001b[39;49m\u001b[43m)\u001b[49m\n\u001b[1;32m    569\u001b[0m     tzname, gmtoff \u001b[38;5;241m=\u001b[39m tt[\u001b[38;5;241m-\u001b[39m\u001b[38;5;241m2\u001b[39m:]\n\u001b[1;32m    570\u001b[0m     args \u001b[38;5;241m=\u001b[39m tt[:\u001b[38;5;241m6\u001b[39m] \u001b[38;5;241m+\u001b[39m (fraction,)\n",
      "File \u001b[0;32m/Library/Frameworks/Python.framework/Versions/3.10/lib/python3.10/_strptime.py:349\u001b[0m, in \u001b[0;36m_strptime\u001b[0;34m(data_string, format)\u001b[0m\n\u001b[1;32m    347\u001b[0m found \u001b[38;5;241m=\u001b[39m format_regex\u001b[38;5;241m.\u001b[39mmatch(data_string)\n\u001b[1;32m    348\u001b[0m \u001b[38;5;28;01mif\u001b[39;00m \u001b[38;5;129;01mnot\u001b[39;00m found:\n\u001b[0;32m--> 349\u001b[0m     \u001b[38;5;28;01mraise\u001b[39;00m \u001b[38;5;167;01mValueError\u001b[39;00m(\u001b[38;5;124m\"\u001b[39m\u001b[38;5;124mtime data \u001b[39m\u001b[38;5;132;01m%r\u001b[39;00m\u001b[38;5;124m does not match format \u001b[39m\u001b[38;5;132;01m%r\u001b[39;00m\u001b[38;5;124m\"\u001b[39m \u001b[38;5;241m%\u001b[39m\n\u001b[1;32m    350\u001b[0m                      (data_string, \u001b[38;5;28mformat\u001b[39m))\n\u001b[1;32m    351\u001b[0m \u001b[38;5;28;01mif\u001b[39;00m \u001b[38;5;28mlen\u001b[39m(data_string) \u001b[38;5;241m!=\u001b[39m found\u001b[38;5;241m.\u001b[39mend():\n\u001b[1;32m    352\u001b[0m     \u001b[38;5;28;01mraise\u001b[39;00m \u001b[38;5;167;01mValueError\u001b[39;00m(\u001b[38;5;124m\"\u001b[39m\u001b[38;5;124munconverted data remains: \u001b[39m\u001b[38;5;132;01m%s\u001b[39;00m\u001b[38;5;124m\"\u001b[39m \u001b[38;5;241m%\u001b[39m\n\u001b[1;32m    353\u001b[0m                       data_string[found\u001b[38;5;241m.\u001b[39mend():])\n",
      "\u001b[0;31mValueError\u001b[0m: time data '' does not match format '%Y-%m-%dT%H:%M:%S+08:00'"
     ]
    }
   ],
   "source": [
    "import requests\n",
    "import json\n",
    "from datetime import datetime\n",
    "from time import time, sleep\n",
    "\n",
    "def callAPI():\n",
    "    response = requests.request(\"GET\", url, headers=headers, data=payload)\n",
    "    dataX = json.loads(response.text)\n",
    "    print('called')\n",
    "\n",
    "url = \"http://datamall2.mytransport.sg/ltaodataservice/BusArrivalv2?BusStopCode=43389\"\n",
    "payload={}\n",
    "headers = {\n",
    "  'AccountKey': 'YgpFVWKSQzatgONxbRGkyQ==',\n",
    "  'accept\\'': 'application/json'\n",
    "}\n",
    "\n",
    "callAPI()\n",
    "\n",
    "fetch = 0\n",
    "\n",
    "while True:\n",
    "    sleep(1 - time() % 1)\n",
    "    timeX = datetime.strptime(dataX['Services'][2]['NextBus']['EstimatedArrival'], \"%Y-%m-%dT%H:%M:%S+08:00\") - datetime.now()\n",
    "    timeY = datetime.strptime(dataX['Services'][2]['NextBus2']['EstimatedArrival'], \"%Y-%m-%dT%H:%M:%S+08:00\") - datetime.now()\n",
    "    timeZ = datetime.strptime(dataX['Services'][2]['NextBus3']['EstimatedArrival'], \"%Y-%m-%dT%H:%M:%S+08:00\") - datetime.now()\n",
    "    if len(str(timeX)) == len(str(timeY)):\n",
    "        print(str(timeX)[2:7])\n",
    "    print(str(timeY)[2:7])\n",
    "    print(str(timeZ)[2:7])\n",
    "    fetch += 1\n",
    "    if fetch == 60:\n",
    "        callAPI()"
   ]
  },
  {
   "cell_type": "code",
   "execution_count": null,
   "id": "dd6bbe1d-f1bc-41f0-89d6-8165f8dfa86d",
   "metadata": {},
   "outputs": [],
   "source": []
  }
 ],
 "metadata": {
  "kernelspec": {
   "display_name": "Python 3 (ipykernel)",
   "language": "python",
   "name": "python3"
  },
  "language_info": {
   "codemirror_mode": {
    "name": "ipython",
    "version": 3
   },
   "file_extension": ".py",
   "mimetype": "text/x-python",
   "name": "python",
   "nbconvert_exporter": "python",
   "pygments_lexer": "ipython3",
   "version": "3.10.4"
  }
 },
 "nbformat": 4,
 "nbformat_minor": 5
}
