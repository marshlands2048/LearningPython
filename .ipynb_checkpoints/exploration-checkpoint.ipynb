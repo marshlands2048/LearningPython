{
 "cells": [
  {
   "cell_type": "markdown",
   "id": "c64a5510",
   "metadata": {
    "tags": []
   },
   "source": [
    "# About This Notebook\n",
    "This is `exploration`, the Jupyter Notebook where we try out new pieces of code from _Python for Kids_. We do not copy down **any** notes, except for our own observations and thoughts on where this can be applied.\n",
    "# Creating a New Game: Bounce!\n",
    "## Part 1: The ball\n",
    "First, we create a Game Canvas!"
   ]
  },
  {
   "cell_type": "code",
   "execution_count": null,
   "id": "070d00cf",
   "metadata": {},
   "outputs": [],
   "source": [
    "from tkinter import *\n",
    "import random\n",
    "import time\n",
    "tk = Tk()\n",
    "tk.title('Game')\n",
    "tk.resizable(0, 0)\n",
    "tk.wm_attributes(\"-topmost\", 1)\n",
    "canvas = Canvas(tk, width=500, height=400, bd=0, highlightthickness=0)\n",
    "canvas.pack()\n",
    "tk.update()"
   ]
  },
  {
   "cell_type": "markdown",
   "id": "41828e63",
   "metadata": {
    "tags": []
   },
   "source": [
    "What's going on here?!\n",
    "\n",
    "We titled the `tkinter` window 'Game'.\n",
    "\n",
    "Then, we used `resizable` to make the window a fixed size. The parameters `0, 0` say “the size of the window cannot be changed either horizontally or vertically.” \n",
    "\n",
    "Next, we call `wm_attributes` to tell `tkinter` to place \n",
    "the window containing our canvas in front of all other windows \n",
    "(`\"-topmost\"`). \n",
    "\n",
    "Both `bd=0` and `highlightthickness=0` make sure that there’s no border around the outside of the canvas. _FYI, `canvas.pack` tells the canvas to size itself according to the width and height parameters given in the preceding (previous) line._ \n",
    "\n",
    "_BTW, `tk.update` makes `tkinter` initialise itself for animations._\n",
    "\n",
    "## Creating the Ball Class"
   ]
  },
  {
   "cell_type": "code",
   "execution_count": null,
   "id": "81f14051",
   "metadata": {},
   "outputs": [],
   "source": [
    "class Ball:\n",
    "    def __init__(self, canvas, color):\n",
    "        self.canvas = canvas\n",
    "        self.id = canvas.create_oval(10, 10, 25, 25, fill=color)\n",
    "        self.canvas.move(self.id, 245, 100)\n",
    "    def draw(self):\n",
    "        pass"
   ]
  },
  {
   "cell_type": "markdown",
   "id": "05e1c0fd",
   "metadata": {},
   "source": [
    "This has to be added after importing the three modules. \n",
    "\n",
    "We create an oval (or ball) at line 4. We store the identifierof the oval in `id`. \n",
    "\n",
    "The ball moves to the centre.\n",
    "\n",
    "Then, we define `draw(self)` and pass it."
   ]
  },
  {
   "cell_type": "code",
   "execution_count": null,
   "id": "46ec2bd6",
   "metadata": {},
   "outputs": [],
   "source": [
    "ball = Ball(canvas, 'red')"
   ]
  },
  {
   "cell_type": "code",
   "execution_count": null,
   "id": "7ab8fa02",
   "metadata": {},
   "outputs": [],
   "source": [
    "while 1:\n",
    "    tk.update_idletasks()\n",
    "    tk.update()\n",
    "    time.sleep(0.01)"
   ]
  },
  {
   "cell_type": "markdown",
   "id": "ec4650a4",
   "metadata": {},
   "source": [
    "This creates a ball. \n",
    "\n",
    "Boom! And this loop will run forever! Just as we learnt when creating animations, this enables animations. `tl.update_idletasks()` tell `tkinter` to quickly refresh the canvas, just like `update`. The differece is... idk.\n",
    "\n",
    "### Making the Ball Move"
   ]
  },
  {
   "cell_type": "code",
   "execution_count": null,
   "id": "4be36e24",
   "metadata": {},
   "outputs": [],
   "source": [
    "class Ball:\n",
    "    def __init__(self, canvas, color):\n",
    "        self.canvas = canvas\n",
    "        self.id = canvas.create_oval(10, 10, 25, 25, fill=color)\n",
    "        self.canvas.move(self.id, 245, 100)\n",
    "    def draw(self):\n",
    "        self.canvas.move(self.id, 0, -1)"
   ]
  },
  {
   "cell_type": "code",
   "execution_count": null,
   "id": "06ea00c5",
   "metadata": {},
   "outputs": [],
   "source": [
    "while 1:\n",
    "    ball.draw()\n",
    "    tk.update_idletasks()\n",
    "    tk.update()\n",
    "    time.sleep(0.01)"
   ]
  },
  {
   "cell_type": "markdown",
   "id": "fda2e12b",
   "metadata": {},
   "source": [
    "Now, the ball will just float up to nowhere and vanish. This is the right flow of the code:"
   ]
  },
  {
   "cell_type": "code",
   "execution_count": null,
   "id": "fc1e71bd",
   "metadata": {},
   "outputs": [],
   "source": [
    "from tkinter import *\n",
    "import random\n",
    "import time"
   ]
  },
  {
   "cell_type": "code",
   "execution_count": null,
   "id": "84bd49bd",
   "metadata": {},
   "outputs": [],
   "source": [
    "class Ball:\n",
    "    def __init__(self, canvas, color):\n",
    "        self.canvas = canvas\n",
    "        self.id = canvas.create_oval(10, 10, 25, 25, fill=color)\n",
    "        self.canvas.move(self.id, 245, 100)\n",
    "    def draw(self):\n",
    "        self.canvas.move(self.id, 0, -1)"
   ]
  },
  {
   "cell_type": "code",
   "execution_count": null,
   "id": "4d3c7c7d",
   "metadata": {},
   "outputs": [],
   "source": [
    "tk = Tk()\n",
    "tk.title('Game')\n",
    "tk.resizable(0, 0)\n",
    "tk.wm_attributes(\"-topmost\", 1)\n",
    "canvas = Canvas(tk, width=500, height=400, bd=0, highlightthickness=0)\n",
    "canvas.pack()\n",
    "tk.update()"
   ]
  },
  {
   "cell_type": "code",
   "execution_count": null,
   "id": "87113c0d",
   "metadata": {},
   "outputs": [],
   "source": [
    "ball = Ball(canvas, 'red')"
   ]
  },
  {
   "cell_type": "code",
   "execution_count": null,
   "id": "14481562",
   "metadata": {},
   "outputs": [],
   "source": [
    "while 1:\n",
    "    ball.draw()\n",
    "    tk.update_idletasks()\n",
    "    tk.update()\n",
    "    time.sleep(0.01)"
   ]
  },
  {
   "cell_type": "markdown",
   "id": "f189b08b",
   "metadata": {},
   "source": [
    "### Making the Ball Bounce"
   ]
  },
  {
   "cell_type": "code",
   "execution_count": null,
   "id": "1be3dd17",
   "metadata": {},
   "outputs": [],
   "source": [
    "class Ball:\n",
    "    def __init__(self, canvas, color):\n",
    "        self.canvas = canvas\n",
    "        self.id = canvas.create_oval(10, 10, 25, 25, fill=color)\n",
    "        self.canvas.move(self.id, 245, 100)\n",
    "        # We added these 3 lines!\n",
    "        self.x = 0\n",
    "        self.y = -1\n",
    "        self.canvas_height = self.canvas.winfo_height()\n",
    "    def draw(self):\n",
    "        self.canvas.move(self.id, self.x, self.y)\n",
    "        pos = self.canvas.coords(self.id)\n",
    "        if pos[1] <= 0:\n",
    "            self.y = 1 \n",
    "        if pos[3] >= self.canvas_height:\n",
    "            self.y = -1"
   ]
  },
  {
   "cell_type": "markdown",
   "id": "bb487d73",
   "metadata": {},
   "source": [
    "`winfo_height` returns the height of the canvas.\n",
    "`pos` gets the value of `self.canvas.coords(self.id)`, which is a function that returns the coordinates of an object on the screen as a list of 4 numbers, like this:\n",
    "\n",
    "`print(self.canvas.coords(self.id))\n",
    "[255.0, 29.0, 270.0, 44.0]`.\n",
    "\n",
    "The numbers are in this order: x1 (the left of the ball), y1 (top), x2 (right), y2 (bottom).\n",
    "\n",
    "Now, the ball should bounce up and down!"
   ]
  },
  {
   "cell_type": "code",
   "execution_count": null,
   "id": "5277b1b5",
   "metadata": {},
   "outputs": [],
   "source": [
    "class Ball:\n",
    "    def __init__(self, canvas, color):\n",
    "        self.canvas = canvas\n",
    "        self.id = canvas.create_oval(10, 10, 25, 25, fill=color)\n",
    "        self.canvas.move(self.id, 245, 100)\n",
    "        # We replace\n",
    "        # self.x = 0    and\n",
    "        # self.y = -1    with\n",
    "        starts = [-3, -2, -1, 1, 2, 3]\n",
    "        self.x = starts[random.randrange(5)]\n",
    "        self.y = -3\n",
    "        # The ball will now move in a random angle.\n",
    "        self.canvas_height = self.canvas.winfo_height()\n",
    "        self.canvas_width = self.canvas.winfo_width()\n",
    "    def draw(self):\n",
    "        self.canvas.move(self.id, self.x, self.y)\n",
    "        pos = self.canvas.coords(self.id)\n",
    "        if pos[1] <= 0:\n",
    "            self.y = 1 \n",
    "        if pos[3] >= self.canvas_height:\n",
    "            self.y = -1\n",
    "        if pos[0] <= 0:\n",
    "            self.x = 3\n",
    "        if pos[2] >= self.canvas_width:\n",
    "            self.x = -3"
   ]
  },
  {
   "cell_type": "markdown",
   "id": "e874c33f",
   "metadata": {},
   "source": [
    "Here it is:"
   ]
  },
  {
   "cell_type": "code",
   "execution_count": null,
   "id": "9bc87fe0",
   "metadata": {},
   "outputs": [],
   "source": [
    "from tkinter import *\n",
    "import random\n",
    "import time\n",
    "class Ball:\n",
    "    def __init__(self, canvas, color):\n",
    "        self.canvas = canvas\n",
    "        self.id = canvas.create_oval(10, 10, 25, 25, fill=color)\n",
    "        self.canvas.move(self.id, 245, 100)\n",
    "        starts = [-3, -2, -1, 1, 2, 3]\n",
    "        self.x = starts[random.randrange(5)]\n",
    "        self.y = -3\n",
    "        self.canvas_height = self.canvas.winfo_height()\n",
    "        self.canvas_width = self.canvas.winfo_width()\n",
    "    def draw(self):\n",
    "        self.canvas.move(self.id, self.x, self.y)\n",
    "        pos = self.canvas.coords(self.id)\n",
    "        if pos[1] <= 0:\n",
    "            self.y = 1 \n",
    "        if pos[3] >= self.canvas_height:\n",
    "            self.y = -1\n",
    "        if pos[0] <= 0:\n",
    "            self.x = 3\n",
    "        if pos[2] >= self.canvas_width:\n",
    "            self.x = -3\n",
    "tk = Tk()\n",
    "tk.title('Game')\n",
    "tk.resizable(0, 0)\n",
    "tk.wm_attributes(\"-topmost\", 1)\n",
    "canvas = Canvas(tk, width=500, height=400, bd=0, highlightthickness=0)\n",
    "canvas.pack()\n",
    "tk.update()\n",
    "ball = Ball(canvas, 'red')\n",
    "while 1:\n",
    "    ball.draw()\n",
    "    tk.update_idletasks()\n",
    "    tk.update()\n",
    "    time.sleep(0.01666666666)"
   ]
  },
  {
   "cell_type": "markdown",
   "id": "cbd70610",
   "metadata": {
    "tags": []
   },
   "source": [
    "And this is not exactly the game you expected. But it is a new milestone! And it's still not over!\n",
    "\n",
    "## Part 2: Finishing The Game!\n",
    "### Adding a Paddle Which The Users Can Move"
   ]
  },
  {
   "cell_type": "code",
   "execution_count": null,
   "id": "824b65da",
   "metadata": {},
   "outputs": [],
   "source": [
    "from tkinter import *\n",
    "import random\n",
    "import time\n",
    "class Ball:\n",
    "    def __init__(self, canvas, color):\n",
    "        self.canvas = canvas\n",
    "        self.id = canvas.create_oval(10, 10, 25, 25, fill=color)\n",
    "        self.canvas.move(self.id, 245, 100)\n",
    "        starts = [-3, -2, -1, 1, 2, 3]\n",
    "        self.x = starts[random.randrange(5)]\n",
    "        self.y = -3\n",
    "        self.canvas_height = self.canvas.winfo_height()\n",
    "        self.canvas_width = self.canvas.winfo_width()\n",
    "    def draw(self):\n",
    "        self.canvas.move(self.id, self.x, self.y)\n",
    "        pos = self.canvas.coords(self.id)\n",
    "        if pos[1] <= 0:\n",
    "            self.y = 1 \n",
    "        if pos[3] >= self.canvas_height:\n",
    "            self.y = -1\n",
    "        if pos[0] <= 0:\n",
    "            self.x = 3\n",
    "        if pos[2] >= self.canvas_width:\n",
    "            self.x = -3\n",
    "            \n",
    "            \n",
    "# We add this:\n",
    "\n",
    "class Paddle:\n",
    "    def __init__(self, canvas, color):\n",
    "        self.canvas = canvas\n",
    "        self.id = canvas.create_rectangle(0, 0, 100, 10, fill=color)\n",
    "        self.canvas.move(self.id, 200, 300)\n",
    "        self.x = 0\n",
    "        self.canvas_width = self.canvas.winfo_width()\n",
    "        self.canvas.bind_all('<KeyPress-Left>', self.turn_left)\n",
    "        self.canvas.bind_all('<KeyPress-Right>', self.turn_right)\n",
    "    def draw(self):\n",
    "        self.canvas.move(self.id, self.x, 0)\n",
    "        pos = self.canvas.coords(self.id)\n",
    "        if pos[0] <= 0:\n",
    "            self.x = 0\n",
    "        elif pos[2] >= self.canvas_width:\n",
    "            self.x = 0    \n",
    "    def turn_left(self, evt):\n",
    "            self.x = -2\n",
    "    def turn_right(self, evt):\n",
    "        self.x = 2\n",
    "    \n",
    "    \n",
    "tk = Tk()\n",
    "tk.title('Game')\n",
    "tk.resizable(0, 0)\n",
    "tk.wm_attributes(\"-topmost\", 1)\n",
    "canvas = Canvas(tk, width=500, height=400, bd=0, highlightthickness=0)\n",
    "canvas.pack()\n",
    "tk.update()\n",
    "\n",
    "# We add this line of code:\n",
    "paddle = Paddle(canvas, 'blue')\n",
    "\n",
    "ball = Ball(canvas, 'red')\n",
    "while 1:\n",
    "    ball.draw()\n",
    "    \n",
    "    # We add this line:\n",
    "    paddle.draw()   \n",
    "    \n",
    "    tk.update_idletasks()\n",
    "    tk.update()\n",
    "    time.sleep(0.01666666666)"
   ]
  },
  {
   "cell_type": "markdown",
   "id": "583b2ce3",
   "metadata": {},
   "source": [
    "### Allowing the ball to bounce off the paddle"
   ]
  },
  {
   "cell_type": "code",
   "execution_count": null,
   "id": "7a68f8e7",
   "metadata": {},
   "outputs": [],
   "source": [
    "from tkinter import *\n",
    "import random\n",
    "import time\n",
    "class Ball:\n",
    "    \n",
    "    # We modified this line of code:\n",
    "    def __init__(self, canvas, paddle, color):\n",
    "        \n",
    "        self.canvas = canvas\n",
    "        \n",
    "        # We added this line:\n",
    "        self.paddle = paddle\n",
    "        # We used this paddle object when adding the paddle\n",
    "        \n",
    "        self.id = canvas.create_oval(10, 10, 25, 25, fill=color)\n",
    "        self.canvas.move(self.id, 245, 100)\n",
    "        starts = [-3, -2, -1, 1, 2, 3]\n",
    "        self.x = starts[random.randrange(5)]\n",
    "        self.y = -2\n",
    "        self.canvas_height = self.canvas.winfo_height()\n",
    "        self.canvas_width = self.canvas.winfo_width()\n",
    "        \n",
    "        # We create the hit_paddle function to be used later here:\n",
    "    def hit_paddle(self, pos):\n",
    "        paddle_pos = self.canvas.coords(self.paddle.id)\n",
    "        if pos[2] >= paddle_pos[0] and pos[0] <= paddle_pos[2]:\n",
    "            if pos[3] >= paddle_pos[1] and pos[3] <= paddle_pos[3]:\n",
    "                return True\n",
    "        return False\n",
    "\n",
    "    def draw(self):\n",
    "        self.canvas.move(self.id, self.x, self.y)\n",
    "        pos = self.canvas.coords(self.id)\n",
    "        if pos[1] <= 0:\n",
    "            self.y = 2\n",
    "        if pos[3] >= self.canvas_height:\n",
    "            self.y = -2\n",
    "        \n",
    "        # We added this condition\n",
    "        if self.hit_paddle(pos) == True:\n",
    "            self.y = -2\n",
    "        \n",
    "        if pos[0] <= 0:\n",
    "            self.x = 2\n",
    "        if pos[2] >= self.canvas_width:\n",
    "            self.x = -2\n",
    "class Paddle:\n",
    "    def __init__(self, canvas, color):\n",
    "        self.canvas = canvas\n",
    "        self.id = canvas.create_rectangle(0, 0, 100, 10, fill=color)\n",
    "        self.canvas.move(self.id, 200, 300)\n",
    "        self.x = 0\n",
    "        self.canvas_width = self.canvas.winfo_width()\n",
    "        self.canvas.bind_all('<KeyPress-Left>', self.turn_left)\n",
    "        self.canvas.bind_all('<KeyPress-Right>', self.turn_right)\n",
    "    def draw(self):\n",
    "        self.canvas.move(self.id, self.x, 0)\n",
    "        pos = self.canvas.coords(self.id)\n",
    "        if pos[0] <= 0:\n",
    "            self.x = 0\n",
    "        elif pos[2] >= self.canvas_width:\n",
    "            self.x = 0    \n",
    "    def turn_left(self, evt):\n",
    "            self.x = -1\n",
    "    def turn_right(self, evt):\n",
    "        self.x = 1\n",
    "tk = Tk()\n",
    "tk.title('Game')\n",
    "tk.resizable(0, 0)\n",
    "tk.wm_attributes(\"-topmost\", 1)\n",
    "canvas = Canvas(tk, width=500, height=400, bd=0, highlightthickness=0)\n",
    "canvas.pack()\n",
    "tk.update()\n",
    "paddle = Paddle(canvas, 'blue')\n",
    "\n",
    "# Modified this line:\n",
    "ball = Ball(canvas, paddle, 'red')\n",
    "\n",
    "while 1:\n",
    "    ball.draw()\n",
    "    paddle.draw()   \n",
    "    tk.update_idletasks()\n",
    "    tk.update()\n",
    "    time.sleep(0.0083333333333333)"
   ]
  },
  {
   "cell_type": "markdown",
   "id": "c3077c2d",
   "metadata": {
    "tags": []
   },
   "source": [
    "It works like expected, duh! The frame rate is very disgusting but I don't care!"
   ]
  },
  {
   "cell_type": "code",
   "execution_count": null,
   "id": "7e03a930-4965-440f-8368-0b83d5b6e436",
   "metadata": {},
   "outputs": [],
   "source": [
    "from tkinter import *\n",
    "import random\n",
    "import time\n",
    "class Ball:\n",
    "    def __init__(self, canvas, paddle, color):\n",
    "        self.canvas = canvas\n",
    "        self.paddle = paddle\n",
    "        self.id = canvas.create_oval(10, 10, 25, 25, fill=color)\n",
    "        self.canvas.move(self.id, 245, 100)\n",
    "        starts = [-3, -2, -1, 1, 2, 3]\n",
    "        self.x = starts[random.randrange(5)]\n",
    "        self.y = -2\n",
    "        self.canvas_height = self.canvas.winfo_height()\n",
    "        self.canvas_width = self.canvas.winfo_width()\n",
    "        self.hit_bottom = False\n",
    "    def hit_paddle(self, pos):\n",
    "        paddle_pos = self.canvas.coords(self.paddle.id)\n",
    "        if pos[2] >= paddle_pos[0] and pos[0] <= paddle_pos[2]:\n",
    "            if pos[3] >= paddle_pos[1] and pos[3] <= paddle_pos[3]:\n",
    "                return True\n",
    "        return False\n",
    "    def draw(self):\n",
    "        self.canvas.move(self.id, self.x, self.y)\n",
    "        pos = self.canvas.coords(self.id)\n",
    "        if pos[1] <= 0:\n",
    "            self.y = 2\n",
    "        if pos[3] >= self.canvas_height:\n",
    "            self.y = -2\n",
    "        if pos[3] >= self.canvas_height:\n",
    "            self.hit_bottom = True\n",
    "        if self.hit_paddle(pos) == True:\n",
    "            self.y = -2\n",
    "        if pos[0] <= 0:\n",
    "            self.x = 2\n",
    "        if pos[2] >= self.canvas_width:\n",
    "            self.x = -2\n",
    "class Paddle:\n",
    "    def __init__(self, canvas, color):\n",
    "        self.canvas = canvas\n",
    "        self.id = canvas.create_rectangle(0, 0, 100, 10, fill=color)\n",
    "        self.canvas.move(self.id, 200, 300)\n",
    "        self.x = 0\n",
    "        self.canvas_width = self.canvas.winfo_width()\n",
    "        self.canvas.bind_all('<KeyPress-Left>', self.turn_left)\n",
    "        self.canvas.bind_all('<KeyPress-Right>', self.turn_right)\n",
    "    def draw(self):\n",
    "        self.canvas.move(self.id, self.x, 0)\n",
    "        pos = self.canvas.coords(self.id)\n",
    "        if pos[0] <= 0:\n",
    "            self.x = 0\n",
    "        elif pos[2] >= self.canvas_width:\n",
    "            self.x = 0    \n",
    "    def turn_left(self, evt):\n",
    "        self.x = -1\n",
    "    def turn_right(self, evt):\n",
    "        self.x = 1\n",
    "tk = Tk()\n",
    "tk.title('Game')\n",
    "tk.resizable(0, 0)\n",
    "tk.wm_attributes(\"-topmost\", 1)\n",
    "canvas = Canvas(tk, width=500, height=400, bd=0, highlightthickness=0)\n",
    "canvas.pack()\n",
    "tk.update()\n",
    "paddle = Paddle(canvas, 'blue')\n",
    "ball = Ball(canvas, paddle, 'red')\n",
    "while ball.hit_bottom == False:\n",
    "    ball.draw()\n",
    "    paddle.draw()\n",
    "    tk.update_idletasks()\n",
    "    tk.update()\n",
    "    time.sleep(0.0083333333333333)"
   ]
  },
  {
   "cell_type": "code",
   "execution_count": null,
   "id": "bbdd43a8-28d0-431a-8e25-d4f9559f5928",
   "metadata": {},
   "outputs": [],
   "source": [
    "from tkinter import *\n",
    "import random\n",
    "import time\n",
    "class Ball:\n",
    "    def __init__(self, canvas, paddle, color):\n",
    "        self.canvas = canvas\n",
    "        self.paddle = paddle\n",
    "        self.id = canvas.create_oval(10, 10, 25, 25, fill=color)\n",
    "        self.canvas.move(self.id, 245, 100)\n",
    "        starts = [-3, -2, -1, 1, 2, 3]\n",
    "        self.x = starts[random.randrange(5)]\n",
    "        self.y = -2\n",
    "        self.canvas_height = self.canvas.winfo_height()\n",
    "        self.canvas_width = self.canvas.winfo_width()\n",
    "        self.hit_bottom = False\n",
    "    def hit_paddle(self, pos):\n",
    "        paddle_pos = self.canvas.coords(self.paddle.id)\n",
    "        if pos[2] >= paddle_pos[0] and pos[0] <= paddle_pos[2] and pos[3] >= paddle_pos[1] and pos[3] <= paddle_pos[3]:\n",
    "            return True\n",
    "        else:\n",
    "            return False\n",
    "    def draw(self):\n",
    "        self.canvas.move(self.id, self.x, self.y)\n",
    "        pos = self.canvas.coords(self.id)\n",
    "        if pos[1] <= 0:\n",
    "            self.y = 1\n",
    "        if pos[3] >= self.canvas_height:\n",
    "            self.y = -1\n",
    "        if pos[3] >= self.canvas_height:\n",
    "            self.hit_bottom = True\n",
    "        if self.hit_paddle(pos) == True:\n",
    "            self.y = -1\n",
    "        if pos[0] <= 0:\n",
    "            self.x = 1\n",
    "        if pos[2] >= self.canvas_width:\n",
    "            self.x = -1\n",
    "class Paddle:\n",
    "    def __init__(self, canvas, color):\n",
    "        self.canvas = canvas\n",
    "        self.id = canvas.create_rectangle(0, 0, 100, 10, fill=color)\n",
    "        self.canvas.move(self.id, 200, 300)\n",
    "        self.x = 0\n",
    "        self.canvas_width = self.canvas.winfo_width()\n",
    "        self.canvas.bind_all('<KeyPress-Left>', self.turn_left)\n",
    "        self.canvas.bind_all('<KeyPress-Right>', self.turn_right)\n",
    "    def draw(self):\n",
    "        self.canvas.move(self.id, self.x, 0)\n",
    "        pos = self.canvas.coords(self.id)\n",
    "        if pos[0] <= 0:\n",
    "            self.x = 0\n",
    "        elif pos[2] >= self.canvas_width:\n",
    "            self.x = 0    \n",
    "    def turn_left(self, evt):\n",
    "        self.x = -1\n",
    "    def turn_right(self, evt):\n",
    "        self.x = 1\n",
    "tk = Tk()\n",
    "tk.title('Game')\n",
    "tk.resizable(0, 0)\n",
    "tk.wm_attributes(\"-topmost\", 1)\n",
    "canvas = Canvas(tk, width=500, height=400, bd=0, highlightthickness=0)\n",
    "canvas.pack()\n",
    "tk.update()\n",
    "paddle = Paddle(canvas, 'blue')\n",
    "ball = Ball(canvas, paddle, 'red')\n",
    "while ball.hit_bottom == False:\n",
    "    ball.draw()\n",
    "    paddle.draw()\n",
    "    tk.update_idletasks()\n",
    "    tk.update()\n",
    "    time.sleep(0.0083333333333333)"
   ]
  },
  {
   "cell_type": "markdown",
   "id": "fe3ef611-e289-490d-8afc-29cdf36b0296",
   "metadata": {},
   "source": [
    "# A More Graphically Intensive Game\n",
    "Watch out for the release of this amazing, open-source game, courtesy of Jason R. Briggs. \n",
    "_This may be coded outside of JupyterLab due to some compatibility issues._\n",
    "\n",
    "# TiddlyWiki Markdown Wiki Link Generator\n",
    "TiddlyWiki is amazing. Markdown is amazing. But the two have not fully come to terms with each other. In the TiddlyWiki editor, you could link a wiki using `[[wiki]]`, while the Markdown editor plugin requires this: `[my wiki](#my%20wiki)`"
   ]
  },
  {
   "cell_type": "code",
   "execution_count": null,
   "id": "c7115c34-e302-4f46-bd07-2bc5595639bb",
   "metadata": {},
   "outputs": [],
   "source": [
    "import urllib.parse"
   ]
  },
  {
   "cell_type": "code",
   "execution_count": null,
   "id": "3726eb63-6a72-4964-a300-41b1797f30df",
   "metadata": {},
   "outputs": [],
   "source": [
    "wiki = input(\"Enter the name of your wiki: \")"
   ]
  },
  {
   "cell_type": "code",
   "execution_count": null,
   "id": "16ab479b-60f9-494d-81b2-2165575b2e38",
   "metadata": {},
   "outputs": [],
   "source": [
    "urllib.parse.quote(wiki)"
   ]
  },
  {
   "cell_type": "code",
   "execution_count": null,
   "id": "c87a1194-5366-45ad-9e88-1265e6d7f1b2",
   "metadata": {},
   "outputs": [],
   "source": [
    "print('#' + urllib.parse.quote(wiki))"
   ]
  },
  {
   "cell_type": "markdown",
   "id": "62b34acf-d3cf-4260-880e-c8c4e7a20eb1",
   "metadata": {},
   "source": [
    "## The Code"
   ]
  },
  {
   "cell_type": "code",
   "execution_count": null,
   "id": "4a4904a3-2ee2-4d1d-9a4f-6a9e001242f4",
   "metadata": {},
   "outputs": [],
   "source": [
    "import urllib.parse\n",
    "wiki = input(\"Enter the name of your wiki: \")\n",
    "print('[' + wiki + \"](#\" + urllib.parse.quote(wiki) + ')')"
   ]
  },
  {
   "cell_type": "markdown",
   "id": "34424fd0-2e16-40d0-a133-0aba9f20efde",
   "metadata": {},
   "source": [
    "I used `sys.stdin.read()[0:-1]` in the final Python script so that I can directly give the input by piping and copy the output as a one-liner:\n",
    "\n",
    "```\n",
    "echo \"SST Inc. Application\" | python3 ~/LearningPython/wiki.py | pbcopy\n",
    "```\n",
    "\n",
    "I will create a shell script that will make entering the text simpler once I finish my course on `zsh`. Using it would look somewhat like this:\n",
    "\n",
    "```\n",
    "➜  ~ wikilink \"SST Inc. Application\"\n",
    "Copied the output, \"[SST Inc. Application](#SST%20Inc.%20Application)\", to clipboard.\n",
    "```\n",
    "\n",
    "# Loops"
   ]
  },
  {
   "cell_type": "code",
   "execution_count": null,
   "id": "39d36355-cbe3-4da8-a1f4-d4aadf439363",
   "metadata": {},
   "outputs": [],
   "source": [
    "import time\n",
    "i = \"Hello World\"\n",
    "for x in range(1, 5):\n",
    "    print(i)\n",
    "    time.sleep(2)"
   ]
  },
  {
   "cell_type": "code",
   "execution_count": null,
   "id": "d7b9d71b-2fb3-473b-874f-6ccc888d5859",
   "metadata": {},
   "outputs": [],
   "source": [
    "import time, datetime\n",
    "timeX = datetime.datetime.strptime(input(\"timeX: \"), \"%H:%M:%S\")\n",
    "timeY = datetime.datetime.strptime(input(\"timeY: \"), \"%H:%M:%S\")\n",
    "timeX = datetime.timedelta(minutes=timeX.minute, seconds=timeX.second, microseconds=timeX.microsecond)\n",
    "timeY = datetime.timedelta(minutes=timeY.minute, seconds=timeY.second, microseconds=timeY.microsecond)\n",
    "total = timeX + timeY\n",
    "print(total)"
   ]
  },
  {
   "cell_type": "code",
   "execution_count": null,
   "id": "3e6f9967-be5e-400d-9268-17cf30114fb2",
   "metadata": {},
   "outputs": [],
   "source": [
    "import time, datetime\n",
    "timestamp = 1660540128.345\n",
    "datetime.datetime.strftime((datetime.datetime.fromtimestamp(timestamp)), \"%d %B %Y %H:%M:%S\")"
   ]
  },
  {
   "cell_type": "markdown",
   "id": "29c195ff-0048-44c0-88cf-78cc70944429",
   "metadata": {},
   "source": [
    "| symbol | value           | example                  |\n",
    "|--------|-----------------|--------------------------|\n",
    "| `%Y`   | long year       | 2009                     |\n",
    "| `%y`   | short year      | 09                       |\n",
    "| `%-y`  | shorter year    | 9                        |\n",
    "| `%B`   | long month      | February                 |\n",
    "| `%b`   | month           | Feb                      |\n",
    "| `%m`   | short month     | 02                       |\n",
    "| `%-m`  | shorter month   | 2                        |\n",
    "| `%A`   | long day        | Monday                   |\n",
    "| `%a`   | day of week     | Mon                      |\n",
    "| `%w`   | short weekday   | 1                        |\n",
    "| `%d`   | day of month    | 02                       |\n",
    "| `%-d`  | shorter day     | 2                        |\n",
    "| `%H`   | 24-hour         | 04                       |\n",
    "| `%-H`  | shorter 24-hour | 4                        |\n",
    "| `%I`   | 12-hour         | 04                       |\n",
    "| `%-I`  | shorter 12-hour | 4                        |\n",
    "| `%M`   | minutes         | 00                       |\n",
    "| `%-M`  | shorter minutes | 0                        |\n",
    "| `%S`   | seconds         | 00                       |\n",
    "| `%-S`  | shorter seconds | 0                        |\n",
    "| `%f`   | microseconds    | 000000                   |\n",
    "| `%p`   | AM or PM        | AM                       |\n",
    "| `%j`   | day of year     | 040                      |\n",
    "| `%-j`  | shorter day     | 40                       |\n",
    "| `%z`   | UTC offset      |                          |\n",
    "| `%Z`   | timezone        |                          |\n",
    "| `%C`   | locale format   | Mon Feb 02 04:00:00 2009 |\n",
    "| `%x`   | locale date     | 09/02/09                 |\n",
    "| `%X`   | locale time     | 04:00:00                 |\n",
    "| `%U`   | week number     | 00-53                    |\n"
   ]
  },
  {
   "cell_type": "code",
   "execution_count": null,
   "id": "9e7a1264-82e9-4a4e-bdbc-340872a9f824",
   "metadata": {},
   "outputs": [],
   "source": [
    "import datetime\n",
    "timeX = datetime.datetime.strptime(\"2009_02_09\", \"%Y_%m_%d\")\n",
    "print(datetime.datetime.strftime(timeX, \"%C\"))"
   ]
  },
  {
   "cell_type": "markdown",
   "id": "bf9e638b-575e-4224-b546-d6d2d2f60adc",
   "metadata": {},
   "source": [
    "# weather api"
   ]
  },
  {
   "cell_type": "code",
   "execution_count": null,
   "id": "78c5a431-18e7-4d9d-912b-fb08a5d0937b",
   "metadata": {},
   "outputs": [],
   "source": [
    "import requests, json, datetime\n",
    "\n",
    "url = \"https://weatherbit-v1-mashape.p.rapidapi.com/forecast/minutely\"\n",
    "\n",
    "querystring = {\"lat\":\"1.352083\",\"lon\":\"103.819839\",\"units\":\"metric\"}\n",
    "\n",
    "headers = {\n",
    "\t\"X-RapidAPI-Key\": \"9f6584c2c2msh63ac2d41c55d738p112069jsnbe3bd68c79c4\",\n",
    "\t\"X-RapidAPI-Host\": \"weatherbit-v1-mashape.p.rapidapi.com\"\n",
    "}\n",
    "\n",
    "response = requests.request(\"GET\", url, headers=headers, params=querystring)\n",
    "\n",
    "# json.loads(response.text)\n",
    "\n",
    "dataX = json.loads(response.text)\n"
   ]
  },
  {
   "cell_type": "code",
   "execution_count": null,
   "id": "447340a1-8854-4f58-9a13-3d1524702b58",
   "metadata": {},
   "outputs": [],
   "source": [
    "# time = datetime.datetime.strftime(datetime.datetime.today(), \"%Y-%m-%dT%H:%M:%S\")\n",
    "# print(time)\n",
    "# print(dataX[\"data\"][0][\"timestamp_local\"])\n",
    "# y = 0\n",
    "    \n",
    "# while dataX[\"data\"][y][\"timestamp_local\"] != time:\n",
    "#     print(y)\n",
    "#     y += 1\n",
    "\n",
    "# for x in dataX[\"data\"]:\n",
    "#     print(y)\n",
    "#     if dataX[\"data\"][y][\"timestamp_utc\"] == time:\n",
    "#         print(dataX[\"data\"][y][\"timestamp_utc\"])\n",
    "#         break\n",
    "#     y += 1\n"
   ]
  },
  {
   "cell_type": "code",
   "execution_count": null,
   "id": "30cf21cc-2958-4567-99d5-582ef7c2e05e",
   "metadata": {},
   "outputs": [],
   "source": [
    "json.loads(response.text)"
   ]
  },
  {
   "cell_type": "code",
   "execution_count": null,
   "id": "95244a66-3d33-400d-91f9-f5db32ef987b",
   "metadata": {},
   "outputs": [],
   "source": [
    "print(\"temperature: \" + str(dataX[\"data\"][0][\"temp\"]) + \"ºC\")\n",
    "print(\"precipitation: \" + str(dataX[\"data\"][0][\"precip\"]) + \" mm\")"
   ]
  },
  {
   "cell_type": "markdown",
   "id": "15de348f-5a43-4ede-95cd-25de2daf3c62",
   "metadata": {},
   "source": [
    "# simplify file names\n",
    "\n",
    "this script will help to make file names more concise."
   ]
  },
  {
   "cell_type": "code",
   "execution_count": 42,
   "id": "1aea2206-b938-4ba0-b1f4-6341e4e78721",
   "metadata": {},
   "outputs": [
    {
     "name": "stdin",
     "output_type": "stream",
     "text": [
      "enter file name to convert –\n"
     ]
    },
    {
     "name": "stdout",
     "output_type": "stream",
     "text": [
      "–\n",
      "–\n"
     ]
    }
   ],
   "source": [
    "old = input(\"enter file name to convert\")\n",
    "newer = old\n",
    "\n",
    "# lowercase\n",
    "newer = old.lower()\n",
    "\n",
    "# geography\n",
    "# if newer[0:6] == \"theme \":\n",
    "#     newer = newer[6:]\n",
    "#     if newer[0].isnumeric == True and newer[1].isnumeric:\n",
    "#         newer = \"0\" + newer\n",
    "#     print(newer)\n",
    "\n",
    "# replace non-ascii characters\n",
    "\n",
    "dict={\n",
    "    '–': '-',\n",
    "    '—': '-',\n",
    "    '(': '- ',\n",
    "    ')': '',\n",
    "}\n",
    "\n",
    "# for x in newer:\n",
    "#     print(x)\n",
    "#     x == dict.get(x)\n",
    "    \n",
    "# print(newer)\n",
    "        "
   ]
  }
 ],
 "metadata": {
  "kernelspec": {
   "display_name": "Python 3 (ipykernel)",
   "language": "python",
   "name": "python3"
  },
  "language_info": {
   "codemirror_mode": {
    "name": "ipython",
    "version": 3
   },
   "file_extension": ".py",
   "mimetype": "text/x-python",
   "name": "python",
   "nbconvert_exporter": "python",
   "pygments_lexer": "ipython3",
   "version": "3.10.6"
  }
 },
 "nbformat": 4,
 "nbformat_minor": 5
}
